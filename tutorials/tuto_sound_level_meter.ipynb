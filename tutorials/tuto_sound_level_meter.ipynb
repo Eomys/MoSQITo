{
 "cells": [
  {
   "cell_type": "markdown",
   "metadata": {
    "toc": true
   },
   "source": [
    "<h1>Table of Contents<span class=\"tocSkip\"></span></h1>\n",
    "<div class=\"toc\"><ul class=\"toc-item\"><li><span><a href=\"#Types-of-calculations\" data-toc-modified-id=\"Using-the-scripting-interface-1\"><span class=\"toc-item-num\">1&nbsp;&nbsp;</span>Types of calculations</a></span><ul class=\"toc-item\"><li><span><a href=\"#Calculate-by-third-octave\" data-toc-modified-id=\"Calculate-by-third-octave-1.1\"><span class=\"toc-item-num\">1.1&nbsp;&nbsp;</span>Calculate by third octave</a></span></li><li><span><a href=\"#Calculate-by-time-samples\" data-toc-modified-id=\"Calculate-by-time-samples-1.2\"><span class=\"toc-item-num\">1.2&nbsp;&nbsp;</span>Calculate by time samples</a></span></li></ul></li><li><span><a href=\"#Functions-of-the-sound-level-meter\" data-toc-modified-id=\"Functions-of-the-sound-level-meter-2\"><span class=\"toc-item-num\">2&nbsp;&nbsp;</span>Functions of the sound level meter</a></span><ul class=\"toc-item\"><li><span><a href=\"#spectrum_3oct_dB\" data-toc-modified-id=\"spectrum_3oct_dB-2.1\"><span class=\"toc-item-num\">2.1&nbsp;&nbsp;</span>spectrum_3oct_dB</a></span></li><li><span><a href=\"#spectrum_3oct_dBA\" data-toc-modified-id=\"spectrum_3oct_dBA-2.2\"><span class=\"toc-item-num\">2.2&nbsp;&nbsp;</span>spectrum_3oct_dBA</a></span></li><li><span><a href=\"#spectrum_3oct_dBC\" data-toc-modified-id=\"spectrum_3oct_dBC-2.3\"><span class=\"toc-item-num\">2.3&nbsp;&nbsp;</span>spectrum_3oct_dBC</a></span></li><li><span><a href=\"#Max_level\" data-toc-modified-id=\"Max_level-2.4\"><span class=\"toc-item-num\">2.4&nbsp;&nbsp;</span>Max_level</a></span><ul class=\"toc-item\"><li><span><a href=\"#max_level_3oct\" data-toc-modified-id=\"#max_level_3oct\">max_level_3oct</a></span></li><li><span><a href=\"#max_level\" data-toc-modified-id=\"#max_level\">max_level</a></span></li></ul></li><li><span><a href=\"#Min_level\" data-toc-modified-id=\"Min_level-2.5\"><span class=\"toc-item-num\">2.5&nbsp;&nbsp;</span>Min_level</a></span><ul class=\"toc-item\"><li><span><a href=\"#min_level_3oct\" data-toc-modified-id=\"#min_level_3oct\">min_level_3oct</a></span></li><li><span><a href=\"#min_level\" data-toc-modified-id=\"#min_level\">min_level</a></span></li></ul></li><li><span><a href=\"#LN(Percentile)\" data-toc-modified-id=\"LN(Percentile)-2.6\"><span class=\"toc-item-num\">2.6&nbsp;&nbsp;</span>LN(Percentile)</a></span><ul class=\"toc-item\"></ul></li></ul></li></ul></div>"
   ]
  },
  {
   "cell_type": "markdown",
   "metadata": {},
   "source": [
    "\n",
    "# How to compute the functions of sound level meter\n",
    "This tutorial explains how to use MoSQITo to compute the functions of the sound level meter. There are two types of functions: Those that work with Third Octaves and those that work with time samples. Users can calculate either by focusing on frequency bands or by focusing on representative values of a signal. \n",
    "\n",
    "## Types of calculations\n",
    "### Calculate by third octave \n",
    "This tutorial explains how these functions operate. Each function calculates the value given by the function name from a .wav file (e.g. spectrum_3oct_dB calculates the spectrum in Thirds of an Octave, in dB, from a .wav file). These functions are recognisable because they have the suffix \"_3oct\" written in the name.\n",
    "\n",
    "This kind of functions have the peculiarity of being able to split your .wav file in as many time segments as you want, the only condition is that the segments must have the same duration. For example if you have a 30 seconds .wav file you can split it into three .wav files of 10 seconds each and then decide which of these fragments to insert in the function. This allows you to \"delete\" one of the fragments, this, for example, you may want to do if this fragment is contaminated.\n",
    "\n",
    "If you don't want to fragment it, you would simply enter the .wav without fragmenting it. Let's create an input array for these functions:\n",
    "\n",
    "\n",
    "\n",
    "#### Attention!!!!!\n",
    "\n",
    "The signals entered as input parameters for the calculation must be the parts OF THE SAME SIGNAL (they must all be from the same .wav file), three different signals are used in the tutorial just as an example. For the functions to work correctly, our .wav file must be split into segments of the same length. For example, split a 30 second file into three 10 second files. These three new .wav files correspond to the input signals entered."
   ]
  },
  {
   "cell_type": "code",
   "execution_count": 1,
   "metadata": {
    "scrolled": false
   },
   "outputs": [
    {
     "ename": "ModuleNotFoundError",
     "evalue": "No module named 'mosqito.utils.load'",
     "output_type": "error",
     "traceback": [
      "\u001b[1;31m---------------------------------------------------------------------------\u001b[0m",
      "\u001b[1;31mModuleNotFoundError\u001b[0m                       Traceback (most recent call last)",
      "\u001b[1;32m~\\AppData\\Local\\Temp\\ipykernel_7524\\3171805681.py\u001b[0m in \u001b[0;36m<module>\u001b[1;34m\u001b[0m\n\u001b[0;32m      3\u001b[0m \u001b[1;33m\u001b[0m\u001b[0m\n\u001b[0;32m      4\u001b[0m \u001b[1;31m# Local imports\u001b[0m\u001b[1;33m\u001b[0m\u001b[1;33m\u001b[0m\u001b[0m\n\u001b[1;32m----> 5\u001b[1;33m \u001b[1;32mfrom\u001b[0m \u001b[0mmosqito\u001b[0m\u001b[1;33m.\u001b[0m\u001b[0mutils\u001b[0m\u001b[1;33m.\u001b[0m\u001b[0mload\u001b[0m \u001b[1;32mimport\u001b[0m \u001b[0mload\u001b[0m\u001b[1;33m\u001b[0m\u001b[1;33m\u001b[0m\u001b[0m\n\u001b[0m\u001b[0;32m      6\u001b[0m \u001b[1;33m\u001b[0m\u001b[0m\n\u001b[0;32m      7\u001b[0m \u001b[1;31m# Define the path of all the signals you want for the input array. In this case we test with 3 different signals.\u001b[0m\u001b[1;33m\u001b[0m\u001b[1;33m\u001b[0m\u001b[0m\n",
      "\u001b[1;31mModuleNotFoundError\u001b[0m: No module named 'mosqito.utils.load'"
     ]
    }
   ],
   "source": [
    "# Third party imports\n",
    "import numpy as np\n",
    "\n",
    "# Local imports\n",
    "from mosqito.utils.load import load\n",
    "\n",
    "# Define the path of all the signals you want for the input array. In this case we test with 3 different signals.\n",
    "#Pink noise\n",
    "path_1 = \"../tests/input/349312__newagesoup__pink-noise-10s.wav\"\n",
    "#White noise\n",
    "path_2 = \"../tests/input/349315__newagesoup__white-noise-10s.wav\"\n",
    "#Pure tone at 1000 HZ\n",
    "path_3 = \"../tests/input/554329__patobottos__beep-sound-of-1000-hz.wav\"\n",
    "\n",
    "# We get the data in Pa and the sampling frequency of all the signals with the help of the Load function.\n",
    "#Pink noise\n",
    "print (\"First signal:\")\n",
    "sig_1, fs_1 = load(path_1)\n",
    "print(\"----------------------\")\n",
    "#White noise\n",
    "print (\"Second signal:\")\n",
    "sig_2, fs_2 = load(path_2)\n",
    "print(\"----------------------\")\n",
    "#Pure tone at 1000 Hz\n",
    "print (\"Third signal:\")\n",
    "sig_3, fs_3 = load(path_3)\n"
   ]
  },
  {
   "cell_type": "markdown",
   "metadata": {},
   "source": [
    "This is what the input array looks like:"
   ]
  },
  {
   "cell_type": "code",
   "execution_count": 2,
   "metadata": {},
   "outputs": [
    {
     "name": "stdout",
     "output_type": "stream",
     "text": [
      "[[-2.63055563e-02  1.93548203e-03  1.18016362e-01 ... -2.76583076e-01\n",
      "  -2.64079571e-01 -2.76391864e-01]\n",
      " [ 6.90580488e-01  2.10633397e-01  4.89044786e-01 ...  5.37475109e-01\n",
      "   3.64259720e-01  4.63660956e-01]\n",
      " [ 3.05185095e-05  1.04338428e-01  2.07123525e-01 ... -3.06022273e-01\n",
      "  -2.07225289e-01 -1.04296308e-01]]\n"
     ]
    }
   ],
   "source": [
    "# Input array with the three signals.\n",
    "data_all_signals = np.stack((sig_1,sig_2,sig_3))\n",
    "# Show the input array.\n",
    "print(data_all_signals)"
   ]
  },
  {
   "cell_type": "markdown",
   "metadata": {},
   "source": [
    "All the functions that work with Tercios de Octave internally carry out a conversion from temporary samples in Pa to Tercios de octave in Pa. This conversion is shown here:"
   ]
  },
  {
   "cell_type": "code",
   "execution_count": 3,
   "metadata": {},
   "outputs": [],
   "source": [
    "# Local imports\n",
    "from mosqito.sound_level_meter.noct_spectrum.noct_spectrum import noct_spectrum\n",
    "\n",
    "# We initialize the frequency range that we want to study, f_min is the frequency of the lower limit and\n",
    "# f_max the frequency of the upper limit.\n",
    "f_min = 250\n",
    "f_max = 20000\n",
    "# We initialize the sampling frequency (it is returned by the load function, fs_1 is the sampling frequency\n",
    "# of signal 1 in section 1.1 Calculate by third octave).\n",
    "fs = fs_1\n",
    "\n",
    "# We initialize the array that stores the third octave values (in Pa) of the all signals ​​with the first signal.\n",
    "spectrum_all_signals_Pa = noct_spectrum(data_all_signals[0],fs,f_min,f_max)[0]\n",
    "# We initialize the number of the signals.\n",
    "num_signals = data_all_signals.shape[0]\n",
    "\n",
    "# Calculate the value of the third octave of each signal.\n",
    "for i in range(num_signals):\n",
    "    # We skip the first signal because we have initialized with it.\n",
    "    if i != 0:\n",
    "        # We calculate and save the values in Pa ​​of the third octaves of the signals.\n",
    "        spectrum_all_signals_Pa = np.append(spectrum_all_signals_Pa,noct_spectrum(data_all_signals[i],fs,f_min,f_max)[0],axis=1)"
   ]
  },
  {
   "cell_type": "markdown",
   "metadata": {},
   "source": [
    "### Calculate by time samples\n",
    "In this tutorial for the calculations all temporary samples collected are used. Each sample is collected in a time and has its value. With this values (Pa) is calculate the signal functions of this sound level meter. Will return an array with the value have been calculated, the calculations are made for all samples so it is only a representative or generic value for the input signal.\n",
    "\n",
    "An input array is needed, all the values in Pa of the time samples of a signal must be on the same row. Let's create an input array for these functions:  "
   ]
  },
  {
   "cell_type": "code",
   "execution_count": 4,
   "metadata": {},
   "outputs": [
    {
     "name": "stdout",
     "output_type": "stream",
     "text": [
      "Signal:\n",
      "[Info] Multichannel signal loaded. Keeping only first channel\n",
      "[Info] A calibration of 1 Pa/FS is considered\n"
     ]
    }
   ],
   "source": [
    "# Third party imports\n",
    "import numpy as np\n",
    "\n",
    "# Local imports\n",
    "from mosqito.utils.load import load\n",
    "\n",
    "# Define the path of the signal you want for the input array. In this case we test.\n",
    "#Pink noise\n",
    "path = \"../tests/input/349312__newagesoup__pink-noise-10s.wav\"\n",
    "\n",
    "# We get the data in Pa and the sampling frequency of all the signals with the help of the Load function.\n",
    "#Pink noise 60 dB (21 is the Wab_calib value for this particular .wav).\n",
    "print (\"Signal:\")\n",
    "signal, fs = load(path)\n",
    "\n"
   ]
  },
  {
   "cell_type": "markdown",
   "metadata": {},
   "source": [
    "This is how the input array for these functions finally has to look like. It is just an array with the values in Pa of the level of each sample."
   ]
  },
  {
   "cell_type": "code",
   "execution_count": 5,
   "metadata": {},
   "outputs": [
    {
     "name": "stdout",
     "output_type": "stream",
     "text": [
      "Signal: \n",
      "[-0.02630556  0.00193548  0.11801636 ... -0.27658308 -0.26407957\n",
      " -0.27639186]\n",
      "Sample rate: \n",
      "48000\n"
     ]
    }
   ],
   "source": [
    "# Import useful packages\n",
    "import matplotlib.pyplot as plt\n",
    "\n",
    "print(\"Signal: \")\n",
    "print(signal)\n",
    "\n",
    "print(\"Sample rate: \")\n",
    "print(fs)"
   ]
  },
  {
   "cell_type": "markdown",
   "metadata": {},
   "source": [
    "## Functions of the sound level meter\n",
    "Here explain all the functions available in the sound level meter and what array will each of them return."
   ]
  },
  {
   "cell_type": "markdown",
   "metadata": {},
   "source": [
    "### spectrum_3oct_dB\n",
    "This function is only available for calculation in frequency bands (_3oct).\n",
    "\n",
    "Calculates, in dBC, the spectrum in Thirds of octaves of a .wav file. You can enter different fragments of the same .wav file at the same time or enter a single .wav file."
   ]
  },
  {
   "cell_type": "code",
   "execution_count": null,
   "metadata": {},
   "outputs": [],
   "source": [
    "# Third party imports\n",
    "import math\n",
    "\n",
    "# Local imports\n",
    "from mosqito.utils.conversion import amp2db\n",
    "\n",
    "# We initialize the center frequencies of the third octaves with the first signal.\n",
    "freq = noct_spectrum(data_all_signals[0],fs,f_min,f_max)[1]\n",
    "# We initialize the number of frequency bands.\n",
    "num_bands = freq.shape[0]\n",
    "    \n",
    "# Creating a list of zeros of the size of the frequency bands (to keep the spectrum_3oct_dB values).\n",
    "spectrum_3oct_dB = np.zeros(num_bands)\n",
    "# For each frequency band you perform the operation.\n",
    "for i in range(num_bands): \n",
    "    sum = 0\n",
    "    # Performs the summation with all the values of the frequency band in the different signals.\n",
    "    for j in range(num_signals):\n",
    "        # conversion Pa to dB\n",
    "        dB = amp2db(np.array(spectrum_all_signals_Pa[i][j]), 2*(10**-5))\n",
    "        # Operation: summation(10^(level(db)[i]/10))\n",
    "        sum = sum + 10.0**(dB/10.0)\n",
    "    # Keep the spectrum_3oct_dB value in the box corresponding to the frequency band from which the calculation is being made.\n",
    "    # Operation: 10 x log(base 10)[1/number of samples x sum]\n",
    "    spectrum_3oct_dB[i] = 10.0 * math.log(((1/num_signals)*sum),10)"
   ]
  },
  {
   "cell_type": "markdown",
   "metadata": {},
   "source": [
    "Finally with the dB values, the averaging of levels between the .wav fragments is performed to build the spectrum. Returns the spectrum in Thirds of Octave in dB."
   ]
  },
  {
   "cell_type": "code",
   "execution_count": null,
   "metadata": {},
   "outputs": [],
   "source": [
    "# Import useful packages\n",
    "import matplotlib.pyplot as plt\n",
    "\n",
    "print(\"spectrum_3oct_dB: \")\n",
    "print(spectrum_3oct_dB)\n",
    "\n",
    "print(\"Freq: \")\n",
    "print(freq)\n",
    "\n",
    "#x_freq = ['25', '31.5', '40', '50', '63', '80', '100', '125', '160', '200', '250', '315',\n",
    "#        '400', '500', '630', '800', '1000', '1250', '1600', '2000', '2500', '3150', '4000', '5000', '6300', '8000',\n",
    "#        '10000', '12500']\n",
    "x_freq = ['250', '315','400', '500', '630', '800', '1000', '1250', '1600', '2000', '2500', '3150', '4000',\n",
    "            '5000', '6300', '8000','10000', '12500', '16000', '20000']\n",
    "y_values = spectrum_3oct_dB\n",
    "\n",
    "# The figure  is created\n",
    "fig = plt.figure ()\n",
    "# The object inside the figure is created\n",
    "ax = fig.add_subplot (1, 1, 1)\n",
    "\n",
    "# Legend on the y axis\n",
    "plt.ylabel ('Level dB')\n",
    "# Legend on the x axis\n",
    "plt.xlabel ('Frequency Hz')\n",
    "# Graphic Title\n",
    "plt.title ('spectrum_3oct_dB result in Thirds of Octave')\n",
    "\n",
    "# Bar graph is created\n",
    "ax.bar (x_freq, y_values, color = \"C0\")\n",
    "# Rotation of the x axis data\n",
    "ax.set_xticklabels (x_freq, rotation = 75, fontsize = 9)\n",
    "# Show the graph \n",
    "plt.show()"
   ]
  },
  {
   "cell_type": "markdown",
   "metadata": {},
   "source": [
    "### spectrum_3oct_dBA\n",
    "\n",
    "This function is only available for calculation in frequency bands (_3oct).\n",
    "\n",
    "Calculates, in dBC, the spectrum in Thirds of octaves of a .wav file. You can enter different fragments of the same .wav file at the same time or enter a single .wav file. In order to convert dB into dBA we use an internal function of the Mosqito: spectrum2dBA_2."
   ]
  },
  {
   "cell_type": "code",
   "execution_count": null,
   "metadata": {},
   "outputs": [],
   "source": [
    "# Local imports\n",
    "from mosqito.functions.sound_level_meter.spectrum2dBA_2 import spectrum2dBA_2"
   ]
  },
  {
   "cell_type": "markdown",
   "metadata": {},
   "source": [
    "The input array is the temporary values in Pa. The operation of transforming them into Third octaves in Pa is performed (it was shown in 1.1 Calculate by third octave). Then the conversion from Pa to dB:"
   ]
  },
  {
   "cell_type": "code",
   "execution_count": null,
   "metadata": {},
   "outputs": [],
   "source": [
    "# Local imports\n",
    "from mosqito.utils.conversion import amp2db\n",
    "\n",
    "# We initialize the size of the array in which the data is stored.\n",
    "array_shape = spectrum_all_signals_Pa.shape\n",
    "# We initialize the center frequencies of the third octaves with the first signal.\n",
    "freq = noct_spectrum(data_all_signals[0],fs,f_min,f_max)[1]\n",
    "# We initialize the number of frequency bands.\n",
    "num_bands = freq.shape[0]\n",
    "\n",
    "# Empty array to store the values in dB of the third octave of the all signals.\n",
    "spectrum_all_signals_dB = np.zeros(array_shape)\n",
    "# For each frequency band you perform the operation.\n",
    "for i in range(num_bands):\n",
    "    # Performs the conversion to dB with all the values of the frequency band in the different signals.\n",
    "    for j in range(num_signals): \n",
    "        # Conversion Pa to dB.\n",
    "        dB = amp2db(np.array(spectrum_all_signals_Pa[i][j]))\n",
    "        # Save all values in dB of the third octave in another array.\n",
    "        spectrum_all_signals_dB[i][j] = dB"
   ]
  },
  {
   "cell_type": "markdown",
   "metadata": {},
   "source": [
    "Now we perform the dB to dBA conversion:"
   ]
  },
  {
   "cell_type": "code",
   "execution_count": null,
   "metadata": {},
   "outputs": [],
   "source": [
    "# Empty array to store the values in dBA of the third octave of the all signals.\n",
    "spectrum_all_signals_dBA = np.zeros(array_shape)\n",
    "# For each signal you perform the operation.\n",
    "for i in range(num_signals):\n",
    "    # conversion dB to dBA of the all third octave values.\n",
    "    dBA = spectrum2dBA_2(np.array(spectrum_all_signals_dB[:,i]), freq)\n",
    "    # For each frequency band you perform the operation.\n",
    "    for j in range(num_bands):\n",
    "        # Save all values in dBA of the third octave in another array.\n",
    "        spectrum_all_signals_dBA[j][i] = dBA[j]"
   ]
  },
  {
   "cell_type": "markdown",
   "metadata": {},
   "source": [
    "Finally with the dBA values, the averaging of levels between the .wav fragments is performed to build the spectrum. Returns the spectrum in Thirds of Octave in dBA."
   ]
  },
  {
   "cell_type": "code",
   "execution_count": null,
   "metadata": {},
   "outputs": [],
   "source": [
    "# Third party imports\n",
    "import math\n",
    "\n",
    "# Creating a list of zeros of the size of the frequency bands (to keep the spectrum_3oct_dBA values).\n",
    "spectrum_3oct_dBA = np.zeros(num_bands)\n",
    "# For each frequency band you perform the operation.\n",
    "for i in range(num_bands): \n",
    "    sum = 0\n",
    "    # Performs the summation with all the values of the frequency band in the different signals.\n",
    "    for j in range(num_signals):\n",
    "        # Operation: summation(10^(level(dbA)[i]/10))\n",
    "        sum = sum + 10.0**(spectrum_all_signals_dBA[i][j]/10.0)\n",
    "    # Keep the spectrum_3oct_dBA value in the box corresponding to the frequency band from which the calculation is being made.\n",
    "    # Operation: 10 x log(base 10)[1/number of samples x sum]\n",
    "    spectrum_3oct_dBA[i] = 10.0 * math.log(((1/num_signals)*sum),10)        "
   ]
  },
  {
   "cell_type": "markdown",
   "metadata": {},
   "source": [
    "Returns spectrum_3oct_dBA, which is an array with as many values as there are frequency bands being operated. "
   ]
  },
  {
   "cell_type": "code",
   "execution_count": null,
   "metadata": {},
   "outputs": [],
   "source": [
    "# Import useful packages\n",
    "import matplotlib.pyplot as plt\n",
    "\n",
    "print(\"spectrum_3oct_dBA: \")\n",
    "print(spectrum_3oct_dBA)\n",
    "\n",
    "print(\"Freq: \")\n",
    "print(freq)\n",
    "\n",
    "#x_freq = ['25', '31.5', '40', '50', '63', '80', '100', '125', '160', '200', '250', '315',\n",
    "#        '400', '500', '630', '800', '1000', '1250', '1600', '2000', '2500', '3150', '4000', '5000', '6300', '8000',\n",
    "#        '10000', '12500']\n",
    "x_freq = ['250', '315','400', '500', '630', '800', '1000', '1250', '1600', '2000', '2500', '3150', '4000',\n",
    "            '5000', '6300', '8000','10000', '12500', '16000', '20000']\n",
    "y_values = spectrum_3oct_dBA\n",
    "\n",
    "# The figure  is created\n",
    "fig = plt.figure ()\n",
    "# The object inside the figure is created\n",
    "ax = fig.add_subplot (1, 1, 1)\n",
    "\n",
    "# Legend on the y axis\n",
    "plt.ylabel ('Level dBA')\n",
    "# Legend on the x axis\n",
    "plt.xlabel ('Frequency Hz')\n",
    "# Graphic Title\n",
    "plt.title ('spectrum_3oct_dBA result in Thirds of Octave')\n",
    "\n",
    "# Bar graph is created\n",
    "ax.bar (x_freq, y_values, color = \"C0\")\n",
    "# Rotation of the x axis data\n",
    "ax.set_xticklabels (x_freq, rotation = 75, fontsize = 9)\n",
    "# Show the graph \n",
    "plt.show()"
   ]
  },
  {
   "cell_type": "markdown",
   "metadata": {},
   "source": [
    " ### spectrum_3oct_dBC\n",
    "This function is only available for calculation in frequency bands (_3oct).\n",
    "\n",
    "Calculates, in dBC, the spectrum in Thirds of octaves of a .wav file. You can enter different fragments of the same .wav file at the same time or enter a single .wav file. In order to convert dB into dBC we use an internal function of the Mosqito: spectrum2dBC."
   ]
  },
  {
   "cell_type": "code",
   "execution_count": null,
   "metadata": {},
   "outputs": [],
   "source": [
    "# Local imports\n",
    "from mosqito.functions.sound_level_meter.spectrum2dBC import spectrum2dBC"
   ]
  },
  {
   "cell_type": "markdown",
   "metadata": {},
   "source": [
    "The input array is the temporary values in Pa. The operation of transforming them into Third octaves in Pa is performed (it was shown in 1.1 Calculate by third octave). Then the conversion from Pa to dB:"
   ]
  },
  {
   "cell_type": "code",
   "execution_count": null,
   "metadata": {},
   "outputs": [],
   "source": [
    "# Local imports\n",
    "from mosqito.utils.conversion import amp2db\n",
    "\n",
    "# We initialize the size of the array in which the data is stored.\n",
    "array_shape = spectrum_all_signals_Pa.shape\n",
    "# We initialize the center frequencies of the third octaves with the first signal.\n",
    "freq = noct_spectrum(data_all_signals[0],fs,f_min,f_max)[1]\n",
    "# We initialize the number of frequency bands.\n",
    "num_bands = freq.shape[0]\n",
    "\n",
    "# Empty array to store the values in dB of the third octave of the all signals.\n",
    "spectrum_all_signals_dB = np.zeros(array_shape)\n",
    "# For each frequency band you perform the operation.\n",
    "for i in range(num_bands):\n",
    "    # Performs the conversion to dB with all the values of the frequency band in the different signals.\n",
    "    for j in range(num_signals): \n",
    "        # Conversion Pa to dB.\n",
    "        dB = amp2db(np.array(spectrum_all_signals_Pa[i][j]))\n",
    "        # Save all values in dB of the third octave in another array.\n",
    "        spectrum_all_signals_dB[i][j] = dB"
   ]
  },
  {
   "cell_type": "markdown",
   "metadata": {},
   "source": [
    "Now we perform the dB to dBC conversion:"
   ]
  },
  {
   "cell_type": "code",
   "execution_count": null,
   "metadata": {},
   "outputs": [],
   "source": [
    "# Empty array to store the values in dBC of the third octave of the all signals.\n",
    "spectrum_all_signals_dBC = np.zeros(array_shape)\n",
    "# For each signal you perform the operation.\n",
    "for i in range(num_signals):\n",
    "    # conversion dB to dBC of the all third octave values.\n",
    "    dBC = spectrum2dBC(np.array(spectrum_all_signals_dB[:,i]), freq)\n",
    "    # For each frequency band you perform the operation.\n",
    "    for j in range(num_bands):\n",
    "        # Save all values in dBC of the third octave in another array.\n",
    "        spectrum_all_signals_dBC[j][i] = dBC[j]"
   ]
  },
  {
   "cell_type": "markdown",
   "metadata": {},
   "source": [
    "Finally with the dBC values, the averaging of levels between the .wav fragments is performed to build the spectrum. Returns the spectrum in Thirds of Octave in dBC."
   ]
  },
  {
   "cell_type": "code",
   "execution_count": null,
   "metadata": {},
   "outputs": [],
   "source": [
    "# Third party imports\n",
    "import math\n",
    "\n",
    "# Creating a list of zeros of the size of the frequency bands (to keep the spectrum_3oct_dBC values).\n",
    "spectrum_3oct_dBC = np.zeros(num_bands)\n",
    "# For each frequency band you perform the operation.\n",
    "for i in range(num_bands): \n",
    "    sum = 0\n",
    "    # Performs the summation with all the values of the frequency band in the different signals.\n",
    "    for j in range(num_signals):\n",
    "        # Operation: summation(10^(level(dbC)[i]/10))\n",
    "        sum = sum + 10.0**(spectrum_all_signals_dBC[i][j]/10.0)\n",
    "    # Keep the spectrum_3oct_dBC value in the box corresponding to the frequency band from which the calculation is being made.\n",
    "    # Operation: 10 x log(base 10)[1/number of samples x sum]\n",
    "    spectrum_3oct_dBC[i] = 10.0 * math.log(((1/num_signals)*sum),10)    "
   ]
  },
  {
   "cell_type": "markdown",
   "metadata": {},
   "source": [
    "Returns spectrum_3oct_dBC, which is an array with as many values as there are frequency bands being operated. "
   ]
  },
  {
   "cell_type": "code",
   "execution_count": null,
   "metadata": {},
   "outputs": [],
   "source": [
    "# Import useful packages\n",
    "import matplotlib.pyplot as plt\n",
    "\n",
    "print(\"spectrum_3oct_dBC: \")\n",
    "print(spectrum_3oct_dBC)\n",
    "\n",
    "print(\"Freq: \")\n",
    "print(freq)\n",
    "\n",
    "#x_freq = ['25', '31.5', '40', '50', '63', '80', '100', '125', '160', '200', '250', '315',\n",
    "#        '400', '500', '630', '800', '1000', '1250', '1600', '2000', '2500', '3150', '4000', '5000', '6300', '8000',\n",
    "#        '10000', '12500']\n",
    "x_freq = ['250', '315','400', '500', '630', '800', '1000', '1250', '1600', '2000', '2500', '3150', '4000',\n",
    "            '5000', '6300', '8000','10000', '12500', '16000', '20000']\n",
    "y_values = spectrum_3oct_dBC\n",
    "\n",
    "# The figure  is created\n",
    "fig = plt.figure ()\n",
    "# The object inside the figure is created\n",
    "ax = fig.add_subplot (1, 1, 1)\n",
    "\n",
    "# Legend on the y axis\n",
    "plt.ylabel ('Level dBA')\n",
    "# Legend on the x axis\n",
    "plt.xlabel ('Frequency Hz')\n",
    "# Graphic Title\n",
    "plt.title ('spectrum_3oct_dBC result in Thirds of Octave')\n",
    "\n",
    "# Bar graph is created\n",
    "ax.bar (x_freq, y_values, color = \"C0\")\n",
    "# Rotation of the x axis data\n",
    "ax.set_xticklabels (x_freq, rotation = 75, fontsize = 9)\n",
    "# Show the graph \n",
    "plt.show()"
   ]
  },
  {
   "cell_type": "markdown",
   "metadata": {},
   "source": [
    "### Max_level\n",
    "The function returns the value of the maximum level. This function has two ways to calculate:\n",
    "    \n",
    "    - 1. max_level_3oct: for the maximum value of each frequency band.\n",
    "    - 2. max_level: for the maximum value of the time samples.\n",
    "    \n",
    "#####  max_level_3oct\n",
    "Return the maximum value of the frequency bands you choose. Each one is calculated with the levels (dB) of its band in the different samples. This function chooses the maximum value with the help of the function max(), then they are stored in an empty array. "
   ]
  },
  {
   "cell_type": "code",
   "execution_count": 6,
   "metadata": {},
   "outputs": [],
   "source": [
    "# Local imports\n",
    "from mosqito.utils.conversion import amp2db\n",
    "\n",
    "# We initialize the center frequencies of the third octaves with the first signal.\n",
    "freq = noct_spectrum(data_all_signals[0],fs,f_min,f_max)[1]\n",
    "# We initialize the number of frequency bands.\n",
    "num_bands = freq.shape[0]\n",
    "\n",
    "# Creating a list of zeros of the size of the frequency bands (to keep the maximum level values).\n",
    "max_level_3oct = np.zeros(num_bands)\n",
    "# Empty array to store the values in dB of the third octave whose maximum value is going to be calculated.\n",
    "band_value_all_signals = np.zeros(num_signals)\n",
    "# For each frequency band you perform the operation.\n",
    "for i in range(num_bands):\n",
    "    # Performs the conversion to dB with all the values of the frequency band in the different signals.\n",
    "    for j in range(num_signals): \n",
    "        # Conversion Pa to dB.\n",
    "        dB = amp2db(np.array(spectrum_all_signals_Pa[i][j]))\n",
    "        # Save all values in dB of the third octave in another array.\n",
    "        band_value_all_signals[j] = dB\n",
    "    # Calculate and keep the maximum value found in the array. That value will be the maximum of the third of an octave.\n",
    "    max_level_3oct[i] = max(band_value_all_signals)"
   ]
  },
  {
   "cell_type": "markdown",
   "metadata": {},
   "source": [
    "Returns max_level_3oct, which is an array with as many values as there are frequency bands being operated."
   ]
  },
  {
   "cell_type": "code",
   "execution_count": 7,
   "metadata": {},
   "outputs": [
    {
     "name": "stdout",
     "output_type": "stream",
     "text": [
      "Max_level_3oct: \n",
      "[63.8992491  64.04536684 63.77114855 63.84416146 63.98343947 69.63145363\n",
      " 89.02970598 69.65634143 63.98675717 64.54542347 65.39493741 66.41737014\n",
      " 67.43603232 68.39139237 69.44300504 70.39115814 71.35822928 72.37940142\n",
      " 73.35470088 74.35344573]\n",
      "Freq: \n",
      "[  250.   315.   400.   500.   630.   800.  1000.  1250.  1600.  2000.\n",
      "  2500.  3150.  4000.  5000.  6300.  8000. 10000. 12500. 16000. 20000.]\n"
     ]
    },
    {
     "name": "stderr",
     "output_type": "stream",
     "text": [
      "C:\\Users\\hp\\AppData\\Local\\Temp\\ipykernel_3248\\2071398757.py:32: UserWarning: FixedFormatter should only be used together with FixedLocator\n",
      "  ax.set_xticklabels (x_freq, rotation = 75, fontsize = 9)\n"
     ]
    },
    {
     "data": {
      "image/png": "[encoded data removed]",
      "text/plain": [
       "<Figure size 640x480 with 1 Axes>"
      ]
     },
     "metadata": {},
     "output_type": "display_data"
    }
   ],
   "source": [
    "# Import useful packages\n",
    "import matplotlib.pyplot as plt\n",
    "\n",
    "print(\"Max_level_3oct: \")\n",
    "print(max_level_3oct)\n",
    "\n",
    "print(\"Freq: \")\n",
    "print(freq)\n",
    "\n",
    "#x_freq = ['25', '31.5', '40', '50', '63', '80', '100', '125', '160', '200', '250', '315',\n",
    "#        '400', '500', '630', '800', '1000', '1250', '1600', '2000', '2500', '3150', '4000', '5000', '6300', '8000',\n",
    "#        '10000', '12500']\n",
    "x_freq = ['250', '315','400', '500', '630', '800', '1000', '1250', '1600', '2000', '2500', '3150', '4000',\n",
    "            '5000', '6300', '8000','10000', '12500', '16000', '20000']\n",
    "y_values = max_level_3oct\n",
    "\n",
    "# The figure  is created\n",
    "fig = plt.figure ()\n",
    "# The object inside the figure is created\n",
    "ax = fig.add_subplot (1, 1, 1)\n",
    "\n",
    "# Legend on the y axis\n",
    "plt.ylabel ('Level dB')\n",
    "# Legend on the x axis\n",
    "plt.xlabel ('Frequency Hz')\n",
    "# Graphic Title\n",
    "plt.title ('Spectrum Third Octave Band of three signals (Pink noise 60 dB)')\n",
    "\n",
    "# Bar graph is created\n",
    "ax.bar (x_freq, y_values, color = \"C0\")\n",
    "# Rotation of the x axis data\n",
    "ax.set_xticklabels (x_freq, rotation = 75, fontsize = 9)\n",
    "# Show the graph \n",
    "plt.show()"
   ]
  },
  {
   "cell_type": "markdown",
   "metadata": {},
   "source": [
    "#####  max_level\n",
    "Return the maximum value of the series of levels (dB) collected over time (samples). Searches all samples and returns the highest level with the help of the max() function.\n"
   ]
  },
  {
   "cell_type": "code",
   "execution_count": 8,
   "metadata": {},
   "outputs": [],
   "source": [
    "# Local imports\n",
    "from mosqito.utils.conversion import amp2db\n",
    "\n",
    "# Empty array to store the values in dB of the signal.\n",
    "dB_values = np.zeros(signal.shape[0])\n",
    "# Performs the conversion to dB with all the values of the signal.\n",
    "for i in range(signal.shape[0]):\n",
    "    #If the value is negative value.\n",
    "    if signal[i] <= 0:\n",
    "        # we convert it to positive.\n",
    "        signal[i] = np.sqrt(np.mean(signal[i] ** 2))\n",
    "    # Conversion Pa to dB.\n",
    "    dB = amp2db(np.array(signal[i]))\n",
    "    # Save all values in dB of the third octave in another array.\n",
    "    dB_values[i] = dB\n",
    "# Save the maximum level.\n",
    "max_level = np.array(max(dB_values))"
   ]
  },
  {
   "cell_type": "markdown",
   "metadata": {},
   "source": [
    "Returns max_level, which is one value representative of the samples."
   ]
  },
  {
   "cell_type": "code",
   "execution_count": 9,
   "metadata": {},
   "outputs": [
    {
     "name": "stdout",
     "output_type": "stream",
     "text": [
      "max_level:\n",
      "92.10419935517434\n"
     ]
    },
    {
     "data": {
      "image/png": "[encoded data removed]",
      "text/plain": [
       "<Figure size 640x480 with 1 Axes>"
      ]
     },
     "metadata": {},
     "output_type": "display_data"
    }
   ],
   "source": [
    "# Import useful packages\n",
    "import matplotlib.pyplot as plt\n",
    "\n",
    "print(\"max_level:\")\n",
    "print(max_level)\n",
    "\n",
    "# Legend on the y axis\n",
    "plt.ylabel ('Level dB')\n",
    "# Legend on the x axis\n",
    "plt.xlabel ('Time samples')\n",
    "# Graphic Title\n",
    "plt.title ('Maximun of the temporary samples (Pink noise)')\n",
    "\n",
    "# Plot the signal with values in dB\n",
    "plt.plot(dB_values)\n",
    "# Plot the minimum value of the levels.\n",
    "plt.axhline(y = max_level, color = 'r', linestyle = '-')\n",
    "#show the graph\n",
    "plt.show()"
   ]
  },
  {
   "cell_type": "markdown",
   "metadata": {},
   "source": [
    "### Min_level\n",
    "The function returns the value of the minimum level. This function has two ways to calculate:\n",
    "    \n",
    "    - 1. min_level_3oct: for the minimum value of each frequency band.\n",
    "    - 2. min_level: for the minimum value of the time samples.\n",
    "    \n",
    "#####  min_level_3oct\n",
    "Return the minimum value of the frequency bands you choose. Each one is calculated with the levels (dB) of its band in the different samples. This function chooses the minimum value with the help of the function min(), then they are stored in an empty array. "
   ]
  },
  {
   "cell_type": "code",
   "execution_count": null,
   "metadata": {},
   "outputs": [],
   "source": [
    "# Local imports\n",
    "from mosqito.utils.conversion import amp2db\n",
    "\n",
    "# We initialize the center frequencies of the third octaves with the first signal.\n",
    "freq = noct_spectrum(data_all_signals[0],fs,f_min,f_max)[1]\n",
    "# We initialize the number of frequency bands.\n",
    "num_bands = freq.shape[0]\n",
    "\n",
    "# Creating a list of zeros of the size of the frequency bands (to keep the minimum level values).\n",
    "min_level_3oct = np.zeros(num_bands)\n",
    "# Empty array to store the values in dB of the third octave whose minimum value is going to be calculated.\n",
    "band_value_all_signals = np.zeros(num_signals)\n",
    "# For each frequency band you perform the operation.\n",
    "for i in range(num_bands):\n",
    "    # Performs the conversion to dB with all the values of the frequency band in the different signals.\n",
    "    for j in range(num_signals): \n",
    "        # Conversion Pa to dB.\n",
    "        dB = amp2db(np.array(spectrum_all_signals_Pa[i][j]))\n",
    "        # Save all values in dB of the third octave in another array.\n",
    "        band_value_all_signals[j] = dB\n",
    "    # Calculate and keep the maximum value found in the array. That value will be the maximum of the third of an octave.\n",
    "    min_level_3oct[i] = min(band_value_all_signals)"
   ]
  },
  {
   "cell_type": "markdown",
   "metadata": {},
   "source": [
    "Returns min_level_3oct, which is an array with as many values as there are frequency bands being operated."
   ]
  },
  {
   "cell_type": "code",
   "execution_count": null,
   "metadata": {},
   "outputs": [],
   "source": [
    "# Import useful packages\n",
    "import matplotlib.pyplot as plt\n",
    "\n",
    "print(\"Min_level_3oct: \")\n",
    "print(min_level_3oct)\n",
    "\n",
    "print(\"Freq: \")\n",
    "print(freq)\n",
    "\n",
    "#x_freq = ['25', '31.5', '40', '50', '63', '80', '100', '125', '160', '200', '250', '315',\n",
    "#        '400', '500', '630', '800', '1000', '1250', '1600', '2000', '2500', '3150', '4000', '5000', '6300', '8000',\n",
    "#        '10000', '12500']\n",
    "x_freq = ['250', '315','400', '500', '630', '800', '1000', '1250', '1600', '2000', '2500', '3150', '4000',\n",
    "            '5000', '6300', '8000','10000', '12500', '16000', '20000']\n",
    "y_values = min_level_3oct\n",
    "\n",
    "# The figure  is created\n",
    "fig = plt.figure ()\n",
    "# The object inside the figure is created\n",
    "ax = fig.add_subplot (1, 1, 1)\n",
    "\n",
    "# Legend on the y axis\n",
    "plt.ylabel ('Level dB')\n",
    "# Legend on the x axis\n",
    "plt.xlabel ('Frequency Hz')\n",
    "# Graphic Title\n",
    "plt.title ('Spectrum Third Octave Band of three signals (Pink noise 60 dB)')\n",
    "\n",
    "# Bar graph is created\n",
    "ax.bar (x_freq, y_values, color = \"C0\")\n",
    "# Rotation of the x axis data\n",
    "ax.set_xticklabels (x_freq, rotation = 75, fontsize = 9)\n",
    "# Show the graph \n",
    "plt.show()"
   ]
  },
  {
   "cell_type": "markdown",
   "metadata": {},
   "source": [
    "#####  min_level\n",
    "Return the minimum value of the series of levels (dB) collected over time (samples). Searches all samples and returns the lowest level with the help of the min() function.\n"
   ]
  },
  {
   "cell_type": "code",
   "execution_count": null,
   "metadata": {},
   "outputs": [],
   "source": [
    "# Local imports\n",
    "from mosqito.utils.conversion import amp2db\n",
    "\n",
    "# Empty array to store the values in dB of the signal.\n",
    "dB_values = np.zeros(signal.shape[0])\n",
    "# Performs the conversion to dB with all the values of the signal.\n",
    "for i in range(signal.shape[0]):\n",
    "    #If the value is negative value.\n",
    "    if signal[i] <= 0:\n",
    "        # we convert it to positive.\n",
    "        signal[i] = np.sqrt(np.mean(signal[i] ** 2))\n",
    "    # Conversion Pa to dB.\n",
    "    dB = amp2db(np.array(signal[i]))\n",
    "    # Save all values in dB of the third octave in another array.\n",
    "    dB_values[i] = dB\n",
    "# Save the minimum level.\n",
    "min_level = np.array(min(dB_values))"
   ]
  },
  {
   "cell_type": "markdown",
   "metadata": {},
   "source": [
    "Returns min_level, which is one value representative of the samples."
   ]
  },
  {
   "cell_type": "code",
   "execution_count": null,
   "metadata": {},
   "outputs": [],
   "source": [
    "# Import useful packages\n",
    "import matplotlib.pyplot as plt\n",
    "\n",
    "print(\"min_level:\")\n",
    "print(min_level)\n",
    "\n",
    "# Legend on the y axis\n",
    "plt.ylabel ('Level dB')\n",
    "# Legend on the x axis\n",
    "plt.xlabel ('Time samples')\n",
    "# Graphic Title\n",
    "plt.title ('Minimun of the temporary samples (Pink noise)')\n",
    "\n",
    "# Plot the signal with values in dB\n",
    "plt.plot(dB_values)\n",
    "# Plot the minimum value of the levels.\n",
    "plt.axhline(y = min_level, color = 'r', linestyle = '-')\n",
    "#show the graph\n",
    "plt.show()"
   ]
  },
  {
   "cell_type": "markdown",
   "metadata": {},
   "source": [
    "### LN(Percentile)\n",
    "This function is only available for calculation with temporary samples.\n",
    "\n",
    "Return the percentile value of the series of levels (dB) collected over time (samples). Calculate the percentile you want to study from a series of levels (dB) collected over time (samples) with the help of the numpy.percentile() function. \n",
    "    \n"
   ]
  },
  {
   "cell_type": "code",
   "execution_count": null,
   "metadata": {},
   "outputs": [],
   "source": [
    "# Local imports\n",
    "from mosqito.utils.conversion import amp2db\n",
    "\n",
    "# Empty array to store the values in dB of the signal.\n",
    "dB_values = np.zeros(signal.shape[0])\n",
    "# Performs the conversion to dB with all the values of the signal.\n",
    "for i in range(signal.shape[0]):\n",
    "    #If the value is negative value.\n",
    "    if signal[i] <= 0:\n",
    "        # we convert it to positive.\n",
    "        signal[i] = np.sqrt(np.mean(signal[i] ** 2))\n",
    "    # Conversion Pa to dB.\n",
    "    dB = amp2db(np.array(signal[i]))\n",
    "    # Save all values in dB of the third octave in another array.\n",
    "    dB_values[i] = dB\n",
    "print('percentiles using interpolation = ', \"linear\")\n",
    "# Calculate the percentiles with the values. \"q\" of np.percentile = 100 - N (N of LN).\n",
    "L90 = np.percentile(dB_values, 10,interpolation='linear') \n",
    "L50 = np.percentile(dB_values, 50,interpolation='linear') \n",
    "L25 = np.percentile(dB_values, 75,interpolation='linear')\n",
    "# Save the calculated percentile values.\n",
    "percentiles = np.array([L90,L50,L25])"
   ]
  },
  {
   "cell_type": "markdown",
   "metadata": {},
   "source": [
    "Returns percentiles, which is an array with all the percentiles that have been calculated."
   ]
  },
  {
   "cell_type": "code",
   "execution_count": null,
   "metadata": {},
   "outputs": [],
   "source": [
    "# Import useful packages\n",
    "import matplotlib.pyplot as plt\n",
    "\n",
    "print(\"The values of L90, L50 and L25 of the temporary signal samples\")\n",
    "print(percentiles)\n",
    "\n",
    "# Legend on the y axis\n",
    "plt.ylabel ('Level dB')\n",
    "# Legend on the x axis\n",
    "plt.xlabel ('Time samples')\n",
    "# Graphic Title\n",
    "plt.title ('Percentiles of the temporary samples (Pink noise)')\n",
    "\n",
    "# Plot the signal with values in dB\n",
    "plt.plot(dB_values)\n",
    "# Plot the L90 value of the levels.\n",
    "print(\"L90 is displayed in red\")\n",
    "plt.axhline(y = L90, color = 'r', linestyle = '-')\n",
    "# Plot the L50 value of the levels.\n",
    "print(\"L50 is displayed in green\")\n",
    "plt.axhline(y = L50, color = 'g', linestyle = '-')\n",
    "# Plot the L90 value of the levels.\n",
    "print(\"L25 is displayed in yelow\")\n",
    "plt.axhline(y = L25, color = 'y', linestyle = '-')\n",
    "#show the graph\n",
    "plt.show()"
   ]
  },
  {
   "cell_type": "code",
   "execution_count": null,
   "metadata": {},
   "outputs": [],
   "source": []
  }
 ],
 "metadata": {
  "kernelspec": {
   "display_name": "Python 3",
   "language": "python",
   "name": "python3"
  },
  "language_info": {
   "codemirror_mode": {
    "name": "ipython",
    "version": 3
   },
   "file_extension": ".py",
   "mimetype": "text/x-python",
   "name": "python",
   "nbconvert_exporter": "python",
   "pygments_lexer": "ipython3",
   "version": "3.9.13"
  },
  "latex_envs": {
   "LaTeX_envs_menu_present": true,
   "autoclose": false,
   "autocomplete": true,
   "bibliofile": "biblio.bib",
   "cite_by": "apalike",
   "current_citInitial": 1,
   "eqLabelWithNumbers": true,
   "eqNumInitial": 1,
   "hotkeys": {
    "equation": "Ctrl-E",
    "itemize": "Ctrl-I"
   },
   "labels_anchors": false,
   "latex_user_defs": false,
   "report_style_numbering": false,
   "user_envs_cfg": false
  },
  "toc": {
   "base_numbering": "1",
   "nav_menu": {},
   "number_sections": true,
   "sideBar": true,
   "skip_h1_title": true,
   "title_cell": "Table of Contents",
   "title_sidebar": "Contents",
   "toc_cell": true,
   "toc_position": {},
   "toc_section_display": true,
   "toc_window_display": true
  }
 },
 "nbformat": 4,
 "nbformat_minor": 4
}
