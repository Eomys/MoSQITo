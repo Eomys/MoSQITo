{
 "cells": [
  {
   "cell_type": "markdown",
   "metadata": {
    "toc": true
   },
   "source": [
    "<h1>Table of Contents<span class=\"tocSkip\"></span></h1>\n",
    "<div class=\"toc\"><ul class=\"toc-item\"><li><span><a href=\"#Types-of-calculate\" data-toc-modified-id=\"Using-the-scripting-interface-1\"><span class=\"toc-item-num\">1&nbsp;&nbsp;</span>Types of calculate</a></span><ul class=\"toc-item\"><li><span><a href=\"#Calculate-by-third-octave\" data-toc-modified-id=\"Calculate-by-third-octave-1.1\"><span class=\"toc-item-num\">1.1&nbsp;&nbsp;</span>Calculate by third octave</a></span></li><li><span><a href=\"#Calculate-by-time-samples\" data-toc-modified-id=\"Calculate-by-time-samples-1.2\"><span class=\"toc-item-num\">1.2&nbsp;&nbsp;</span>Calculate by time samples</a></span></li></ul></li><li><span><a href=\"#Functions-of-the-sound-level-meter\" data-toc-modified-id=\"Functions-of-the-sound-level-meter-2\"><span class=\"toc-item-num\">2&nbsp;&nbsp;</span>Functions of the sound level meter</a></span><ul class=\"toc-item\"><li><span><a href=\"#Leq\" data-toc-modified-id=\"Leq-2.1\"><span class=\"toc-item-num\">2.1&nbsp;&nbsp;</span>Leq</a></span></li><li><span><a href=\"#LAeq\" data-toc-modified-id=\"LAeq-2.2\"><span class=\"toc-item-num\">2.2&nbsp;&nbsp;</span>LAeq</a></span></li><li><span><a href=\"#LCeq\" data-toc-modified-id=\"LCeq-2.3\"><span class=\"toc-item-num\">2.3&nbsp;&nbsp;</span>LCeq</a></span></li><li><span><a href=\"#Max_level\" data-toc-modified-id=\"Max_level-2.4\"><span class=\"toc-item-num\">2.4&nbsp;&nbsp;</span>Max_level</a></span><ul class=\"toc-item\"><li><span><a href=\"#max_level_3oct\" data-toc-modified-id=\"#max_level_3oct\">max_level_3oct</a></span></li><li><span><a href=\"#max_level\" data-toc-modified-id=\"#max_level\">max_level</a></span></li></ul></li><li><span><a href=\"#Min_level\" data-toc-modified-id=\"Min_level-2.5\"><span class=\"toc-item-num\">2.5&nbsp;&nbsp;</span>Min_level</a></span><ul class=\"toc-item\"><li><span><a href=\"#min_level_3oct\" data-toc-modified-id=\"#min_level_3oct\">min_level_3oct</a></span></li><li><span><a href=\"#min_level\" data-toc-modified-id=\"#min_level\">min_level</a></span></li></ul></li><li><span><a href=\"#Percentile\" data-toc-modified-id=\"Percentile-2.6\"><span class=\"toc-item-num\">2.6&nbsp;&nbsp;</span>Percentile</a></span><ul class=\"toc-item\"><li><span><a href=\"#LN_3oct\" data-toc-modified-id=\"#LN_3oct\">LN_3oct</a></span></li><li><span><a href=\"#LN\" data-toc-modified-id=\"#LN\">LN</a></span></li></ul></li></ul></li></ul></div>"
   ]
  },
  {
   "cell_type": "markdown",
   "metadata": {},
   "source": [
    "\n",
    "# How to compute the functions of sound level meter\n",
    "This tutorial explains how to use MOSQITO to compute the functions of the sound level meter. There are two types of functions: Those that work with third octaves and those that work with time samples. Users can calculate either by focusing on frequency bands or by focusing on representative values of a signal. \n",
    "\n",
    "## Types of calculate\n",
    "### Calculate by third octave \n",
    "In this tutorial the calculations are made for each frequency band for which you want to know the result. Choose a frequency band and look at the values have this band in the differents samples. With this values (db) is calculate the frequency band functions of this sound level meter. Will return an array with as many values as frequency bands have been calculated, one result for each frequency band. This functions are recognized because they have the suffix \"_3oct\" written in the name (they do not have to be the third octave bands, they can be any band that you want to calculate).\n",
    "\n",
    "An input array is needed, each column needs to be a sample of the signal. In each column there will be as many rows as there are frequency bands of the samples. Let's create an input array for these functions: "
   ]
  },
  {
   "cell_type": "code",
   "execution_count": 1,
   "metadata": {
    "scrolled": true
   },
   "outputs": [],
   "source": [
    "# Third party imports\n",
    "import numpy as np\n",
    "\n",
    "# import Mosqito funtions\n",
    "from mosqito.functions.oct3filter.calc_third_octave_levels import calc_third_octave_levels\n",
    "from mosqito.functions.shared.load import load\n",
    "\n",
    "# Define path to the .wav file\n",
    "# To be replaced by your own path\n",
    "path = \"../tests/input/1KHZ60DB.WAV\"\n",
    "\n",
    "# load and obtain the signal data and its sampling frequency.\n",
    "sig_3oct, fs_3oct = load(True, path, calib=1)\n",
    "\n",
    "# With the values of the time samples (in Pa), the corresponding 28 thirds of an octave are formed (from 25 Hz to 12500 Hz).\n",
    "# Return the frecuency bands. \n",
    "spectrum_signal_samples = calc_third_octave_levels(sig_3oct,fs_3oct)[0]\n",
    "# Return the frecuecy of the bands.\n",
    "freq_3oct = np.array(calc_third_octave_levels(sig_3oct,fs_3oct)[1])"
   ]
  },
  {
   "cell_type": "markdown",
   "metadata": {},
   "source": [
    "This is what the sample input array with 28 third-octave bands (25 Hz - 12500 Hz) looks like:"
   ]
  },
  {
   "cell_type": "code",
   "execution_count": 2,
   "metadata": {},
   "outputs": [
    {
     "name": "stdout",
     "output_type": "stream",
     "text": [
      "[[-26.02059991 -26.02059991 -26.0205999  ... -26.02049808 -26.02049808\n",
      "  -26.02049808]\n",
      " [-26.02059991 -26.02059991 -26.0205998  ... -26.02019363 -26.02019363\n",
      "  -26.02019363]\n",
      " [-26.02059991 -26.02059991 -26.02059899 ... -26.01897698 -26.01897698\n",
      "  -26.01897698]\n",
      " ...\n",
      " [-26.02059991   7.36960663  15.69119605 ... -20.59397137 -20.59397137\n",
      "  -20.59397137]\n",
      " [-26.02059991   6.96789178  13.69061076 ... -13.84819227 -13.84819227\n",
      "  -13.84819227]\n",
      " [-26.02059991   5.95895375  11.59240331 ... -19.20758803 -19.20758803\n",
      "  -19.20758803]]\n",
      "---------------------------\n",
      "[   25.     31.5    40.     50.     63.     80.    100.    125.    160.\n",
      "   200.    250.    315.    400.    500.    630.    800.   1000.   1250.\n",
      "  1600.   2000.   2500.   3150.   4000.   5000.   6300.   8000.  10000.\n",
      " 12500. ]\n"
     ]
    }
   ],
   "source": [
    "# A tone of 60 dB in 1000 HZ : \n",
    "print(spectrum_signal_samples)\n",
    "print(\"---------------------------\")\n",
    "print(freq_3oct)"
   ]
  },
  {
   "cell_type": "markdown",
   "metadata": {},
   "source": [
    "### Calculate by time samples\n",
    "In this tutorial for the calculations all temporary samples collected are used. Each sample is collected in a time and has its value. With this values (db) is calculate the signal functions of this sound level meter. Will return an array with the value have been calculated, the calculations are made for all samples so it is only a representative or generic value for the input signal.\n",
    "\n",
    "An input array is needed, all the values in dB of the time samples of a signal must be on the same row. Let's create an input array for these functions:  "
   ]
  },
  {
   "cell_type": "code",
   "execution_count": 3,
   "metadata": {},
   "outputs": [],
   "source": [
    "# Third party imports\n",
    "import math\n",
    "\n",
    "# load and obtain the signal data and its sampling frequency.\n",
    "sig, fs = load(True, path, calib=1)\n",
    "\n",
    "spectrum_signal_samples_dB = calc_third_octave_levels(sig,fs)[0]\n",
    "freq_dB = np.array(calc_third_octave_levels(sig,fs)[1])\n",
    "\n",
    "# Creating a list of zeros of the size of the numbers of samples.\n",
    "sig_dB = np.zeros(spectrum_signal_samples_dB.shape[1])\n",
    "# For each sample you perform the operation.\n",
    "for i in range(spectrum_signal_samples_dB.shape[1]): \n",
    "    sum = 0\n",
    "    # Performs the summation with all the values of the frequency band in the same sample.\n",
    "    for j in range(spectrum_signal_samples_dB.shape[0]):  \n",
    "        # Operation: summation(10^(level(db)[i]/10))\n",
    "        sum = sum + 10.0**(spectrum_signal_samples_dB[j][i]/10.0)\n",
    "    # Keep the logarithmic sum value in the box corresponding to the sample from which the calculation is being made.\n",
    "    # Operation: 10 x log(base 10)[sum]\n",
    "    sig_dB[i] = 10.0 * math.log((sum),10)\n"
   ]
  },
  {
   "cell_type": "markdown",
   "metadata": {},
   "source": [
    "This is how the input array for these functions finally has to look like. It is just an array with the values in dB of the level of each sample."
   ]
  },
  {
   "cell_type": "code",
   "execution_count": 4,
   "metadata": {},
   "outputs": [
    {
     "name": "stdout",
     "output_type": "stream",
     "text": [
      "[-11.5490196   16.13412259  29.65476109 ...  64.05704916  64.05704916\n",
      "  64.05704916]\n"
     ]
    }
   ],
   "source": [
    "#A tone of 60 dB in 1000 HZ : \n",
    "print(sig_dB)"
   ]
  },
  {
   "cell_type": "markdown",
   "metadata": {},
   "source": [
    "## Functions of the sound level meter\n",
    "Here explain all the functions available in the sound level meter and what array will each of them return. \n",
    "### Leq\n",
    "This function is only available for calculation in frequency bands (_3oct).\n",
    "\n",
    "Calculate the Leq of the frequency bands you choose, returns the calculated Leq values for each band. Each one is calculated with the levels (dB) of its band in the different samples. The function Leq_3oct uses the Leq formula."
   ]
  },
  {
   "cell_type": "code",
   "execution_count": 5,
   "metadata": {},
   "outputs": [],
   "source": [
    "# Creating a list of zeros of the size of the frequency bands (to keep the Leq values).\n",
    "Leq_3oct = np.zeros(freq_3oct.shape)\n",
    "# For each frequency band you perform the operation.\n",
    "for i in range(freq_3oct.shape[0]): \n",
    "    sum = 0\n",
    "    # Performs the summation with all the values of the frequency band in the different samples.\n",
    "    for j in range(spectrum_signal_samples.shape[1]):  \n",
    "        # Operation: summation(10^(level(db)[i]/10))\n",
    "        sum = sum + 10.0**(spectrum_signal_samples[i][j]/10.0)\n",
    "    # Keep the Leq value in the box corresponding to the frequency band from which the calculation is being made.\n",
    "    # Operation: 10 x log(base 10)[1/number of samples x sum]\n",
    "    Leq_3oct[i] = 10.0 * math.log(((1/spectrum_signal_samples.shape[1])*sum),10)"
   ]
  },
  {
   "cell_type": "markdown",
   "metadata": {},
   "source": [
    "Returns Leq_3oct, which is an array with as many values as there are frequency bands being operated. In this example there are 28 Leq values. "
   ]
  },
  {
   "cell_type": "code",
   "execution_count": 6,
   "metadata": {},
   "outputs": [
    {
     "name": "stdout",
     "output_type": "stream",
     "text": [
      "Variable                     Type        Data/Info\n",
      "--------------------------------------------------\n",
      "Leq_3oct                     ndarray     28: 28 elems, type `float64`, 224 bytes\n",
      "calc_third_octave_levels     function    <function calc_third_octa<...>ls at 0x000001E0487FBDC0>\n",
      "freq_3oct                    ndarray     28: 28 elems, type `float64`, 224 bytes\n",
      "freq_dB                      ndarray     28: 28 elems, type `float64`, 224 bytes\n",
      "fs                           int         48000\n",
      "fs_3oct                      int         48000\n",
      "i                            int         27\n",
      "j                            int         9999\n",
      "load                         function    <function load at 0x000001E04A769CA0>\n",
      "math                         module      <module 'math' (built-in)>\n",
      "np                           module      <module 'numpy' from 'C:\\<...>ges\\\\numpy\\\\__init__.py'>\n",
      "path                         str         ../tests/input/1KHZ60DB.WAV\n",
      "sig                          ndarray     240000: 240000 elems, type `float64`, 1920000 bytes (1.8310546875 Mb)\n",
      "sig_3oct                     ndarray     240000: 240000 elems, type `float64`, 1920000 bytes (1.8310546875 Mb)\n",
      "sig_dB                       ndarray     10000: 10000 elems, type `float64`, 80000 bytes\n",
      "spectrum_signal_samples      ndarray     28x10000: 280000 elems, type `float64`, 2240000 bytes (2.13623046875 Mb)\n",
      "spectrum_signal_samples_dB   ndarray     28x10000: 280000 elems, type `float64`, 2240000 bytes (2.13623046875 Mb)\n",
      "sum                          float64     213.13549633936813\n"
     ]
    }
   ],
   "source": [
    "%whos"
   ]
  },
  {
   "cell_type": "code",
   "execution_count": 9,
   "metadata": {},
   "outputs": [
    {
     "name": "stdout",
     "output_type": "stream",
     "text": [
      "[ -5.20147271  -4.20438725  -3.20453578  -2.20153606  -1.19213014\n",
      "  -0.17387478   0.85651454   1.90968421   2.99986324   4.15602222\n",
      "   5.45182445   7.08722172   9.72892272  15.05638732  25.28016115\n",
      "  43.97734187  63.96508061  43.98126245  25.15723222  13.86945875\n",
      "   5.89673987   0.48391573  -4.7918796   -8.45490658 -11.17792411\n",
      " -14.13848308 -12.3985871  -16.71344215]\n",
      "['25', '31.5', '40', '50', '63', '80', '100', '125', '160', '200', '250', '315', '400', '500', '630', '800', '1000', '1250', '1600', '2000', '2500', '3150', '4000', '5000', '6300', '8000', '10000', '12500']\n"
     ]
    },
    {
     "name": "stderr",
     "output_type": "stream",
     "text": [
      "<ipython-input-9-54d7a7023ea0>:28: UserWarning: FixedFormatter should only be used together with FixedLocator\n",
      "  ax.set_xticklabels (freqs, rotation = 75, fontsize = 9)\n"
     ]
    },
    {
     "data": {
      "image/png": "[encoded data removed]",
      "text/plain": [
       "<Figure size 432x288 with 1 Axes>"
      ]
     },
     "metadata": {
      "needs_background": "light"
     },
     "output_type": "display_data"
    }
   ],
   "source": [
    "# Import useful packages\n",
    "import matplotlib.pyplot as plt\n",
    "\n",
    "print(Leq_3oct)\n",
    "\n",
    "freqs = ['25', '31.5', '40', '50', '63', '80', '100', '125', '160', '200', '250', '315',\n",
    "        '400', '500', '630', '800', '1000', '1250', '1600', '2000', '2500', '3150', '4000', '5000', '6300', '8000',\n",
    "        '10000', '12500']\n",
    "values = Leq_3oct\n",
    "\n",
    "print(freqs)\n",
    "        \n",
    "# The figure  is created\n",
    "fig = plt.figure ()\n",
    "# The object inside the figure is created\n",
    "ax = fig.add_subplot (1, 1, 1)\n",
    "\n",
    "# Legend on the y axis\n",
    "plt.ylabel ('Level dB')\n",
    "# Legend on the x axis\n",
    "plt.xlabel ('Frequency Hz')\n",
    "# Graphic Title\n",
    "plt.title ('Spectrum Third Octave Band 1KHz@60dB')\n",
    "\n",
    "# Bar graph is created\n",
    "ax.bar (freqs, values, color = \"C0\")\n",
    "# Rotation of the x axis data\n",
    "ax.set_xticklabels (freqs, rotation = 75, fontsize = 9)\n",
    "# Show the graph \n",
    "plt.show()"
   ]
  },
  {
   "cell_type": "markdown",
   "metadata": {},
   "source": [
    "### LAeq\n",
    "\n",
    "This function is only available for calculation in frequency bands (_3oct).\n",
    "\n",
    "Calculate the LAeq of the frequency bands you choose, returns the calculated LAeq values for each band. Each one is calculated with the levels (dBA) of its band in the different samples. This function uses the function Leq_3oct of the Mosqito, but instead of using dB values, dBA values are used. In order to convert dB into dBA we use an internal function of the Mosqito: A_weighting."
   ]
  },
  {
   "cell_type": "code",
   "execution_count": 8,
   "metadata": {},
   "outputs": [
    {
     "ename": "ModuleNotFoundError",
     "evalue": "No module named 'Leq_3oct'",
     "output_type": "error",
     "traceback": [
      "\u001b[1;31m---------------------------------------------------------------------------\u001b[0m",
      "\u001b[1;31mModuleNotFoundError\u001b[0m                       Traceback (most recent call last)",
      "\u001b[1;32m<ipython-input-8-ca18e7398f5d>\u001b[0m in \u001b[0;36m<module>\u001b[1;34m\u001b[0m\n\u001b[0;32m      2\u001b[0m \u001b[1;31m#ESTE FROM NO FUNCIONA, ARREGLAR LO DE LAS CARPETAS#################################\u001b[0m\u001b[1;33m\u001b[0m\u001b[1;33m\u001b[0m\u001b[1;33m\u001b[0m\u001b[0m\n\u001b[0;32m      3\u001b[0m \u001b[1;31m#from mosqito.functions.sound_level_meter.Leq_3oct import Leq_3oct\u001b[0m\u001b[1;33m\u001b[0m\u001b[1;33m\u001b[0m\u001b[1;33m\u001b[0m\u001b[0m\n\u001b[1;32m----> 4\u001b[1;33m \u001b[1;32mfrom\u001b[0m \u001b[0mLeq_3oct\u001b[0m \u001b[1;32mimport\u001b[0m \u001b[0mLeq_3oct\u001b[0m\u001b[1;33m\u001b[0m\u001b[1;33m\u001b[0m\u001b[0m\n\u001b[0m\u001b[0;32m      5\u001b[0m \u001b[1;32mfrom\u001b[0m \u001b[0mmosqito\u001b[0m\u001b[1;33m.\u001b[0m\u001b[0mfunctions\u001b[0m\u001b[1;33m.\u001b[0m\u001b[0mshared\u001b[0m\u001b[1;33m.\u001b[0m\u001b[0mA_weighting\u001b[0m \u001b[1;32mimport\u001b[0m \u001b[0mA_weighting\u001b[0m\u001b[1;33m\u001b[0m\u001b[1;33m\u001b[0m\u001b[0m\n",
      "\u001b[1;31mModuleNotFoundError\u001b[0m: No module named 'Leq_3oct'"
     ]
    }
   ],
   "source": [
    "# Local imports\n",
    "#ESTE FROM NO FUNCIONA, ARREGLAR LO DE LAS CARPETAS#################################\n",
    "#from mosqito.functions.sound_level_meter.Leq_3oct import Leq_3oct\n",
    "from Leq_3oct import Leq_3oct\n",
    "from mosqito.functions.shared.A_weighting import A_weighting"
   ]
  },
  {
   "cell_type": "markdown",
   "metadata": {},
   "source": [
    "Take the input array and transform its values into dBA. The operation is performed with each of the values and they are stored in an empty array. This new array with the values in dBA will be the input array for the Leq_3oct function."
   ]
  },
  {
   "cell_type": "markdown",
   "metadata": {},
   "source": [
    "Returns LAeq_3oct, which is an array with as many values as there are frequency bands being operated. In this example there are 28 LAeq values."
   ]
  },
  {
   "cell_type": "markdown",
   "metadata": {},
   "source": [
    "Aquí iría el codigo que muestra el LAeq_3oct ////////////////////////////////////////////////////////////////////////////////\n",
    "ejemplo de lo que se deberia ver\n",
    "\n",
    "\n",
    "[-30.4/ -23.4/ -16.7/ -10.5/ -4.7/   0.6/   5.4/   9.8/  13.8/  17.5/  20.9/  23.9/\n",
    "  26.6/  29.1/  31.4/  33.4/  35.2/  36.8/  38.1/  39.2/  40./   40.6/  41./   41.2/\n",
    "  41.3/  41.2/  41./   40.5/  39.9/  38.9/  37.5/  35.7/  33.4/  30.7]"
   ]
  },
  {
   "cell_type": "markdown",
   "metadata": {},
   "source": [
    " ### LCeq\n",
    "This function is only available for calculation in frequency bands (_3oct).\n",
    "\n",
    "Calculate the LCeq of the frequency bands you choose, returns the calculated LCeq values for each band. Each one is calculated with the levels (dBC) of its band in the different samples. This function uses the function Leq_3oct of the Mosqito, but instead of using dB values, dBC values are used. In order to convert dB into dBC we use an internal function of the Mosqito: C_weighting."
   ]
  },
  {
   "cell_type": "code",
   "execution_count": null,
   "metadata": {},
   "outputs": [],
   "source": [
    "# Local imports\n",
    "#ESTE FROM NO FUNCIONA, ARREGLAR LO DE LAS CARPETAS#################################\n",
    "from mosqito.functions.sound_level_meter.Leq_3oct import Leq_3oct\n",
    "from mosqito.functions.shared.C_weighting import C_weighting"
   ]
  },
  {
   "cell_type": "code",
   "execution_count": 11,
   "metadata": {},
   "outputs": [
    {
     "ename": "NameError",
     "evalue": "name 'A_weighting' is not defined",
     "output_type": "error",
     "traceback": [
      "\u001b[1;31m---------------------------------------------------------------------------\u001b[0m",
      "\u001b[1;31mNameError\u001b[0m                                 Traceback (most recent call last)",
      "\u001b[1;32m<ipython-input-11-763c54fd75f9>\u001b[0m in \u001b[0;36m<module>\u001b[1;34m\u001b[0m\n\u001b[0;32m      4\u001b[0m \u001b[1;31m# Save dBA lists in the list \"signal_sample_A\".\u001b[0m\u001b[1;33m\u001b[0m\u001b[1;33m\u001b[0m\u001b[1;33m\u001b[0m\u001b[0m\n\u001b[0;32m      5\u001b[0m \u001b[1;32mfor\u001b[0m \u001b[0mi\u001b[0m \u001b[1;32min\u001b[0m \u001b[0mrange\u001b[0m\u001b[1;33m(\u001b[0m\u001b[0mspectrum_signal_samples\u001b[0m\u001b[1;33m.\u001b[0m\u001b[0mshape\u001b[0m\u001b[1;33m[\u001b[0m\u001b[1;36m0\u001b[0m\u001b[1;33m]\u001b[0m\u001b[1;33m)\u001b[0m\u001b[1;33m:\u001b[0m\u001b[1;33m\u001b[0m\u001b[1;33m\u001b[0m\u001b[0m\n\u001b[1;32m----> 6\u001b[1;33m     \u001b[0msignal_sample_A\u001b[0m\u001b[1;33m.\u001b[0m\u001b[0mappend\u001b[0m\u001b[1;33m(\u001b[0m\u001b[0mA_weighting\u001b[0m\u001b[1;33m(\u001b[0m\u001b[0mspectrum_signal_samples\u001b[0m\u001b[1;33m[\u001b[0m\u001b[0mi\u001b[0m\u001b[1;33m]\u001b[0m\u001b[1;33m,\u001b[0m\u001b[0mfreq\u001b[0m\u001b[1;33m)\u001b[0m\u001b[1;33m)\u001b[0m\u001b[1;33m\u001b[0m\u001b[1;33m\u001b[0m\u001b[0m\n\u001b[0m\u001b[0;32m      7\u001b[0m     \u001b[1;31m# Create an array in which each list of \"signal_sample_A\" is a line of the array.\u001b[0m\u001b[1;33m\u001b[0m\u001b[1;33m\u001b[0m\u001b[1;33m\u001b[0m\u001b[0m\n\u001b[0;32m      8\u001b[0m     \u001b[0mspectrum_signal_samples_A\u001b[0m \u001b[1;33m=\u001b[0m \u001b[0mnp\u001b[0m\u001b[1;33m.\u001b[0m\u001b[0marray\u001b[0m\u001b[1;33m(\u001b[0m\u001b[0msignal_sample_A\u001b[0m\u001b[1;33m)\u001b[0m\u001b[1;33m\u001b[0m\u001b[1;33m\u001b[0m\u001b[0m\n",
      "\u001b[1;31mNameError\u001b[0m: name 'A_weighting' is not defined"
     ]
    }
   ],
   "source": [
    "# Empty list to keep the lists. Each list is the dBA values for each frequency band in a sample. \n",
    "signal_sample_A = []\n",
    "# Take the lines of the array one by one and perform the function to transform the values in dB to dBA.\n",
    "# Save dBA lists in the list \"signal_sample_A\". \n",
    "for i in range(spectrum_signal_samples.shape[0]):\n",
    "    signal_sample_A.append(A_weighting(spectrum_signal_samples[i],freq))\n",
    "    # Create an array in which each list of \"signal_sample_A\" is a line of the array. \n",
    "    spectrum_signal_samples_A = np.array(signal_sample_A)\n",
    "    # Calculate Leq of each frequency bands with the new dBA values. \n",
    "    LAeq_3oct = Leq_3oct(spectrum_signal_samples_A, freq)"
   ]
  },
  {
   "cell_type": "markdown",
   "metadata": {},
   "source": [
    "Take the input array and transform its values into dBC. The operation is performed with each of the values and they are stored in an empty array. This new array with the values in dBC will be the input array for the Leq_3oct function."
   ]
  },
  {
   "cell_type": "code",
   "execution_count": 12,
   "metadata": {},
   "outputs": [
    {
     "ename": "NameError",
     "evalue": "name 'C_weighting' is not defined",
     "output_type": "error",
     "traceback": [
      "\u001b[1;31m---------------------------------------------------------------------------\u001b[0m",
      "\u001b[1;31mNameError\u001b[0m                                 Traceback (most recent call last)",
      "\u001b[1;32m<ipython-input-12-70a88dde1680>\u001b[0m in \u001b[0;36m<module>\u001b[1;34m\u001b[0m\n\u001b[0;32m      4\u001b[0m \u001b[1;31m# Save dBC lists in the list \"signal_sample_C\".\u001b[0m\u001b[1;33m\u001b[0m\u001b[1;33m\u001b[0m\u001b[1;33m\u001b[0m\u001b[0m\n\u001b[0;32m      5\u001b[0m \u001b[1;32mfor\u001b[0m \u001b[0mi\u001b[0m \u001b[1;32min\u001b[0m \u001b[0mrange\u001b[0m\u001b[1;33m(\u001b[0m\u001b[0mspectrum_signal_samples\u001b[0m\u001b[1;33m.\u001b[0m\u001b[0mshape\u001b[0m\u001b[1;33m[\u001b[0m\u001b[1;36m0\u001b[0m\u001b[1;33m]\u001b[0m\u001b[1;33m)\u001b[0m\u001b[1;33m:\u001b[0m\u001b[1;33m\u001b[0m\u001b[1;33m\u001b[0m\u001b[0m\n\u001b[1;32m----> 6\u001b[1;33m     \u001b[0msignal_sample_C\u001b[0m\u001b[1;33m.\u001b[0m\u001b[0mappend\u001b[0m\u001b[1;33m(\u001b[0m\u001b[0mC_weighting\u001b[0m\u001b[1;33m(\u001b[0m\u001b[0mspectrum_signal_samples\u001b[0m\u001b[1;33m[\u001b[0m\u001b[0mi\u001b[0m\u001b[1;33m]\u001b[0m\u001b[1;33m,\u001b[0m\u001b[0mfreq\u001b[0m\u001b[1;33m)\u001b[0m\u001b[1;33m)\u001b[0m\u001b[1;33m\u001b[0m\u001b[1;33m\u001b[0m\u001b[0m\n\u001b[0m\u001b[0;32m      7\u001b[0m     \u001b[1;31m# Create an array in which each list of \"signal_sample_C\" is a line of the array.\u001b[0m\u001b[1;33m\u001b[0m\u001b[1;33m\u001b[0m\u001b[1;33m\u001b[0m\u001b[0m\n\u001b[0;32m      8\u001b[0m     \u001b[0mspectrum_signal_samples_C\u001b[0m \u001b[1;33m=\u001b[0m \u001b[0mnp\u001b[0m\u001b[1;33m.\u001b[0m\u001b[0marray\u001b[0m\u001b[1;33m(\u001b[0m\u001b[0msignal_sample_C\u001b[0m\u001b[1;33m)\u001b[0m\u001b[1;33m\u001b[0m\u001b[1;33m\u001b[0m\u001b[0m\n",
      "\u001b[1;31mNameError\u001b[0m: name 'C_weighting' is not defined"
     ]
    }
   ],
   "source": [
    "# Empty list to keep the lists. Each list is the dBC values for each frequency band in a sample.\n",
    "signal_sample_C = []\n",
    "# Take the lines of the array one by one and perform the function to transform the values in dB to dBC.\n",
    "# Save dBC lists in the list \"signal_sample_C\".\n",
    "for i in range(spectrum_signal_samples.shape[0]):\n",
    "    signal_sample_C.append(C_weighting(spectrum_signal_samples[i],freq))\n",
    "    # Create an array in which each list of \"signal_sample_C\" is a line of the array.\n",
    "    spectrum_signal_samples_C = np.array(signal_sample_C)\n",
    "    # Calculate Leq of each frequency bands with the new dBC values.\n",
    "    LCeq_3oct = Leq_3oct(spectrum_signal_samples_C, freq)"
   ]
  },
  {
   "cell_type": "markdown",
   "metadata": {},
   "source": [
    "Returns LCeq_3oct, which is an array with as many values as there are frequency bands being operated. In this example there are 28 LCeq values. "
   ]
  },
  {
   "cell_type": "markdown",
   "metadata": {},
   "source": [
    "Aquí iría el codigo que muestra el LCeq_3oct ////////////////////////////////////////////////////////////////////////////////\n",
    "ejemplo de lo que se deberia ver\n",
    "\n",
    "\n",
    "[-30.4/ -23.4/ -16.7/ -10.5/ -4.7/   0.6/   5.4/   9.8/  13.8/  17.5/  20.9/  23.9/\n",
    "  26.6/  29.1/  31.4/  33.4/  35.2/  36.8/  38.1/  39.2/  40./   40.6/  41./   41.2/\n",
    "  41.3/  41.2/  41./   40.5/  39.9/  38.9/  37.5/  35.7/  33.4/  30.7]"
   ]
  },
  {
   "cell_type": "markdown",
   "metadata": {},
   "source": [
    "### Max_level\n",
    "The function returns the value of the maximum level. This function has two ways to calculate:\n",
    "    \n",
    "    - 1. max_level_3oct: for the maximum value of each frequency band.\n",
    "    - 2. max_level: for the maximum value of the time samples.\n",
    "    \n",
    "#####  max_level_3oct\n",
    "Return the maximum value of the frequency bands you choose. Each one is calculated with the levels (dB) of its band in the different samples. The array is traversed row by row choosing the maximum value with the help of the function max(), then they are stored in an empty array. "
   ]
  },
  {
   "cell_type": "code",
   "execution_count": 13,
   "metadata": {},
   "outputs": [],
   "source": [
    "# Empty array to keep the levels (dB) of each one of the samples of a specific frequency band.\n",
    "main_freq = np.zeros(spectrum_signal_samples.shape[1])\n",
    "# Empty array to store the maximum values of each frequency band.\n",
    "max_level_3oct = np.zeros(freq_3oct.shape[0])\n",
    "# For each frequency band you perform the operation.\n",
    "for i in range(freq_3oct.shape[0]):\n",
    "    # Save the values of a frequency band.\n",
    "    for j in range(spectrum_signal_samples.shape[1]):\n",
    "        main_freq[j] = spectrum_signal_samples[i,j]\n",
    "    # Calculate the maximum with the values.\n",
    "    max_level_3oct[i] = max(main_freq)"
   ]
  },
  {
   "cell_type": "markdown",
   "metadata": {},
   "source": [
    "Returns max_level_3oct, which is an array with as many values as there are frequency bands being operated. In this example there are 28 maximum values. "
   ]
  },
  {
   "cell_type": "code",
   "execution_count": 14,
   "metadata": {},
   "outputs": [
    {
     "name": "stdout",
     "output_type": "stream",
     "text": [
      "[ 9.72795273 11.73178011 13.73718591 15.74474237 17.75770748 19.77881728\n",
      " 21.8106451  23.86365606 25.9480569  28.08499947 30.30472111 32.65794018\n",
      " 35.26619306 38.35441731 42.51657732 52.05799961 64.47387874 51.48124055\n",
      " 41.64146552 36.83745473 32.92425462 29.58994153 26.33375145 23.38380838\n",
      " 20.41512666 17.60442501 15.11485449 12.71764999]\n"
     ]
    },
    {
     "name": "stderr",
     "output_type": "stream",
     "text": [
      "<ipython-input-14-c47cac56033f>:23: UserWarning: FixedFormatter should only be used together with FixedLocator\n",
      "  ax.set_xticklabels (freqs, rotation = 75, fontsize = 9)\n"
     ]
    },
    {
     "data": {
      "image/png": "[encoded data removed]",
      "text/plain": [
       "<Figure size 432x288 with 1 Axes>"
      ]
     },
     "metadata": {
      "needs_background": "light"
     },
     "output_type": "display_data"
    }
   ],
   "source": [
    "print(max_level_3oct)\n",
    "\n",
    "freqs = ['25', '31.5', '40', '50', '63', '80', '100', '125', '160', '200', '250', '315',\n",
    "        '400', '500', '630', '800', '1000', '1250', '1600', '2000', '2500', '3150', '4000', '5000', '6300', '8000',\n",
    "        '10000', '12500']\n",
    "values = max_level_3oct\n",
    "        \n",
    "# The figure  is created\n",
    "fig = plt.figure ()\n",
    "# The object inside the figure is created\n",
    "ax = fig.add_subplot (1, 1, 1)\n",
    "\n",
    "# Legend on the y axis\n",
    "plt.ylabel ('Level dB')\n",
    "# Legend on the x axis\n",
    "plt.xlabel ('Frequency Hz')\n",
    "# Graphic Title\n",
    "plt.title ('Spectrum Third Octave Band 1KHz@60dB')\n",
    "\n",
    "# Bar graph is created\n",
    "ax.bar (freqs, values, color = \"C0\")\n",
    "# Rotation of the x axis data\n",
    "ax.set_xticklabels (freqs, rotation = 75, fontsize = 9)\n",
    "# Show the graph \n",
    "plt.show()"
   ]
  },
  {
   "cell_type": "markdown",
   "metadata": {},
   "source": [
    "#####  max_level\n",
    "Return the maximum value of the series of levels (dB) collected over time (samples). Searches all samples and returns the highest level with the help of the max() function.\n"
   ]
  },
  {
   "cell_type": "code",
   "execution_count": 15,
   "metadata": {},
   "outputs": [],
   "source": [
    "# Save the maximum level.\n",
    "max_level = np.array(max(sig_dB))"
   ]
  },
  {
   "cell_type": "markdown",
   "metadata": {},
   "source": [
    "Returns max_level, which is one value representative of the samples."
   ]
  },
  {
   "cell_type": "code",
   "execution_count": 16,
   "metadata": {},
   "outputs": [
    {
     "name": "stdout",
     "output_type": "stream",
     "text": [
      "64.60694546140881\n"
     ]
    }
   ],
   "source": [
    "print(max_level)"
   ]
  },
  {
   "cell_type": "markdown",
   "metadata": {},
   "source": [
    "### Min_level\n",
    "The function returns the value of the minimum level. This function has two ways to calculate:\n",
    "    \n",
    "    - 1. min_level_3oct: for the minimum value of each frequency band.\n",
    "    - 2. min_level: for the minimum value of the time samples.\n",
    "    \n",
    "#####  min_level_3oct\n",
    "Return the minimum value of the frequency bands you choose. Each one is calculated with the levels (dB) of its band in the different samples. The array is traversed row by row choosing the minimum value with the help of the function min(), then they are stored in an empty array. "
   ]
  },
  {
   "cell_type": "code",
   "execution_count": 17,
   "metadata": {},
   "outputs": [],
   "source": [
    "# Third party imports\n",
    "import numpy as np\n",
    "\n",
    "# Empty array to keep the levels (dB) of each one of the samples of a specific frequency band.\n",
    "main_freq = np.zeros(spectrum_signal_samples.shape[1])\n",
    "# Empty array to store the minimum values of each frequency band.\n",
    "min_level_3oct = np.zeros(freq_3oct.shape[0])\n",
    "# For each frequency band you perform the operation.\n",
    "for i in range(freq_3oct.shape[0]):\n",
    "    # Save the values of a frequency band.\n",
    "    for j in range(spectrum_signal_samples.shape[1]):\n",
    "        main_freq[j] = spectrum_signal_samples[i,j]\n",
    "    # Calculate the maximum with the values.\n",
    "    min_level_3oct[i] = min(main_freq)"
   ]
  },
  {
   "cell_type": "markdown",
   "metadata": {},
   "source": [
    "Returns min_level_3oct, which is an array with as many values as there are frequency bands being operated. In this example there are 34 minimum values because they have been calculated for all third octave bands. "
   ]
  },
  {
   "cell_type": "code",
   "execution_count": 18,
   "metadata": {},
   "outputs": [
    {
     "name": "stdout",
     "output_type": "stream",
     "text": [
      "[-26.02059991 -26.02059991 -26.02059991 -26.02059991 -26.02059991\n",
      " -26.02059991 -26.02059991 -26.02059991 -26.02059991 -26.02059991\n",
      " -26.02059991 -26.02059991 -26.02059991 -26.02059991 -26.02059991\n",
      " -26.02059991 -26.02059991 -26.02059991 -26.02059991 -26.02059991\n",
      " -26.02059991 -26.02059991 -26.02059991 -26.02059991 -26.02059991\n",
      " -26.02059991 -26.02059991 -26.02059991]\n"
     ]
    },
    {
     "name": "stderr",
     "output_type": "stream",
     "text": [
      "<ipython-input-18-c163ee221179>:23: UserWarning: FixedFormatter should only be used together with FixedLocator\n",
      "  ax.set_xticklabels (freqs, rotation = 75, fontsize = 9)\n"
     ]
    },
    {
     "data": {
      "image/png": "[encoded data removed]",
      "text/plain": [
       "<Figure size 432x288 with 1 Axes>"
      ]
     },
     "metadata": {
      "needs_background": "light"
     },
     "output_type": "display_data"
    }
   ],
   "source": [
    "print(min_level_3oct)\n",
    "\n",
    "freqs = ['25', '31.5', '40', '50', '63', '80', '100', '125', '160', '200', '250', '315',\n",
    "        '400', '500', '630', '800', '1000', '1250', '1600', '2000', '2500', '3150', '4000', '5000', '6300', '8000',\n",
    "        '10000', '12500']\n",
    "values = min_level_3oct\n",
    "        \n",
    "# The figure  is created\n",
    "fig = plt.figure ()\n",
    "# The object inside the figure is created\n",
    "ax = fig.add_subplot (1, 1, 1)\n",
    "\n",
    "# Legend on the y axis\n",
    "plt.ylabel ('Level dB')\n",
    "# Legend on the x axis\n",
    "plt.xlabel ('Frequency Hz')\n",
    "# Graphic Title\n",
    "plt.title ('Spectrum Third Octave Band 1KHz@60dB')\n",
    "\n",
    "# Bar graph is created\n",
    "ax.bar (freqs, values, color = \"C0\")\n",
    "# Rotation of the x axis data\n",
    "ax.set_xticklabels (freqs, rotation = 75, fontsize = 9)\n",
    "# Show the graph \n",
    "plt.show()"
   ]
  },
  {
   "cell_type": "markdown",
   "metadata": {},
   "source": [
    "#####  min_level\n",
    "Return the minimum value of the series of levels (dB) collected over time (samples). Searches all samples and returns the lowest level with the help of the min() function.\n"
   ]
  },
  {
   "cell_type": "code",
   "execution_count": 19,
   "metadata": {},
   "outputs": [],
   "source": [
    "# Save the minimum level.\n",
    "min_level = min(sig_dB)"
   ]
  },
  {
   "cell_type": "markdown",
   "metadata": {},
   "source": [
    "Returns min_level, which is one value representative of the samples."
   ]
  },
  {
   "cell_type": "code",
   "execution_count": 20,
   "metadata": {},
   "outputs": [
    {
     "name": "stdout",
     "output_type": "stream",
     "text": [
      "-11.54901959985743\n"
     ]
    }
   ],
   "source": [
    "print(min_level)"
   ]
  },
  {
   "cell_type": "markdown",
   "metadata": {},
   "source": [
    "### Percentile\n",
    "The function returns the value of the percentiles. This function has two ways to calculate:\n",
    "    \n",
    "    - 1. LN_3oct: for the percentile value of each frequency band.\n",
    "    - 2. LN: for the percentile value of the time samples.\n",
    "    \n",
    "#####  LN_3oct\n",
    "Calculate the percentiles of the frequency bands you choose, returns the results for each frequency band.Take the values of a frequency band in the different samples and with those values calculate the percentile that you ask for with the help of the numpy.percentile() function."
   ]
  },
  {
   "cell_type": "code",
   "execution_count": 21,
   "metadata": {},
   "outputs": [],
   "source": [
    "# Empty array to keep the levels (dB) of each one of the samples of a specific frequency band.  \n",
    "main_freq = np.zeros(spectrum_signal_samples.shape[1])\n",
    "\n",
    "# Empty array to store the L90 values of each frequency band.\n",
    "percentile_L90_3oct = np.zeros(freq_3oct.shape[0])\n",
    "\n",
    "# For each frequency band you perform the operation.\n",
    "for i in range(freq_3oct.shape[0]):\n",
    "    # Save the values of a frequency band.\n",
    "    for j in range(spectrum_signal_samples.shape[1]):\n",
    "        main_freq[j] = spectrum_signal_samples[i,j]\n",
    "        # Calculate the percentiles with the values. \"q\" of np.percentile = 100 - N (N of LN).\n",
    "        L90 = np.percentile(main_freq, 10,interpolation='linear')\n",
    "            \n",
    "    # Save in each array the values corresponding to its percentile. Each value of the array line belongs\n",
    "    # to a frequency band.\n",
    "    percentile_L90_3oct[i] = L90\n",
    "        "
   ]
  },
  {
   "cell_type": "markdown",
   "metadata": {},
   "source": [
    "Returns, in this example,  percentile_L90, which is an array with as many values as there are frequency bands being operated. In this example there are 28 percentile values."
   ]
  },
  {
   "cell_type": "code",
   "execution_count": 23,
   "metadata": {},
   "outputs": [
    {
     "name": "stdout",
     "output_type": "stream",
     "text": [
      "[-26.02049808 -26.02019363 -26.01897698 -26.01410625 -25.9945762\n",
      " -25.91646864 -25.61141929 -24.53573976 -21.67807536 -16.72897454\n",
      " -10.50642191  -3.53984381   4.19545927  13.2500017   24.98635598\n",
      "  43.96289117  63.96993484  43.97152927  25.03166958  13.32253052\n",
      "   4.40113158  -2.04516917  -9.93852446 -15.14938175 -16.99789125\n",
      " -20.59397137 -13.84819227 -19.20758803]\n"
     ]
    },
    {
     "name": "stderr",
     "output_type": "stream",
     "text": [
      "<ipython-input-23-fafa991f4295>:23: UserWarning: FixedFormatter should only be used together with FixedLocator\n",
      "  ax.set_xticklabels (freqs, rotation = 75, fontsize = 9)\n"
     ]
    },
    {
     "data": {
      "image/png": "[encoded data removed]",
      "text/plain": [
       "<Figure size 432x288 with 1 Axes>"
      ]
     },
     "metadata": {
      "needs_background": "light"
     },
     "output_type": "display_data"
    }
   ],
   "source": [
    "print(percentile_L90_3oct)\n",
    "\n",
    "freqs = ['25', '31.5', '40', '50', '63', '80', '100', '125', '160', '200', '250', '315',\n",
    "        '400', '500', '630', '800', '1000', '1250', '1600', '2000', '2500', '3150', '4000', '5000', '6300', '8000',\n",
    "        '10000', '12500']\n",
    "values = Leq_3oct\n",
    "        \n",
    "# The figure  is created\n",
    "fig = plt.figure ()\n",
    "# The object inside the figure is created\n",
    "ax = fig.add_subplot (1, 1, 1)\n",
    "\n",
    "# Legend on the y axis\n",
    "plt.ylabel ('Level dB')\n",
    "# Legend on the x axis\n",
    "plt.xlabel ('Frequency Hz')\n",
    "# Graphic Title\n",
    "plt.title ('Spectrum Third Octave Band 1KHz@60dB')\n",
    "\n",
    "# Bar graph is created\n",
    "ax.bar (freqs, values, color = \"C0\")\n",
    "# Rotation of the x axis data\n",
    "ax.set_xticklabels (freqs, rotation = 75, fontsize = 9)\n",
    "# Show the graph \n",
    "plt.show()"
   ]
  },
  {
   "cell_type": "markdown",
   "metadata": {},
   "source": [
    "#####  LN\n",
    "Return the percentile value of the series of levels (dB) collected over time (samples). Calculate the percentile you want to study from a series of levels (dB) collected over time (samples) with the help of the numpy.percentile() function."
   ]
  },
  {
   "cell_type": "code",
   "execution_count": null,
   "metadata": {},
   "outputs": [],
   "source": [
    "# Calculate the percentiles with the values. \"q\" of np.percentile = 100 - N (N of LN).\n",
    "L90 = np.percentile(sig_dB, 10,interpolation='linear') \n",
    "L50 = np.percentile(sig_dB, 50,interpolation='linear') \n",
    "L25 = np.percentile(sig_dB, 75,interpolation='linear')\n",
    "\n",
    "# Save the calculated percentile values.\n",
    "percentiles = np.array([L25,L50,L90])"
   ]
  },
  {
   "cell_type": "markdown",
   "metadata": {},
   "source": [
    "Returns percentiles, which is an array with all the percentiles that have been calculated."
   ]
  },
  {
   "cell_type": "code",
   "execution_count": null,
   "metadata": {},
   "outputs": [],
   "source": [
    "print(percentiles)"
   ]
  }
 ],
 "metadata": {
  "kernelspec": {
   "display_name": "Python 3",
   "language": "python",
   "name": "python3"
  },
  "language_info": {
   "codemirror_mode": {
    "name": "ipython",
    "version": 3
   },
   "file_extension": ".py",
   "mimetype": "text/x-python",
   "name": "python",
   "nbconvert_exporter": "python",
   "pygments_lexer": "ipython3",
   "version": "3.8.8"
  },
  "latex_envs": {
   "LaTeX_envs_menu_present": true,
   "autoclose": false,
   "autocomplete": true,
   "bibliofile": "biblio.bib",
   "cite_by": "apalike",
   "current_citInitial": 1,
   "eqLabelWithNumbers": true,
   "eqNumInitial": 1,
   "hotkeys": {
    "equation": "Ctrl-E",
    "itemize": "Ctrl-I"
   },
   "labels_anchors": false,
   "latex_user_defs": false,
   "report_style_numbering": false,
   "user_envs_cfg": false
  },
  "toc": {
   "base_numbering": "1",
   "nav_menu": {},
   "number_sections": true,
   "sideBar": true,
   "skip_h1_title": true,
   "title_cell": "Table of Contents",
   "title_sidebar": "Contents",
   "toc_cell": true,
   "toc_position": {},
   "toc_section_display": true,
   "toc_window_display": true
  }
 },
 "nbformat": 4,
 "nbformat_minor": 4
}
