{
 "cells": [
  {
   "cell_type": "markdown",
   "metadata": {
    "toc": true
   },
   "source": [
    "<h1>Table of Contents<span class=\"tocSkip\"></span></h1>\n",
    "<div class=\"toc\"><ul class=\"toc-item\"><li><span><a href=\"#By-using-the-scripting-interface\" data-toc-modified-id=\"By-using-the-scripting-interface-1\"><span class=\"toc-item-num\">1&nbsp;&nbsp;</span>By using the scripting interface</a></span><ul class=\"toc-item\"><li><span><a href=\"#Time-varying-signal\" data-toc-modified-id=\"Time-varying-signal-1.1\"><span class=\"toc-item-num\">1.1&nbsp;&nbsp;</span>Time varying signal</a></span></li><li><span><a href=\"#Steady-signal\" data-toc-modified-id=\"Steady-signal-1.2\"><span class=\"toc-item-num\">1.2&nbsp;&nbsp;</span>Steady signal</a></span></li></ul></li><li><span><a href=\"#Using-the-function-library\" data-toc-modified-id=\"Using-the-function-library-2\"><span class=\"toc-item-num\">2&nbsp;&nbsp;</span>Using the function library</a></span><ul class=\"toc-item\"><li><span><a href=\"#Time-varying-signal\" data-toc-modified-id=\"Time-varying-signal-2.1\"><span class=\"toc-item-num\">2.1&nbsp;&nbsp;</span>Time varying signal</a></span></li><li><span><a href=\"#Steady-signal\" data-toc-modified-id=\"Steady-signal-2.2\"><span class=\"toc-item-num\">2.2&nbsp;&nbsp;</span>Steady signal</a></span></li></ul></li></ul></div>"
   ]
  },
  {
   "cell_type": "markdown",
   "metadata": {},
   "source": [
    "\n",
    "# How to compute tone-to-noise and prominence ratios\n",
    "\n",
    "This tutorial explains how to use MOSQITO to compute the TNR and PR, indicating the proeminence of tonal components in a signal. Two approaches are possible: scripting interface and function library. The users who just need to compute SQ metrics should preferably use the scripting interface approach. The function library approach is dedicated to users who would like to integrate MOSQITO functions in another software for instance.\n",
    "\n",
    "In this tutorial, only the TNR results are plotted for the time-varying signals. The PR plots can be obtained by the exact same way just by replacing \"tnr\" by \"pr\".\n",
    "\n",
    "\n",
    "## By using the scripting interface\n",
    "### Time varying signal\n",
    "An Audio object is first created by importing an audio file. In this example, the signal is imported from a .wav file. The tutorial [how to import a signal](./tuto_import_signal.ipynb) gives more information about the syntax of the import and the other supported file types. Check the tutorial [Audio signal basic operations](./signal_basic_operations.ipynb) to learn how to plot the time signal, compute and plot its 1/3 octave band spectrum, compute its overall level, etc.\n",
    "\n"
   ]
  },
  {
   "cell_type": "code",
   "execution_count": 1,
   "metadata": {},
   "outputs": [
    {
     "name": "stdout",
     "output_type": "stream",
     "text": [
      "Signal resampled to 48 kHz to allow calculation.\n"
     ]
    }
   ],
   "source": [
    "# Add MOSQITO to the Python path\n",
    "import sys\n",
    "sys.path.append('..')\n",
    "\n",
    "# Import MOSQITO color sheme [Optional]\n",
    "from mosqito import COLORS\n",
    "\n",
    "# Import Audio class\n",
    "from mosqito.classes.Audio import Audio\n",
    "\n",
    "# Create an Audio object\n",
    "test_signal = Audio(\n",
    "    \"../mosqito/tests/tonality_tnr_pr/white_noise_442_1768_Hz_varying.wav\",\n",
    "    calib=0.01\n",
    ")"
   ]
  },
  {
   "cell_type": "markdown",
   "metadata": {},
   "source": [
    "The TNR and PR are computed at one time using the following command line. The function takes 2 input arguments: \n",
    "- \"method\", that can be set to \"tnr\", \"pr\", or \"all\" to compute both,\n",
    "- \"prominence\", that indicates if the outputs are either only the prominent values or all tonal values.\n",
    "\n",
    "The tonal candidates are automatically detected using the Sottek method (see the corresponding [documentation](../documentation/tone-to-noise-prominence-ratio.md) for more information) "
   ]
  },
  {
   "cell_type": "code",
   "execution_count": 2,
   "metadata": {},
   "outputs": [],
   "source": [
    "test_signal.compute_tnr_pr(method='all',prominence=True)"
   ]
  },
  {
   "cell_type": "markdown",
   "metadata": {},
   "source": [
    "[work in progress]\n",
    "\n",
    "*The preceeding command computes both the TNR and PR of the audio signal as a function of frequency and time. Their value can be plotted with the following command. The \"freqs\" and \"time\" arguments indicate the axis over which the values should be plotted. The is_switch_axis argument is used to create a conventional plot with time on the x-axis and frequency on the y-axis. The is_2D_view argument implies the use of a colorbar for the tonality value in dB.*"
   ]
  },
  {
   "cell_type": "code",
   "execution_count": 1,
   "metadata": {},
   "outputs": [],
   "source": [
    "#test_signal.tonality[\"tnr\"].plot_3D_Data(\n",
    "#        \"freqs\",\n",
    "#        \"time\",\n",
    "#        is_switch_axes=True,\n",
    "#        is_2D_view=True,\n",
    "#    )\n"
   ]
  },
  {
   "cell_type": "markdown",
   "metadata": {},
   "source": [
    "### Steady signal\n",
    "For a steady signal, the syntax is almost equivalent, see below."
   ]
  },
  {
   "cell_type": "code",
   "execution_count": 5,
   "metadata": {},
   "outputs": [
    {
     "name": "stdout",
     "output_type": "stream",
     "text": [
      "Signal resampled to 48 kHz to allow calculation.\n",
      "Tone-to-noise ratio: [31.40178392 26.8806489 ] dB at [ 442 1768] Hz\n",
      "T-TNR: 32.715053586050644 dB\n",
      "Prominence ratio: [30.72207589 26.83739332] dB at [ 442 1768] Hz\n",
      "T-PR: 32.21328086526112 dB\n"
     ]
    }
   ],
   "source": [
    "# Create an Audio object\n",
    "steadynoise = Audio(\n",
    "    \"../mosqito/tests/tonality_tnr_pr/white_noise_442_1768_Hz_stationary.wav\",\n",
    "    calib=0.01,\n",
    "    is_stationary=True\n",
    ")\n",
    "\n",
    "# Compute TNR and PR \n",
    "steadynoise.compute_tnr_pr(method=\"all\",prominence=True)\n",
    "\n",
    "# Print the results\n",
    "print(\"Tone-to-noise ratio:\" , steadynoise.tonality[\"tnr\"].values , \"dB at\", steadynoise.tonality[\"tnr\"].axes[0].values, \"Hz\")\n",
    "print(\"T-TNR:\", steadynoise.tonality[\"ttnr\"],\"dB\")\n",
    "print(\"Prominence ratio:\" , steadynoise.tonality[\"pr\"].values , \"dB at\", steadynoise.tonality[\"pr\"].axes[0].values, \"Hz\")\n",
    "print(\"T-PR:\", steadynoise.tonality[\"tpr\"],\"dB\")\n"
   ]
  },
  {
   "cell_type": "markdown",
   "metadata": {},
   "source": [
    "## Using the function library\n",
    "### Time varying signal\n",
    "The commands below shows how to compute the TNR and PR of a time varying signal by directly using the functions from MOSQITO. "
   ]
  },
  {
   "cell_type": "code",
   "execution_count": 6,
   "metadata": {},
   "outputs": [
    {
     "name": "stdout",
     "output_type": "stream",
     "text": [
      "Signal resampled to 48 kHz to allow calculation.\n"
     ]
    },
    {
     "data": {
      "text/plain": [
       "([<matplotlib.axis.XTick at 0x26fead05eb0>,\n",
       "  <matplotlib.axis.XTick at 0x26fead05e80>,\n",
       "  <matplotlib.axis.XTick at 0x26fe9caeb20>,\n",
       "  <matplotlib.axis.XTick at 0x26fead484c0>,\n",
       "  <matplotlib.axis.XTick at 0x26fead4a730>,\n",
       "  <matplotlib.axis.XTick at 0x26fead457c0>,\n",
       "  <matplotlib.axis.XTick at 0x26fead489d0>],\n",
       " [Text(0, 0, '0'),\n",
       "  Text(0, 0, '0.5'),\n",
       "  Text(0, 0, '1'),\n",
       "  Text(0, 0, '1.5'),\n",
       "  Text(0, 0, '2'),\n",
       "  Text(0, 0, '2.5'),\n",
       "  Text(0, 0, '3')])"
      ]
     },
     "execution_count": 6,
     "metadata": {},
     "output_type": "execute_result"
    },
    {
     "data": {
      "image/png": "[encoded data removed]",
      "text/plain": [
       "<Figure size 1008x720 with 2 Axes>"
      ]
     },
     "metadata": {
      "needs_background": "light"
     },
     "output_type": "display_data"
    }
   ],
   "source": [
    "# Import useful packages\n",
    "import numpy as np\n",
    "import matplotlib.pyplot as plt\n",
    "import math\n",
    "\n",
    "# Import MOSQITO functions\n",
    "from mosqito.functions.shared.load import load\n",
    "from mosqito.functions.tonality_tnr_pr.comp_tnr import comp_tnr\n",
    "from mosqito.functions.tonality_tnr_pr.comp_pr import comp_pr\n",
    "\n",
    "# Load signal \n",
    "signal, fs = load(\n",
    "    False,\n",
    "    \"../mosqito/tests/tonality_tnr_pr/white_noise_442_1768_Hz_varying.wav\",\n",
    "    calib=0.01\n",
    ")\n",
    "\n",
    "# TNR calculation\n",
    "tnr = comp_tnr(False, signal, fs, prominence=True)\n",
    "\n",
    "# PR calculation\n",
    "pr = comp_pr(False, signal, fs, prominence=True)\n",
    "\n",
    "# Plot\n",
    "plt.figure(figsize=(14,10))\n",
    "plt.pcolormesh(tnr[\"values\"], vmin=0)\n",
    "plt.colorbar(label = \"TNR value in dB\")\n",
    "plt.title(\"Tone-to-noise ratio (all discrete tones)\", fontsize=14)\n",
    "plt.xlabel(\"Time [s]\")\n",
    "plt.ylabel(\"Frequency [Hz]\")\n",
    "freq_axis = np.logspace(np.log10(90),np.log10(11200),num=1000)\n",
    "freq_labels = [90,200,500,1000,2000,5000,10000]\n",
    "freq_ticks = []\n",
    "for i in range(len(freq_labels)):\n",
    "        freq_ticks.append(np.argmin(np.abs(freq_axis - freq_labels[i])))\n",
    "plt.yticks(freq_ticks, labels=[str(elem) for elem in freq_labels])\n",
    "nb_frame = math.floor(signal.size / 0.5*fs)\n",
    "plt.xticks([0,1,2,3,4,5,6],labels=[\"0\",\"0.5\",\"1\",\"1.5\",\"2\",\"2.5\",\"3\"])"
   ]
  },
  {
   "cell_type": "markdown",
   "metadata": {},
   "source": [
    "### Steady signal\n",
    "The commands below shows how to compute the TNR and PR of a steady signal by directly using the functions from MOSQITO. "
   ]
  },
  {
   "cell_type": "code",
   "execution_count": 7,
   "metadata": {},
   "outputs": [],
   "source": [
    "# Add MOSQITO to the Python path\n",
    "import sys\n",
    "sys.path.append('..')\n",
    "\n",
    "# Import useful packages\n",
    "import math\n",
    "import numpy as np\n",
    "from numpy.fft import fft\n",
    "import matplotlib.pyplot as plt\n",
    "\n",
    "# Import MOSQITO modules\n",
    "from mosqito.functions.shared.load import load\n",
    "from mosqito.functions.shared.conversion import amp2db\n",
    "from mosqito.functions.tonality_tnr_pr.comp_tnr import comp_tnr\n",
    "from mosqito.functions.tonality_tnr_pr.comp_pr import comp_pr"
   ]
  },
  {
   "cell_type": "markdown",
   "metadata": {},
   "source": [
    "For this tutorial, the test signal .wav file has been generated adding 2 sin tones at 442Hz and 1768Hz to a white noise at 80 dB.\n",
    "\n",
    "The signal is loaded using the \"load\" function which takes 3 parameters:\n",
    "\n",
    "- The signal type as a boolean: True since the signal is stationary\n",
    "- The path to the .wav signal file: \n",
    "- A calibration factor for the signal to be in Pa: 1"
   ]
  },
  {
   "cell_type": "code",
   "execution_count": 8,
   "metadata": {},
   "outputs": [
    {
     "name": "stdout",
     "output_type": "stream",
     "text": [
      "Signal resampled to 48 kHz to allow calculation.\n"
     ]
    },
    {
     "data": {
      "image/png": "[encoded data removed]",
      "text/plain": [
       "<Figure size 432x288 with 1 Axes>"
      ]
     },
     "metadata": {
      "needs_background": "light"
     },
     "output_type": "display_data"
    }
   ],
   "source": [
    "# Load signal and compute third-octave spectrum\n",
    "signal, fs = load(True,r\"../mosqito/tests/tonality_tnr_pr/white_noise_442_1768_Hz_stationary.wav\", calib=0.01) \n",
    "n = len(signal)\n",
    "\n",
    "# Plot the signal spectrum\n",
    "freqs = np.linspace(0, fs/2, n)\n",
    "spectrum = amp2db(abs(fft(signal * np.blackman(n))) , ref=0.00002)\n",
    "plt.plot(freqs, spectrum)\n",
    "plt.xscale('log')\n",
    "plt.xlim(10,10000)\n",
    "plt.ylim(0,200)\n",
    "plt.xlabel(\"Frequency [Hz]\")\n",
    "plt.ylabel(\"Amplitude [dB]\")\n",
    "plt.show()"
   ]
  },
  {
   "cell_type": "markdown",
   "metadata": {},
   "source": [
    "The spectrum obviously shows a high-level tonal component.\n",
    "\n",
    "To study this tonal component, the functions \"comp_tnr\" and \"comp_pr\" are then used with 4 parameters:\n",
    "\n",
    "- The signal type (stationary / non-stationary),\n",
    "- The signal values,\n",
    "- The sampling frequency,\n",
    "- The prominence criteria (if True the algorithm only returns the prominent values according to ECMA 74)\n",
    "\n",
    "\n",
    "The scripts calculates the ratios in dB and returns both the total and individual values (with specification of the tonal frequency). There is no need to enter the frequency of the potential tonal components, the algorithm automatically detects them according to Sottek method."
   ]
  },
  {
   "cell_type": "code",
   "execution_count": 9,
   "metadata": {},
   "outputs": [
    {
     "name": "stdout",
     "output_type": "stream",
     "text": [
      "Tone-to-noise ratio: [31.40178392 26.8806489 ] dB at [ 442 1768] Hz\n",
      "T-TNR: 32.715053586050644 dB\n",
      "Prominence ratio: [30.72207589 26.83739332] dB at [ 442 1768] Hz\n",
      "T-PR: 32.21328086526112 dB\n"
     ]
    }
   ],
   "source": [
    "# Tone-to-noise Ratio calculation\n",
    "tnr = comp_tnr(True, signal, fs, prominence=True)\n",
    "# Prominence Ratio calculation\n",
    "pr = comp_pr(True, signal, fs, prominence=True)\n",
    "\n",
    "# print the results\n",
    "print(\"Tone-to-noise ratio:\" , tnr['values'] , \"dB at\", tnr['freqs'], \"Hz\")\n",
    "print(\"T-TNR:\", tnr['global value'],\"dB\")\n",
    "print(\"Prominence ratio:\" , pr['values'] , \"dB at\", pr['freqs'], \"Hz\")\n",
    "print(\"T-PR:\", pr['global value'],\"dB\")\n"
   ]
  },
  {
   "cell_type": "markdown",
   "metadata": {},
   "source": [
    "The results can also be plotted, with the prominence limit to indicate either the tones are proeminent or not."
   ]
  },
  {
   "cell_type": "code",
   "execution_count": 10,
   "metadata": {},
   "outputs": [
    {
     "data": {
      "text/plain": [
       "([<matplotlib.axis.XTick at 0x26fe9381640>,\n",
       "  <matplotlib.axis.XTick at 0x26fe9381be0>,\n",
       "  <matplotlib.axis.XTick at 0x26fe9381610>,\n",
       "  <matplotlib.axis.XTick at 0x26fe9347f10>,\n",
       "  <matplotlib.axis.XTick at 0x26fe9347b20>],\n",
       " [Text(0, 0, '100'),\n",
       "  Text(0, 0, '442'),\n",
       "  Text(0, 0, '1000'),\n",
       "  Text(0, 0, '1768'),\n",
       "  Text(0, 0, '10000')])"
      ]
     },
     "execution_count": 10,
     "metadata": {},
     "output_type": "execute_result"
    },
    {
     "data": {
      "image/png": "[encoded data removed]",
      "text/plain": [
       "<Figure size 720x432 with 1 Axes>"
      ]
     },
     "metadata": {
      "needs_background": "light"
     },
     "output_type": "display_data"
    }
   ],
   "source": [
    "# Prominence criteria\n",
    "freqs = np.arange(90,11200,100)\n",
    "limit = np.zeros((len(freqs)))\n",
    "for i in range(len(freqs)):\n",
    "    if freqs[i] >= 89.1 and freqs[i] < 1000:\n",
    "        limit[i] = 8 + 8.33 * np.log10(1000/freqs[i])\n",
    "    if freqs[i] >= 1000 and freqs[i] < 11200:\n",
    "        limit[i] = 8 \n",
    "\n",
    "# Plot\n",
    "plt.figure(figsize=(10,6))\n",
    "plt.plot(freqs, limit, color='#e69f00', linewidth=2,dashes=[6,2],label='Prominence criteria')\n",
    "plt.bar(tnr['freqs'], tnr['values'],width=10, color='#69c3c5')  \n",
    "plt.legend(fontsize=16)                      \n",
    "plt.grid(axis='y')\n",
    "plt.ylabel(\"TNR [dB]\")\n",
    "            \n",
    "\n",
    "plt.title(\"Discrete tones TNR values \\n  (Total TNR = \"+str(np.around(tnr['global value'],decimals=1))+\" dB)\", fontsize=16)\n",
    "plt.legend()\n",
    "\n",
    "# Frequency axis\n",
    "plt.xlabel(\"Frequency [Hz]\")\n",
    "plt.xscale('log')\n",
    "xticks_pos = [100,1000,10000] + list(tnr['freqs'])\n",
    "xticks_pos = np.sort(xticks_pos)\n",
    "xticks_label = [str(elem) for elem in xticks_pos]\n",
    "plt.xticks(xticks_pos, labels=xticks_label, rotation = 30)   "
   ]
  },
  {
   "cell_type": "code",
   "execution_count": null,
   "metadata": {},
   "outputs": [],
   "source": []
  }
 ],
 "metadata": {
  "kernelspec": {
   "display_name": "Python 3",
   "language": "python",
   "name": "python3"
  },
  "language_info": {
   "codemirror_mode": {
    "name": "ipython",
    "version": 3
   },
   "file_extension": ".py",
   "mimetype": "text/x-python",
   "name": "python",
   "nbconvert_exporter": "python",
   "pygments_lexer": "ipython3",
   "version": "3.8.3"
  },
  "latex_envs": {
   "LaTeX_envs_menu_present": true,
   "autoclose": false,
   "autocomplete": true,
   "bibliofile": "biblio.bib",
   "cite_by": "apalike",
   "current_citInitial": 1,
   "eqLabelWithNumbers": true,
   "eqNumInitial": 1,
   "hotkeys": {
    "equation": "Ctrl-E",
    "itemize": "Ctrl-I"
   },
   "labels_anchors": false,
   "latex_user_defs": false,
   "report_style_numbering": false,
   "user_envs_cfg": false
  },
  "toc": {
   "base_numbering": 1,
   "nav_menu": {},
   "number_sections": true,
   "sideBar": true,
   "skip_h1_title": true,
   "title_cell": "Table of Contents",
   "title_sidebar": "Contents",
   "toc_cell": true,
   "toc_position": {},
   "toc_section_display": true,
   "toc_window_display": true
  }
 },
 "nbformat": 4,
 "nbformat_minor": 4
}
