{
 "cells": [
  {
   "cell_type": "markdown",
   "id": "8c6a1bc2",
   "metadata": {},
   "source": [
    "<h1>Table of Contents<span class=\"tocSkip\"></span></h1>\n",
    "<div class=\"toc\"><ul class=\"toc-item\"><li><span><a href=\"#Using-the-scripting-interface\" data-toc-modified-id=\"Using-the-scripting-interface-1\"><span class=\"toc-item-num\">1&nbsp;&nbsp;</span>Using the scripting interface</a></span></li><li><span><a href=\"#Using-the-funtion-library\" data-toc-modified-id=\"Using-the-funtion-library-2\"><span class=\"toc-item-num\">2&nbsp;&nbsp;</span>Using the funtion library</a></span></li></ul></div>"
   ]
  },
  {
   "cell_type": "markdown",
   "id": "ac91a0d7",
   "metadata": {},
   "source": [
    "# How to compute acoustic Tonality\n",
    "This tutorial explains how to use MOSQITO to calculate the frequency position of a pop-up tone using the Inspection Method. Two approaches are possible: scripting interface and function library. Users who just need to compute SQ metrics should preferably use the scripting interface approach. The function library approach is dedicated to users who would like to integrate MOSQITO functions in another software for instance.  \n",
    "\n",
    "## Using the scripting interface  \n"
   ]
  },
  {
   "cell_type": "code",
   "execution_count": null,
   "id": "f907a5b7",
   "metadata": {},
   "outputs": [],
   "source": []
  }
 ],
 "metadata": {
  "kernelspec": {
   "display_name": "Python 3",
   "language": "python",
   "name": "python3"
  },
  "language_info": {
   "codemirror_mode": {
    "name": "ipython",
    "version": 3
   },
   "file_extension": ".py",
   "mimetype": "text/x-python",
   "name": "python",
   "nbconvert_exporter": "python",
   "pygments_lexer": "ipython3",
   "version": "3.8.8"
  }
 },
 "nbformat": 4,
 "nbformat_minor": 5
}
