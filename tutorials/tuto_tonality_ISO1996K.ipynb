{
 "cells": [
  {
   "cell_type": "markdown",
   "id": "8c6a1bc2",
   "metadata": {},
   "source": [
    "<h1>Table of Contents<span class=\"tocSkip\"></span></h1>\n",
    "<div class=\"toc\"><ul class=\"toc-item\"><li><span><a href=\"#Using-the-function-library\" data-toc-modified-id=\"Using-the-function-library-1\"><span class=\"toc-item-num\">1&nbsp;&nbsp;</span>Using the function library</a></span><ul class=\"toc-item\"><li><span><a href=\"#Graphical-representation-of-signal\" data-toc-modified-id=\"Graphical-representation-of-signal-1.1\"><span class=\"toc-item-num\">1.1&nbsp;&nbsp;</span>Graphical representation of signal</a></span></li><li><span><a href=\"#Function-comp_tonality\" data-toc-modified-id=\"Function-comp_tonality-1.2\"><span class=\"toc-item-num\">1.2&nbsp;&nbsp;</span>Function comp_tonality</a></span></li></ul></li>"
   ]
  },
  {
   "cell_type": "markdown",
   "id": "562b5eec",
   "metadata": {},
   "source": [
    "# How to compute acoustic Tonality\n",
    "This tutorial explains how to use MOSQITO to calculate the frequency position of a pop-up tone using the Inspection Method described in Annex K of the ISO 1996-2 standard. In order to detect the existence of tonality, it's necessary to use other Mosqito functions, namely the \"load\" function and the \"comp-third_spec\" function. For more information, please refer to the documentation.\n",
    "\n",
    "## Using the function library\n",
    "\n",
    "First, we import the Mosqito functions and the signal we are going to use for the tutorial, in this case a pure tone of 1 KHz (.wav file)"
   ]
  },
  {
   "cell_type": "code",
   "execution_count": 22,
   "id": "f907a5b7",
   "metadata": {},
   "outputs": [],
   "source": [
    "# Add MOSQITO to the Python path\n",
    "import sys\n",
    "sys.path.append('..')\n",
    "\n",
    "# Standard library imports\n",
    "import math\n",
    "\n",
    "# Local imports\n",
    "from mosqito.utils.load import load\n",
    "\n",
    "# Define path to the .wav file\n",
    "# To be replaced by your own path\n",
    "path = \"../validations/sq_metrics/tonality_iso1996K/input/TONE1000HZ.wav\"\n",
    "\n",
    "# load and obtain the signal data and its sampling frequency. \n",
    "# IMPORTANT: This step is always necessary before executing the \"comp_tonality\" function.\n",
    "sig, fs = load(path)\n"
   ]
  },
  {
   "cell_type": "markdown",
   "id": "ccb6958f",
   "metadata": {},
   "source": [
    "### Function comp_tonality"
   ]
  },
  {
   "cell_type": "code",
   "execution_count": 24,
   "id": "c16952fc",
   "metadata": {},
   "outputs": [
    {
     "name": "stdout",
     "output_type": "stream",
     "text": [
      "----RESULT-----\n",
      "{1000.0: 84.95769157599457}\n",
      "---------------\n"
     ]
    }
   ],
   "source": [
    "# Import function for detection of prominent tones\n",
    "from mosqito.sq_metrics.tonality.tonality_iso1996K.comp_tonality import comp_tonality\n",
    "\n",
    "# As input parameters to the function we pass the data of the sampled signal(sig) and the sampling frequency(fs) \n",
    "# we obtained as output parameters when executing the 'load' function.\n",
    "tones = comp_tonality(sig, fs)\n",
    "print(\"----RESULT-----\")\n",
    "print(tones)\n",
    "print(\"---------------\")"
   ]
  },
  {
   "cell_type": "markdown",
   "id": "85ced6f4",
   "metadata": {},
   "source": [
    "As a result, there is a prominent tone at the center frequency of 1 KHz with a level of approximately 85 dB."
   ]
  },
  {
   "cell_type": "markdown",
   "id": "d63a60ec",
   "metadata": {},
   "source": [
    "### Graphical representation of the signal\n",
    "We represent the signal to visually detect the presence of a prominent tone (this step is not necessary for the operation of the \"comp_tonality\" function)."
   ]
  },
  {
   "cell_type": "code",
   "execution_count": 1,
   "id": "55d07470",
   "metadata": {},
   "outputs": [
    {
     "ename": "ModuleNotFoundError",
     "evalue": "No module named 'mosqito.sound_level_meter'",
     "output_type": "error",
     "traceback": [
      "\u001b[1;31m---------------------------------------------------------------------------\u001b[0m",
      "\u001b[1;31mModuleNotFoundError\u001b[0m                       Traceback (most recent call last)",
      "\u001b[1;32m<ipython-input-1-64cbb01da6f3>\u001b[0m in \u001b[0;36m<module>\u001b[1;34m\u001b[0m\n\u001b[0;32m      1\u001b[0m \u001b[1;31m#local imports\u001b[0m\u001b[1;33m\u001b[0m\u001b[1;33m\u001b[0m\u001b[0m\n\u001b[1;32m----> 2\u001b[1;33m \u001b[1;32mfrom\u001b[0m \u001b[0mmosqito\u001b[0m\u001b[1;33m.\u001b[0m\u001b[0msound_level_meter\u001b[0m\u001b[1;33m.\u001b[0m\u001b[0mnoct_spectrum\u001b[0m\u001b[1;33m.\u001b[0m\u001b[0mnoct_spectrum\u001b[0m \u001b[1;32mimport\u001b[0m \u001b[0mnoct_spectrum\u001b[0m\u001b[1;33m\u001b[0m\u001b[1;33m\u001b[0m\u001b[0m\n\u001b[0m\u001b[0;32m      3\u001b[0m \u001b[1;33m\u001b[0m\u001b[0m\n\u001b[0;32m      4\u001b[0m \u001b[1;31m# Import useful packages\u001b[0m\u001b[1;33m\u001b[0m\u001b[1;33m\u001b[0m\u001b[0m\n\u001b[0;32m      5\u001b[0m \u001b[1;32mimport\u001b[0m \u001b[0mmatplotlib\u001b[0m\u001b[1;33m.\u001b[0m\u001b[0mpyplot\u001b[0m \u001b[1;32mas\u001b[0m \u001b[0mplt\u001b[0m\u001b[1;33m\u001b[0m\u001b[1;33m\u001b[0m\u001b[0m\n",
      "\u001b[1;31mModuleNotFoundError\u001b[0m: No module named 'mosqito.sound_level_meter'"
     ]
    }
   ],
   "source": [
    "#local imports\n",
    "from mosqito.sound_level_meter.noct_spectrum.noct_spectrum import noct_spectrum\n",
    "\n",
    "# Import useful packages\n",
    "import matplotlib.pyplot as plt\n",
    "import numpy as ny\n",
    "\n",
    "#-- we obtain the data of the Lp in thirds of octave of the signal of which \n",
    "#-- we want to know the prominent tones\n",
    "fmin = 25\n",
    "fmax = 10000\n",
    "third_spec = noct_spectrum(sig=sig, fs=fs, fmin=fmin, fmax=fmax)\n",
    "third_spec = list(third_spec)\n",
    "\n",
    "# -- Obtain the lists of the central frequencies and the average Lp\n",
    "fc = third_spec[1].tolist()\n",
    "Lp_Pa = third_spec[0].tolist()\n",
    "\n",
    "#-- Create a list with the Lp conversion in dB.\n",
    "Lp = []\n",
    "P_ref = 20e-06\n",
    "for i in range(0, len(Lp_Pa)):\n",
    "    P = Lp_Pa[i][0]\n",
    "    level = 20*math.log10(P/P_ref)\n",
    "    Lp.append(level)\n",
    "        \n",
    "# Create the graph\n",
    "plt.plot(fc, Lp)\n",
    "plt.semilogx()\n",
    "\n",
    "## y-axis legend\n",
    "plt.ylabel('Averaged Sound Pressure Level - Leq [dB]')\n",
    " \n",
    "## x-axis legend\n",
    "plt.xlabel('Center Frequency [Hz]')\n",
    " \n",
    "## Graphic Title\n",
    "plt.title('Third-octave band spectrum, 1 KHz @ 85 dB')\n",
    " \n",
    "## Show Graph\n",
    "plt.show()\n",
    "\n"
   ]
  },
  {
   "cell_type": "markdown",
   "id": "74d05183",
   "metadata": {},
   "source": [
    "Visually we can see that there is a prominent tone around 1 KHz with a sound pressure level of 85 dB approx, as well as the result obtained by the function."
   ]
  },
  {
   "cell_type": "code",
   "execution_count": null,
   "id": "ab4d0103",
   "metadata": {},
   "outputs": [],
   "source": []
  }
 ],
 "metadata": {
  "kernelspec": {
   "display_name": "Python 3 (ipykernel)",
   "language": "python",
   "name": "python3"
  },
  "language_info": {
   "codemirror_mode": {
    "name": "ipython",
    "version": 3
   },
   "file_extension": ".py",
   "mimetype": "text/x-python",
   "name": "python",
   "nbconvert_exporter": "python",
   "pygments_lexer": "ipython3",
   "version": "3.9.7"
  }
 },
 "nbformat": 4,
 "nbformat_minor": 5
}
