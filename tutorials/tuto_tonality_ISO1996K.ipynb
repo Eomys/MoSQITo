{
 "cells": [
  {
   "cell_type": "markdown",
   "id": "8c6a1bc2",
   "metadata": {},
   "source": [
    "<h1>Table of Contents<span class=\"tocSkip\"></span></h1>\n",
    "<div class=\"toc\"><ul class=\"toc-item\"><li><span><a href=\"#Using-the-function-library\" data-toc-modified-id=\"Using-the-function-library-1\"><span class=\"toc-item-num\">1&nbsp;&nbsp;</span>Using the function library</a></span><ul class=\"toc-item\"><li><span><a href=\"#Graphical-representation-of-signal\" data-toc-modified-id=\"Graphical-representation-of-signal-1.1\"><span class=\"toc-item-num\">1.1&nbsp;&nbsp;</span>Graphical representation of signal</a></span></li><li><span><a href=\"#Function-comp_tonality\" data-toc-modified-id=\"Function-comp_tonality-1.2\"><span class=\"toc-item-num\">1.2&nbsp;&nbsp;</span>Function comp_tonality</a></span></li></ul></li>"
   ]
  },
  {
   "cell_type": "markdown",
   "id": "562b5eec",
   "metadata": {},
   "source": [
    "# How to compute acoustic Tonality\n",
    "This tutorial explains how to use MOSQITO to calculate the frequency position of a pop-up tone using the Inspection Method described in Annex K of the ISO 1996-2 standard. In order to detect the existence of tonality, it's necessary to use other Mosqito functions, namely the \"load\" function and the \"comp-third_spec\" function. For more information, please refer to the documentation.\n",
    "\n",
    "## Using the function library\n",
    "\n",
    "First, we import the Mosqito functions and the signal we are going to use for the tutorial, in this case a pure tone of 1 KHz@60dB (.wav file)"
   ]
  },
  {
   "cell_type": "code",
   "execution_count": 1,
   "id": "f907a5b7",
   "metadata": {},
   "outputs": [],
   "source": [
    "# import Mosqito funtions\n",
    "from mosqito.functions.oct3filter.comp_third_spectrum import comp_third_spec\n",
    "from mosqito.functions.shared.load import load\n",
    "\n",
    "# Define path to the .wav file\n",
    "# To be replaced by your own path\n",
    "path = \"../tests/input/1KHZ60DB.WAV\"\n",
    "\n",
    "# load and obtain the signal data and its sampling frequency.\n",
    "sig, fs = load(True, path, calib=1)\n"
   ]
  },
  {
   "cell_type": "markdown",
   "id": "d63a60ec",
   "metadata": {},
   "source": [
    "### Graphical representation of the signal\n",
    "We represent the signal to visually detect the presence of a prominent tone (this step is not necessary for the operation of the \"comp_tonality\" function)."
   ]
  },
  {
   "cell_type": "code",
   "execution_count": null,
   "id": "55d07470",
   "metadata": {},
   "outputs": [],
   "source": [
    "# Import useful packages\n",
    "import matplotlib.pyplot as plt\n",
    "\n",
    "#-- we obtain the data of the Lp in thirds of octave of the signal of which \n",
    "#-- we want to know the prominent tones\n",
    "third_spec = comp_third_spec(is_stationary=True, signal=sig, fs=fs)\n",
    "\n",
    "# -- Obtain the lists of the central frequencies and the average Lp\n",
    "freqs = third_spec[\"freqs\"]\n",
    "values = third_spec[\"values\"]\n",
    "\n",
    "# Declare the x-axis values\n",
    "x_axis = freqs\n",
    "\n",
    "# Declare the y-axis values\n",
    "y_axis = values\n",
    "\n",
    "# Create the graph\n",
    "plt.stem(x_axis, y_axis)\n",
    "\n",
    "## y-axis legend\n",
    "plt.ylabel('Averaged Sound Pressure Level - Lp')\n",
    " \n",
    "## x-axis legend\n",
    "plt.xlabel('Center Frequency')\n",
    " \n",
    "## Graphic Title\n",
    "plt.title('Spectrum Third Octave Band 1KHz@60dB')\n",
    " \n",
    "## Show Graph\n",
    "plt.show()\n",
    "\n"
   ]
  },
  {
   "cell_type": "markdown",
   "id": "74d05183",
   "metadata": {},
   "source": [
    "Visually we can see that there is a prominent tone around 1 KHz with a sound pressure level of 60 dB."
   ]
  },
  {
   "cell_type": "markdown",
   "id": "ccb6958f",
   "metadata": {},
   "source": [
    "### Function comp_tonality\n",
    "Now let's check that using the Mosqito function \"comp_tonality\" we will obtain the same result."
   ]
  },
  {
   "cell_type": "code",
   "execution_count": 3,
   "id": "c16952fc",
   "metadata": {},
   "outputs": [
    {
     "ename": "ModuleNotFoundError",
     "evalue": "No module named 'mosqito.functions.tonality_iso1996K'",
     "output_type": "error",
     "traceback": [
      "\u001b[1;31m---------------------------------------------------------------------------\u001b[0m",
      "\u001b[1;31mModuleNotFoundError\u001b[0m                       Traceback (most recent call last)",
      "\u001b[1;32m<ipython-input-3-b8830fc3f6c8>\u001b[0m in \u001b[0;36m<module>\u001b[1;34m\u001b[0m\n\u001b[0;32m      1\u001b[0m \u001b[1;31m# Import function for detection of prominent tones\u001b[0m\u001b[1;33m\u001b[0m\u001b[1;33m\u001b[0m\u001b[1;33m\u001b[0m\u001b[0m\n\u001b[1;32m----> 2\u001b[1;33m \u001b[1;32mfrom\u001b[0m \u001b[0mmosqito\u001b[0m\u001b[1;33m.\u001b[0m\u001b[0mfunctions\u001b[0m\u001b[1;33m.\u001b[0m\u001b[0mtonality_iso1996K\u001b[0m\u001b[1;33m.\u001b[0m\u001b[0mcomp_tonality\u001b[0m \u001b[1;32mimport\u001b[0m \u001b[0mcomp_tonality\u001b[0m\u001b[1;33m\u001b[0m\u001b[1;33m\u001b[0m\u001b[0m\n\u001b[0m\u001b[0;32m      3\u001b[0m \u001b[1;33m\u001b[0m\u001b[0m\n\u001b[0;32m      4\u001b[0m \u001b[0mtones\u001b[0m \u001b[1;33m=\u001b[0m \u001b[0mcomp_tonality\u001b[0m\u001b[1;33m(\u001b[0m\u001b[0msig\u001b[0m\u001b[1;33m,\u001b[0m \u001b[0mfs\u001b[0m\u001b[1;33m)\u001b[0m\u001b[1;33m\u001b[0m\u001b[1;33m\u001b[0m\u001b[0m\n\u001b[0;32m      5\u001b[0m \u001b[0mprint\u001b[0m\u001b[1;33m(\u001b[0m\u001b[1;34m\"----RESULT-----\"\u001b[0m\u001b[1;33m)\u001b[0m\u001b[1;33m\u001b[0m\u001b[1;33m\u001b[0m\u001b[0m\n",
      "\u001b[1;31mModuleNotFoundError\u001b[0m: No module named 'mosqito.functions.tonality_iso1996K'"
     ]
    }
   ],
   "source": [
    "# Import function for detection of prominent tones\n",
    "from mosqito.functions.tonality_iso1996K.comp_tonality import comp_tonality\n",
    "\n",
    "tones = comp_tonality(sig, fs)\n",
    "print(\"----RESULT-----\")\n",
    "print(tones)\n",
    "print(\"---------------\")"
   ]
  }
 ],
 "metadata": {
  "kernelspec": {
   "display_name": "Python 3",
   "language": "python",
   "name": "python3"
  },
  "language_info": {
   "codemirror_mode": {
    "name": "ipython",
    "version": 3
   },
   "file_extension": ".py",
   "mimetype": "text/x-python",
   "name": "python",
   "nbconvert_exporter": "python",
   "pygments_lexer": "ipython3",
   "version": "3.8.8"
  }
 },
 "nbformat": 4,
 "nbformat_minor": 5
}
