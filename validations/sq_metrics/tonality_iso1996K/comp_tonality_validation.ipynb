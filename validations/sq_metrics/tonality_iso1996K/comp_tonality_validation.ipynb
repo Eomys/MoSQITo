{
 "cells": [
  {
   "cell_type": "markdown",
   "id": "3883cd7c",
   "metadata": {},
   "source": [
    "# Validation of the function \"comp_tonality\" based on ISO1996-2 annex K"
   ]
  },
  {
   "cell_type": "markdown",
   "id": "15aa3039",
   "metadata": {},
   "source": [
    "ISO 1996-2 does not specify any method to validate the correct operation of the prominent tone detection process using the inspection method. Therefore, this validation has been created, which consists of processing different signals using the function to be validated (\"comp_tonality\") and superimposing, graphically, the result obtained by the function on the graph of the third octave band spectrum of these signals, thus allowing to visually check if the results are correct.\n",
    "\n",
    "The signals used for the verification were obtained from the website https://freesound.org/. Signals corresponding to pure tones of the different frequency bands representative of the audible frequency range have been chosen, as well as multi-tone signals (presenting several tones in different audible frequency ranges in the same signal) and atonal signals (presenting no tone at all)."
   ]
  },
  {
   "cell_type": "code",
   "execution_count": 1,
   "id": "186d457d",
   "metadata": {},
   "outputs": [
    {
     "ename": "ModuleNotFoundError",
     "evalue": "No module named 'mosqito.sound_level_meter'",
     "output_type": "error",
     "traceback": [
      "\u001b[1;31m---------------------------------------------------------------------------\u001b[0m",
      "\u001b[1;31mModuleNotFoundError\u001b[0m                       Traceback (most recent call last)",
      "\u001b[1;32m<ipython-input-1-1be17fb5791c>\u001b[0m in \u001b[0;36m<module>\u001b[1;34m\u001b[0m\n\u001b[0;32m      5\u001b[0m \u001b[1;33m\u001b[0m\u001b[0m\n\u001b[0;32m      6\u001b[0m \u001b[1;31m# Local imports\u001b[0m\u001b[1;33m\u001b[0m\u001b[1;33m\u001b[0m\u001b[0m\n\u001b[1;32m----> 7\u001b[1;33m \u001b[1;32mfrom\u001b[0m \u001b[0mmosqito\u001b[0m\u001b[1;33m.\u001b[0m\u001b[0msound_level_meter\u001b[0m\u001b[1;33m.\u001b[0m\u001b[0mnoct_spectrum\u001b[0m\u001b[1;33m.\u001b[0m\u001b[0mnoct_spectrum\u001b[0m \u001b[1;32mimport\u001b[0m \u001b[0mnoct_spectrum\u001b[0m\u001b[1;33m\u001b[0m\u001b[1;33m\u001b[0m\u001b[0m\n\u001b[0m\u001b[0;32m      8\u001b[0m \u001b[1;32mfrom\u001b[0m \u001b[0mmosqito\u001b[0m\u001b[1;33m.\u001b[0m\u001b[0mutils\u001b[0m\u001b[1;33m.\u001b[0m\u001b[0mload\u001b[0m \u001b[1;32mimport\u001b[0m \u001b[0mload\u001b[0m\u001b[1;33m\u001b[0m\u001b[1;33m\u001b[0m\u001b[0m\n\u001b[0;32m      9\u001b[0m \u001b[1;32mfrom\u001b[0m \u001b[0mmosqito\u001b[0m\u001b[1;33m.\u001b[0m\u001b[0msq_metrics\u001b[0m\u001b[1;33m.\u001b[0m\u001b[0mtonality\u001b[0m\u001b[1;33m.\u001b[0m\u001b[0mtonality_iso1996K\u001b[0m\u001b[1;33m.\u001b[0m\u001b[0mcomp_tonality\u001b[0m \u001b[1;32mimport\u001b[0m \u001b[0mcomp_tonality\u001b[0m\u001b[1;33m\u001b[0m\u001b[1;33m\u001b[0m\u001b[0m\n",
      "\u001b[1;31mModuleNotFoundError\u001b[0m: No module named 'mosqito.sound_level_meter'"
     ]
    }
   ],
   "source": [
    "# Standard library imports\n",
    "import math\n",
    "import matplotlib.pyplot as plt\n",
    "import numpy as ny\n",
    "\n",
    "# Local imports\n",
    "from mosqito.sound_level_meter.noct_spectrum.noct_spectrum import noct_spectrum\n",
    "from mosqito.utils.load import load\n",
    "from mosqito.sq_metrics.tonality.tonality_iso1996K.comp_tonality import comp_tonality"
   ]
  },
  {
   "cell_type": "markdown",
   "id": "d5fe1399",
   "metadata": {},
   "source": [
    "# Pure Tone Detection"
   ]
  },
  {
   "cell_type": "markdown",
   "id": "7f06ff9f",
   "metadata": {},
   "source": [
    "## Low-frequency range"
   ]
  },
  {
   "cell_type": "markdown",
   "id": "f835fc37",
   "metadata": {},
   "source": [
    "### Pure Tone at 31'5 Hz\n",
    "Loading of the Signal to be validated:"
   ]
  },
  {
   "cell_type": "code",
   "execution_count": null,
   "id": "ede58008",
   "metadata": {},
   "outputs": [],
   "source": [
    "# Define path to the .wav file\n",
    "# To be replaced by your own path\n",
    "path = \"input\\TONE31'5HZ.wav\"\n",
    "\n",
    "# load and obtain the signal data and its sampling frequency.\n",
    "sig, fs = load(path)"
   ]
  },
  {
   "cell_type": "markdown",
   "id": "f47ba3d5",
   "metadata": {},
   "source": [
    "Using the \"comp_tonality\" function:"
   ]
  },
  {
   "cell_type": "code",
   "execution_count": null,
   "id": "3e1d611b",
   "metadata": {},
   "outputs": [],
   "source": [
    "tones = comp_tonality(sig, fs)\n",
    "print(\"----RESULT-----\")\n",
    "print(tones)\n",
    "print(\"---------------\")"
   ]
  },
  {
   "cell_type": "markdown",
   "id": "3b1ce068",
   "metadata": {},
   "source": [
    "Result: there is a prominent tone in the center frequency band of 31.5 Hz with a level of 87 dB."
   ]
  },
  {
   "cell_type": "markdown",
   "id": "c198e7a9",
   "metadata": {},
   "source": [
    "Graphically:"
   ]
  },
  {
   "cell_type": "code",
   "execution_count": null,
   "id": "9e852170",
   "metadata": {},
   "outputs": [],
   "source": [
    "#-- we obtain the data of the Lp in thirds of octave of the signal of which \n",
    "#-- we want to know the prominent tones\n",
    "fmin = 25\n",
    "fmax = 20000\n",
    "third_spec = noct_spectrum(sig=sig, fs=fs, fmin=fmin, fmax=fmax)\n",
    "third_spec = list(third_spec)\n",
    "\n",
    "# -- Obtain the lists of the central frequencies and the average Lp\n",
    "fc = third_spec[1].tolist()\n",
    "Lp_Pa = third_spec[0].tolist()\n",
    "\n",
    "#-- Create a list with the Lp conversion in dB.\n",
    "Lp = []\n",
    "P_ref = 20e-06\n",
    "for i in range(0, len(Lp_Pa)):\n",
    "    P = Lp_Pa[i][0]\n",
    "    level = 20*math.log10(P/P_ref)\n",
    "    Lp.append(level)\n",
    "        \n",
    "# Create the graph\n",
    "plt.plot(fc, Lp)\n",
    "plt.semilogx()\n",
    "\n",
    "## y-axis legend\n",
    "plt.ylabel('Averaged Sound Pressure Level - Leq [dB]')\n",
    " \n",
    "## x-axis legend\n",
    "plt.xlabel('Center Frequency [Hz]')\n",
    " \n",
    "## Graphic Title\n",
    "plt.title('Third-octave band spectrum, 31,5 Hz @ 87 dB')\n",
    "\n",
    "## Graphical representation of the result obtained by the function \"\"comp_tonality\"\"\n",
    "items = tones.items()\n",
    "items = list(items)\n",
    "\n",
    "for i in range(0, len(items)):\n",
    "    for j in range(0,1):\n",
    "        x = items[i][j]\n",
    "        y = items[i][j+1]\n",
    "    plt.plot(x, y, marker='o', color='red')\n",
    "    \n",
    "## Show Graph\n",
    "plt.show()"
   ]
  },
  {
   "cell_type": "markdown",
   "id": "494c7b10",
   "metadata": {},
   "source": [
    "Graphic result: there is a prominent tone in the center frequency band of 31.5 Hz with a level of 87 dB.  \n",
    "The result of the function and the graphical result match.  \n",
    "The calculation of the function is correct."
   ]
  },
  {
   "cell_type": "markdown",
   "id": "0d1c90b6",
   "metadata": {},
   "source": [
    "### Pure Tone at 50 Hz\n",
    "Loading of the Signal to be validated:"
   ]
  },
  {
   "cell_type": "code",
   "execution_count": null,
   "id": "b3a1d419",
   "metadata": {},
   "outputs": [],
   "source": [
    "# Define path to the .wav file\n",
    "# To be replaced by your own path\n",
    "path = \"input\\TONE50HZ.wav\"\n",
    "\n",
    "# load and obtain the signal data and its sampling frequency.\n",
    "sig, fs = load(path)"
   ]
  },
  {
   "cell_type": "markdown",
   "id": "38d2653b",
   "metadata": {},
   "source": [
    "Using the \"comp_tonality\" function:"
   ]
  },
  {
   "cell_type": "code",
   "execution_count": null,
   "id": "5a18d60e",
   "metadata": {},
   "outputs": [],
   "source": [
    "tones = comp_tonality(sig, fs)\n",
    "print(\"----RESULT-----\")\n",
    "print(tones)\n",
    "print(\"---------------\")"
   ]
  },
  {
   "cell_type": "markdown",
   "id": "5df58b8c",
   "metadata": {},
   "source": [
    "Result: there is a prominent tone in the center frequency band of 50 Hz with a level of 87 dB."
   ]
  },
  {
   "cell_type": "markdown",
   "id": "01eeab4e",
   "metadata": {},
   "source": [
    "Graphically:"
   ]
  },
  {
   "cell_type": "code",
   "execution_count": null,
   "id": "eabd9449",
   "metadata": {},
   "outputs": [],
   "source": [
    "#-- we obtain the data of the Lp in thirds of octave of the signal of which \n",
    "#-- we want to know the prominent tones\n",
    "fmin = 25\n",
    "fmax = 20000\n",
    "third_spec = noct_spectrum(sig=sig, fs=fs, fmin=fmin, fmax=fmax)\n",
    "third_spec = list(third_spec)\n",
    "\n",
    "# -- Obtain the lists of the central frequencies and the average Lp\n",
    "fc = third_spec[1].tolist()\n",
    "Lp_Pa = third_spec[0].tolist()\n",
    "\n",
    "#-- Create a list with the Lp conversion in dB.\n",
    "Lp = []\n",
    "P_ref = 20e-06\n",
    "for i in range(0, len(Lp_Pa)):\n",
    "    P = Lp_Pa[i][0]\n",
    "    level = 20*math.log10(P/P_ref)\n",
    "    Lp.append(level)\n",
    "        \n",
    "# Create the graph\n",
    "plt.plot(fc, Lp)\n",
    "plt.semilogx()\n",
    "\n",
    "## y-axis legend\n",
    "plt.ylabel('Averaged Sound Pressure Level - Leq [dB]')\n",
    " \n",
    "## x-axis legend\n",
    "plt.xlabel('Center Frequency [Hz]')\n",
    " \n",
    "## Graphic Title\n",
    "plt.title('Third-octave band spectrum, 50 Hz @ 87 dB')\n",
    "\n",
    "## Graphical representation of the result obtained by the function \"\"comp_tonality\"\"\n",
    "items = tones.items()\n",
    "items = list(items)\n",
    "\n",
    "for i in range(0, len(items)):\n",
    "    for j in range(0,1):\n",
    "        x = items[i][j]\n",
    "        y = items[i][j+1]\n",
    "    plt.plot(x, y, marker='o', color='red')\n",
    "    \n",
    "## Show Graph\n",
    "plt.show()"
   ]
  },
  {
   "cell_type": "markdown",
   "id": "7f179f23",
   "metadata": {},
   "source": [
    "Graphic result: there is a prominent tone in the center frequency band of 50 Hz with a level of 87 dB.  \n",
    "The result of the function and the graphical result match.  \n",
    "The calculation of the function is correct."
   ]
  },
  {
   "cell_type": "markdown",
   "id": "407a05df",
   "metadata": {},
   "source": [
    "### Pure Tone at 100 Hz\n",
    "Loading of the Signal to be validated:"
   ]
  },
  {
   "cell_type": "code",
   "execution_count": 2,
   "id": "ccec9ed2",
   "metadata": {},
   "outputs": [
    {
     "ename": "NameError",
     "evalue": "name 'load' is not defined",
     "output_type": "error",
     "traceback": [
      "\u001b[1;31m---------------------------------------------------------------------------\u001b[0m",
      "\u001b[1;31mNameError\u001b[0m                                 Traceback (most recent call last)",
      "\u001b[1;32m~\\AppData\\Local\\Temp/ipykernel_28512/2502403445.py\u001b[0m in \u001b[0;36m<module>\u001b[1;34m\u001b[0m\n\u001b[0;32m      4\u001b[0m \u001b[1;33m\u001b[0m\u001b[0m\n\u001b[0;32m      5\u001b[0m \u001b[1;31m# load and obtain the signal data and its sampling frequency.\u001b[0m\u001b[1;33m\u001b[0m\u001b[1;33m\u001b[0m\u001b[0m\n\u001b[1;32m----> 6\u001b[1;33m \u001b[0msig\u001b[0m\u001b[1;33m,\u001b[0m \u001b[0mfs\u001b[0m \u001b[1;33m=\u001b[0m \u001b[0mload\u001b[0m\u001b[1;33m(\u001b[0m\u001b[0mpath\u001b[0m\u001b[1;33m)\u001b[0m\u001b[1;33m\u001b[0m\u001b[1;33m\u001b[0m\u001b[0m\n\u001b[0m",
      "\u001b[1;31mNameError\u001b[0m: name 'load' is not defined"
     ]
    }
   ],
   "source": [
    "# Define path to the .wav file\n",
    "# To be replaced by your own path\n",
    "path = \"input\\TONE100HZ.wav\"\n",
    "\n",
    "# load and obtain the signal data and its sampling frequency.\n",
    "sig, fs = load(path)"
   ]
  },
  {
   "cell_type": "markdown",
   "id": "0b971985",
   "metadata": {},
   "source": [
    "Using the \"comp_tonality\" function:"
   ]
  },
  {
   "cell_type": "code",
   "execution_count": null,
   "id": "3acf8b4e",
   "metadata": {
    "scrolled": true
   },
   "outputs": [
    {
     "name": "stdout",
     "output_type": "stream",
     "text": [
      "----RESULT-----\n",
      "{100.0: 84.85146010991828}\n",
      "---------------\n"
     ]
    }
   ],
   "source": [
    "tones = comp_tonality(sig, fs)\n",
    "print(\"----RESULT-----\")\n",
    "print(tones)\n",
    "print(\"---------------\")"
   ]
  },
  {
   "cell_type": "markdown",
   "id": "56d20135",
   "metadata": {},
   "source": [
    "Result: there is a prominent tone in the center frequency band of 100 Hz with a level of 85 dB."
   ]
  },
  {
   "cell_type": "markdown",
   "id": "8d905645",
   "metadata": {},
   "source": [
    "Graphically:"
   ]
  },
  {
   "cell_type": "code",
   "execution_count": null,
   "id": "301280ea",
   "metadata": {},
   "outputs": [
    {
     "data": {
      "image/png": "[encoded data removed]",
      "text/plain": [
       "<Figure size 432x288 with 1 Axes>"
      ]
     },
     "metadata": {
      "needs_background": "light"
     },
     "output_type": "display_data"
    }
   ],
   "source": [
    "#-- we obtain the data of the Lp in thirds of octave of the signal of which \n",
    "#-- we want to know the prominent tones\n",
    "fmin = 25\n",
    "fmax = 20000\n",
    "third_spec = noct_spectrum(sig=sig, fs=fs, fmin=fmin, fmax=fmax)\n",
    "third_spec = list(third_spec)\n",
    "\n",
    "# -- Obtain the lists of the central frequencies and the average Lp\n",
    "fc = third_spec[1].tolist()\n",
    "Lp_Pa = third_spec[0].tolist()\n",
    "\n",
    "#-- Create a list with the Lp conversion in dB.\n",
    "Lp = []\n",
    "P_ref = 20e-06\n",
    "for i in range(0, len(Lp_Pa)):\n",
    "    P = Lp_Pa[i][0]\n",
    "    level = 20*math.log10(P/P_ref)\n",
    "    Lp.append(level)\n",
    "        \n",
    "# Create the graph\n",
    "plt.plot(fc, Lp)\n",
    "plt.semilogx()\n",
    "\n",
    "## y-axis legend\n",
    "plt.ylabel('Averaged Sound Pressure Level - Leq [dB]')\n",
    " \n",
    "## x-axis legend\n",
    "plt.xlabel('Center Frequency [Hz]')\n",
    " \n",
    "## Graphic Title\n",
    "plt.title('Third-octave band spectrum, 100 Hz @ 85 dB')\n",
    "\n",
    "## Graphical representation of the result obtained by the function \"\"comp_tonality\"\"\n",
    "items = tones.items()\n",
    "items = list(items)\n",
    "\n",
    "for i in range(0, len(items)):\n",
    "    for j in range(0,1):\n",
    "        x = items[i][j]\n",
    "        y = items[i][j+1]\n",
    "    plt.plot(x, y, marker='o', color='red')\n",
    "    \n",
    "## Show Graph\n",
    "plt.show()"
   ]
  },
  {
   "cell_type": "markdown",
   "id": "7c7e12db",
   "metadata": {},
   "source": [
    "Graphic result: there is a prominent tone in the center frequency band of 100 Hz with a level of 85 dB.  \n",
    "The result of the function and the graphical result match.  \n",
    "The calculation of the function is correct."
   ]
  },
  {
   "cell_type": "markdown",
   "id": "9cd4cad0",
   "metadata": {},
   "source": [
    "### Pure Tone at 125 Hz\n",
    "Loading of the Signal to be validated:"
   ]
  },
  {
   "cell_type": "code",
   "execution_count": null,
   "id": "2eb97797",
   "metadata": {},
   "outputs": [],
   "source": [
    "# Define path to the .wav file\n",
    "# To be replaced by your own path\n",
    "path = \"input\\TONE125HZ.wav\"\n",
    "\n",
    "# load and obtain the signal data and its sampling frequency.\n",
    "sig, fs = load(path)"
   ]
  },
  {
   "cell_type": "markdown",
   "id": "c094335e",
   "metadata": {},
   "source": [
    "Using the \"comp_tonality\" function:"
   ]
  },
  {
   "cell_type": "code",
   "execution_count": null,
   "id": "335946a0",
   "metadata": {},
   "outputs": [],
   "source": [
    "tones = comp_tonality(sig, fs)\n",
    "print(\"----RESULT-----\")\n",
    "print(tones)\n",
    "print(\"---------------\")"
   ]
  },
  {
   "cell_type": "markdown",
   "id": "e01c9309",
   "metadata": {},
   "source": [
    "Result: there is a prominent tone in the center frequency band of 125 Hz with a level of 87 dB."
   ]
  },
  {
   "cell_type": "markdown",
   "id": "7fc2f845",
   "metadata": {},
   "source": [
    "Graphically:"
   ]
  },
  {
   "cell_type": "code",
   "execution_count": null,
   "id": "edd6f9a8",
   "metadata": {},
   "outputs": [],
   "source": [
    "#-- we obtain the data of the Lp in thirds of octave of the signal of which \n",
    "#-- we want to know the prominent tones\n",
    "fmin = 25\n",
    "fmax = 20000\n",
    "third_spec = noct_spectrum(sig=sig, fs=fs, fmin=fmin, fmax=fmax)\n",
    "third_spec = list(third_spec)\n",
    "\n",
    "# -- Obtain the lists of the central frequencies and the average Lp\n",
    "fc = third_spec[1].tolist()\n",
    "Lp_Pa = third_spec[0].tolist()\n",
    "\n",
    "#-- Create a list with the Lp conversion in dB.\n",
    "Lp = []\n",
    "P_ref = 20e-06\n",
    "for i in range(0, len(Lp_Pa)):\n",
    "    P = Lp_Pa[i][0]\n",
    "    level = 20*math.log10(P/P_ref)\n",
    "    Lp.append(level)\n",
    "        \n",
    "# Create the graph\n",
    "plt.plot(fc, Lp)\n",
    "plt.semilogx()\n",
    "\n",
    "## y-axis legend\n",
    "plt.ylabel('Averaged Sound Pressure Level - Leq [dB]')\n",
    " \n",
    "## x-axis legend\n",
    "plt.xlabel('Center Frequency [Hz]')\n",
    " \n",
    "## Graphic Title\n",
    "plt.title('Third-octave band spectrum, 125 Hz @ 87 dB')\n",
    "\n",
    "## Graphical representation of the result obtained by the function \"\"comp_tonality\"\"\n",
    "items = tones.items()\n",
    "items = list(items)\n",
    "\n",
    "for i in range(0, len(items)):\n",
    "    for j in range(0,1):\n",
    "        x = items[i][j]\n",
    "        y = items[i][j+1]\n",
    "    plt.plot(x, y, marker='o', color='red')\n",
    "    \n",
    "## Show Graph\n",
    "plt.show()"
   ]
  },
  {
   "cell_type": "markdown",
   "id": "5436811e",
   "metadata": {},
   "source": [
    "Graphic result: there is a prominent tone in the center frequency band of 125 Hz with a level of 87 dB.  \n",
    "The result of the function and the graphical result match.  \n",
    "The calculation of the function is correct."
   ]
  },
  {
   "cell_type": "markdown",
   "id": "78698672",
   "metadata": {},
   "source": [
    "### Pure Tone at 160 Hz\n",
    "Loading of the Signal to be validated:"
   ]
  },
  {
   "cell_type": "code",
   "execution_count": null,
   "id": "555f71e8",
   "metadata": {},
   "outputs": [],
   "source": [
    "# Define path to the .wav file\n",
    "# To be replaced by your own path\n",
    "path = \"input\\TONE160HZ.wav\"\n",
    "\n",
    "# load and obtain the signal data and its sampling frequency.\n",
    "sig, fs = load(path)"
   ]
  },
  {
   "cell_type": "markdown",
   "id": "414ff16b",
   "metadata": {},
   "source": [
    "Using the \"comp_tonality\" function:"
   ]
  },
  {
   "cell_type": "code",
   "execution_count": null,
   "id": "222eed92",
   "metadata": {},
   "outputs": [],
   "source": [
    "tones = comp_tonality(sig, fs)\n",
    "print(\"----RESULT-----\")\n",
    "print(tones)\n",
    "print(\"---------------\")"
   ]
  },
  {
   "cell_type": "markdown",
   "id": "7b6bb4d2",
   "metadata": {},
   "source": [
    "Result: there is a prominent tone in the center frequency band of 160 Hz with a level of 87 dB."
   ]
  },
  {
   "cell_type": "markdown",
   "id": "086bf446",
   "metadata": {},
   "source": [
    "Graphically:"
   ]
  },
  {
   "cell_type": "code",
   "execution_count": null,
   "id": "c1d4175e",
   "metadata": {},
   "outputs": [],
   "source": [
    "#-- we obtain the data of the Lp in thirds of octave of the signal of which \n",
    "#-- we want to know the prominent tones\n",
    "fmin = 25\n",
    "fmax = 20000\n",
    "third_spec = noct_spectrum(sig=sig, fs=fs, fmin=fmin, fmax=fmax)\n",
    "third_spec = list(third_spec)\n",
    "\n",
    "# -- Obtain the lists of the central frequencies and the average Lp\n",
    "fc = third_spec[1].tolist()\n",
    "Lp_Pa = third_spec[0].tolist()\n",
    "\n",
    "#-- Create a list with the Lp conversion in dB.\n",
    "Lp = []\n",
    "P_ref = 20e-06\n",
    "for i in range(0, len(Lp_Pa)):\n",
    "    P = Lp_Pa[i][0]\n",
    "    level = 20*math.log10(P/P_ref)\n",
    "    Lp.append(level)\n",
    "        \n",
    "# Create the graph\n",
    "plt.plot(fc, Lp)\n",
    "plt.semilogx()\n",
    "\n",
    "## y-axis legend\n",
    "plt.ylabel('Averaged Sound Pressure Level - Leq [dB]')\n",
    " \n",
    "## x-axis legend\n",
    "plt.xlabel('Center Frequency [Hz]')\n",
    " \n",
    "## Graphic Title\n",
    "plt.title('Third-octave band spectrum, 160 Hz @ 87 dB')\n",
    "\n",
    "## Graphical representation of the result obtained by the function \"\"comp_tonality\"\"\n",
    "items = tones.items()\n",
    "items = list(items)\n",
    "\n",
    "for i in range(0, len(items)):\n",
    "    for j in range(0,1):\n",
    "        x = items[i][j]\n",
    "        y = items[i][j+1]\n",
    "    plt.plot(x, y, marker='o', color='red')\n",
    "    \n",
    "## Show Graph\n",
    "plt.show()"
   ]
  },
  {
   "cell_type": "markdown",
   "id": "f4ea2995",
   "metadata": {},
   "source": [
    "Graphic result: there is a prominent tone in the center frequency band of 160 Hz with a level of 87 dB.  \n",
    "The result of the function and the graphical result match.  \n",
    "The calculation of the function is correct."
   ]
  },
  {
   "cell_type": "markdown",
   "id": "c052394b",
   "metadata": {},
   "source": [
    "### Pure Tone at 200 Hz"
   ]
  },
  {
   "cell_type": "markdown",
   "id": "0c7015b3",
   "metadata": {},
   "source": [
    "Loading of the Signal to be validated"
   ]
  },
  {
   "cell_type": "code",
   "execution_count": null,
   "id": "d18712f7",
   "metadata": {},
   "outputs": [],
   "source": [
    "# Define path to the .wav file\n",
    "# To be replaced by your own path\n",
    "path = \"input\\TONE200HZ.wav\"\n",
    "\n",
    "# load and obtain the signal data and its sampling frequency.\n",
    "sig, fs = load(path)"
   ]
  },
  {
   "cell_type": "markdown",
   "id": "db213098",
   "metadata": {},
   "source": [
    "Using the \"comp_tonality\" function:"
   ]
  },
  {
   "cell_type": "code",
   "execution_count": null,
   "id": "6ed130d4",
   "metadata": {},
   "outputs": [
    {
     "name": "stdout",
     "output_type": "stream",
     "text": [
      "----RESULT-----\n",
      "{200.0: 84.8583533578382}\n",
      "---------------\n"
     ]
    }
   ],
   "source": [
    "tones = comp_tonality(sig, fs)\n",
    "print(\"----RESULT-----\")\n",
    "print(tones)\n",
    "print(\"---------------\")"
   ]
  },
  {
   "cell_type": "markdown",
   "id": "2ec5fe81",
   "metadata": {},
   "source": [
    "Result: there is a prominent tone in the center frequency band of 200 Hz with a level of 85 dB."
   ]
  },
  {
   "cell_type": "markdown",
   "id": "e23a2136",
   "metadata": {},
   "source": [
    "Graphically:"
   ]
  },
  {
   "cell_type": "code",
   "execution_count": null,
   "id": "686feca1",
   "metadata": {},
   "outputs": [
    {
     "data": {
      "image/png": "[encoded data removed]",
      "text/plain": [
       "<Figure size 432x288 with 1 Axes>"
      ]
     },
     "metadata": {
      "needs_background": "light"
     },
     "output_type": "display_data"
    }
   ],
   "source": [
    "#-- we obtain the data of the Lp in thirds of octave of the signal of which \n",
    "#-- we want to know the prominent tones\n",
    "fmin = 25\n",
    "fmax = 20000\n",
    "third_spec = noct_spectrum(sig=sig, fs=fs, fmin=fmin, fmax=fmax)\n",
    "third_spec = list(third_spec)\n",
    "\n",
    "# -- Obtain the lists of the central frequencies and the average Lp\n",
    "fc = third_spec[1].tolist()\n",
    "Lp_Pa = third_spec[0].tolist()\n",
    "\n",
    "#-- Create a list with the Lp conversion in dB.\n",
    "Lp = []\n",
    "P_ref = 20e-06\n",
    "for i in range(0, len(Lp_Pa)):\n",
    "    P = Lp_Pa[i][0]\n",
    "    level = 20*math.log10(P/P_ref)\n",
    "    Lp.append(level)\n",
    "        \n",
    "# Create the graph\n",
    "plt.plot(fc, Lp)\n",
    "plt.semilogx()\n",
    "\n",
    "## y-axis legend\n",
    "plt.ylabel('Averaged Sound Pressure Level - Leq [dB]')\n",
    " \n",
    "## x-axis legend\n",
    "plt.xlabel('Center Frequency [Hz]')\n",
    " \n",
    "## Graphic Title\n",
    "plt.title('Third-octave band spectrum, 200 Hz @ 85 dB')\n",
    "\n",
    "## Graphical representation of the result obtained by the function \"\"comp_tonality\"\"\n",
    "items = tones.items()\n",
    "items = list(items)\n",
    "\n",
    "for i in range(0, len(items)):\n",
    "    for j in range(0,1):\n",
    "        x = items[i][j]\n",
    "        y = items[i][j+1]\n",
    "    plt.plot(x, y, marker='o', color='red')\n",
    "    \n",
    "## Show Graph\n",
    "plt.show()"
   ]
  },
  {
   "cell_type": "markdown",
   "id": "9b03203c",
   "metadata": {},
   "source": [
    "Graphic result: there is a prominent tone in the center frequency band of 200 Hz with a level of 85 dB.  \n",
    "The result of the function and the graphical result match.  \n",
    "The calculation of the function is correct."
   ]
  },
  {
   "cell_type": "markdown",
   "id": "991209c8",
   "metadata": {},
   "source": [
    "### Pure Tone at 250 Hz\n",
    "Loading of the Signal to be validated:"
   ]
  },
  {
   "cell_type": "code",
   "execution_count": null,
   "id": "45df4e94",
   "metadata": {},
   "outputs": [],
   "source": [
    "# Define path to the .wav file\n",
    "# To be replaced by your own path\n",
    "path = \"input\\TONE250HZ.wav\"\n",
    "\n",
    "# load and obtain the signal data and its sampling frequency.\n",
    "sig, fs = load(path)"
   ]
  },
  {
   "cell_type": "markdown",
   "id": "3a4020bd",
   "metadata": {},
   "source": [
    "Using the \"comp_tonality\" function:"
   ]
  },
  {
   "cell_type": "code",
   "execution_count": null,
   "id": "148f07ba",
   "metadata": {},
   "outputs": [],
   "source": [
    "tones = comp_tonality(sig, fs)\n",
    "print(\"----RESULT-----\")\n",
    "print(tones)\n",
    "print(\"---------------\")"
   ]
  },
  {
   "cell_type": "markdown",
   "id": "fa1d737b",
   "metadata": {},
   "source": [
    "Result: there is a prominent tone in the center frequency band of 250 Hz with a level of 87 dB."
   ]
  },
  {
   "cell_type": "markdown",
   "id": "227016ae",
   "metadata": {},
   "source": [
    "Graphically:"
   ]
  },
  {
   "cell_type": "code",
   "execution_count": null,
   "id": "0af85066",
   "metadata": {},
   "outputs": [],
   "source": [
    "#-- we obtain the data of the Lp in thirds of octave of the signal of which \n",
    "#-- we want to know the prominent tones\n",
    "fmin = 25\n",
    "fmax = 20000\n",
    "third_spec = noct_spectrum(sig=sig, fs=fs, fmin=fmin, fmax=fmax)\n",
    "third_spec = list(third_spec)\n",
    "\n",
    "# -- Obtain the lists of the central frequencies and the average Lp\n",
    "fc = third_spec[1].tolist()\n",
    "Lp_Pa = third_spec[0].tolist()\n",
    "\n",
    "#-- Create a list with the Lp conversion in dB.\n",
    "Lp = []\n",
    "P_ref = 20e-06\n",
    "for i in range(0, len(Lp_Pa)):\n",
    "    P = Lp_Pa[i][0]\n",
    "    level = 20*math.log10(P/P_ref)\n",
    "    Lp.append(level)\n",
    "        \n",
    "# Create the graph\n",
    "plt.plot(fc, Lp)\n",
    "plt.semilogx()\n",
    "\n",
    "## y-axis legend\n",
    "plt.ylabel('Averaged Sound Pressure Level - Leq [dB]')\n",
    " \n",
    "## x-axis legend\n",
    "plt.xlabel('Center Frequency [Hz]')\n",
    " \n",
    "## Graphic Title\n",
    "plt.title('Third-octave band spectrum, 250 Hz @ 87 dB')\n",
    "\n",
    "## Graphical representation of the result obtained by the function \"\"comp_tonality\"\"\n",
    "items = tones.items()\n",
    "items = list(items)\n",
    "\n",
    "for i in range(0, len(items)):\n",
    "    for j in range(0,1):\n",
    "        x = items[i][j]\n",
    "        y = items[i][j+1]\n",
    "    plt.plot(x, y, marker='o', color='red')\n",
    "    \n",
    "## Show Graph\n",
    "plt.show()"
   ]
  },
  {
   "cell_type": "markdown",
   "id": "43c45ce5",
   "metadata": {},
   "source": [
    "Graphic result: there is a prominent tone in the center frequency band of 250 Hz with a level of 87 dB.  \n",
    "The result of the function and the graphical result match.  \n",
    "The calculation of the function is correct."
   ]
  },
  {
   "cell_type": "markdown",
   "id": "529aba71",
   "metadata": {},
   "source": [
    "### Pure Tone at 400 Hz\n",
    "Loading of the Signal to be validated:"
   ]
  },
  {
   "cell_type": "code",
   "execution_count": null,
   "id": "6295e3b9",
   "metadata": {},
   "outputs": [],
   "source": [
    "# Define path to the .wav file\n",
    "# To be replaced by your own path\n",
    "path = \"input\\TONE400HZ.wav\"\n",
    "\n",
    "# load and obtain the signal data and its sampling frequency.\n",
    "sig, fs = load(path)"
   ]
  },
  {
   "cell_type": "markdown",
   "id": "64d85926",
   "metadata": {},
   "source": [
    "Using the \"comp_tonality\" function:"
   ]
  },
  {
   "cell_type": "code",
   "execution_count": null,
   "id": "42d9bb2f",
   "metadata": {},
   "outputs": [],
   "source": [
    "tones = comp_tonality(sig, fs)\n",
    "print(\"----RESULT-----\")\n",
    "print(tones)\n",
    "print(\"---------------\")"
   ]
  },
  {
   "cell_type": "markdown",
   "id": "137c7be5",
   "metadata": {},
   "source": [
    "Result: there is a prominent tone in the center frequency band of 400 Hz with a level of 87 dB."
   ]
  },
  {
   "cell_type": "markdown",
   "id": "d13c06a4",
   "metadata": {},
   "source": [
    "Graphically:"
   ]
  },
  {
   "cell_type": "code",
   "execution_count": null,
   "id": "411f3144",
   "metadata": {},
   "outputs": [],
   "source": [
    "#-- we obtain the data of the Lp in thirds of octave of the signal of which \n",
    "#-- we want to know the prominent tones\n",
    "fmin = 25\n",
    "fmax = 20000\n",
    "third_spec = noct_spectrum(sig=sig, fs=fs, fmin=fmin, fmax=fmax)\n",
    "third_spec = list(third_spec)\n",
    "\n",
    "# -- Obtain the lists of the central frequencies and the average Lp\n",
    "fc = third_spec[1].tolist()\n",
    "Lp_Pa = third_spec[0].tolist()\n",
    "\n",
    "#-- Create a list with the Lp conversion in dB.\n",
    "Lp = []\n",
    "P_ref = 20e-06\n",
    "for i in range(0, len(Lp_Pa)):\n",
    "    P = Lp_Pa[i][0]\n",
    "    level = 20*math.log10(P/P_ref)\n",
    "    Lp.append(level)\n",
    "        \n",
    "# Create the graph\n",
    "plt.plot(fc, Lp)\n",
    "plt.semilogx()\n",
    "\n",
    "## y-axis legend\n",
    "plt.ylabel('Averaged Sound Pressure Level - Leq [dB]')\n",
    " \n",
    "## x-axis legend\n",
    "plt.xlabel('Center Frequency [Hz]')\n",
    " \n",
    "## Graphic Title\n",
    "plt.title('Third-octave band spectrum, 400 Hz @ 87 dB')\n",
    "\n",
    "## Graphical representation of the result obtained by the function \"\"comp_tonality\"\"\n",
    "items = tones.items()\n",
    "items = list(items)\n",
    "\n",
    "for i in range(0, len(items)):\n",
    "    for j in range(0,1):\n",
    "        x = items[i][j]\n",
    "        y = items[i][j+1]\n",
    "    plt.plot(x, y, marker='o', color='red')\n",
    "    \n",
    "## Show Graph\n",
    "plt.show()"
   ]
  },
  {
   "cell_type": "markdown",
   "id": "60d9d147",
   "metadata": {},
   "source": [
    "Graphic result: there is a prominent tone in the center frequency band of 400 Hz with a level of 87 dB.  \n",
    "The result of the function and the graphical result match.  \n",
    "The calculation of the function is correct."
   ]
  },
  {
   "cell_type": "markdown",
   "id": "7e7b89b4",
   "metadata": {},
   "source": [
    "### Pure Tone at 1 KHz"
   ]
  },
  {
   "cell_type": "markdown",
   "id": "2f61ba67",
   "metadata": {},
   "source": [
    "Loading of the Signal to be validated:"
   ]
  },
  {
   "cell_type": "code",
   "execution_count": null,
   "id": "276748b0",
   "metadata": {},
   "outputs": [],
   "source": [
    "# Define path to the .wav file\n",
    "# To be replaced by your own path\n",
    "path = \"input\\TONE1000HZ.wav\"\n",
    "\n",
    "# load and obtain the signal data and its sampling frequency.\n",
    "sig, fs = load(path)\n"
   ]
  },
  {
   "cell_type": "markdown",
   "id": "b74b7385",
   "metadata": {},
   "source": [
    "Using the \"comp_tonality\" function:"
   ]
  },
  {
   "cell_type": "code",
   "execution_count": null,
   "id": "6fe51686",
   "metadata": {},
   "outputs": [
    {
     "name": "stdout",
     "output_type": "stream",
     "text": [
      "----RESULT-----\n",
      "{1000.0: 84.95769157599457}\n",
      "---------------\n"
     ]
    }
   ],
   "source": [
    "tones = comp_tonality(sig, fs)\n",
    "print(\"----RESULT-----\")\n",
    "print(tones)\n",
    "print(\"---------------\")"
   ]
  },
  {
   "cell_type": "markdown",
   "id": "f28f358f",
   "metadata": {},
   "source": [
    "Result: there is a prominent tone in the center frequency band of 1 kHz with a level of 85 dB."
   ]
  },
  {
   "cell_type": "markdown",
   "id": "dec8e694",
   "metadata": {},
   "source": [
    "Graphically:"
   ]
  },
  {
   "cell_type": "code",
   "execution_count": null,
   "id": "16b629f2",
   "metadata": {},
   "outputs": [
    {
     "data": {
      "image/png": "[encoded data removed]",
      "text/plain": [
       "<Figure size 432x288 with 1 Axes>"
      ]
     },
     "metadata": {
      "needs_background": "light"
     },
     "output_type": "display_data"
    }
   ],
   "source": [
    "#-- we obtain the data of the Lp in thirds of octave of the signal of which \n",
    "#-- we want to know the prominent tones\n",
    "fmin = 25\n",
    "fmax = 20000\n",
    "third_spec = noct_spectrum(sig=sig, fs=fs, fmin=fmin, fmax=fmax)\n",
    "third_spec = list(third_spec)\n",
    "\n",
    "# -- Obtain the lists of the central frequencies and the average Lp\n",
    "fc = third_spec[1].tolist()\n",
    "Lp_Pa = third_spec[0].tolist()\n",
    "\n",
    "#-- Create a list with the Lp conversion in dB.\n",
    "Lp = []\n",
    "P_ref = 20e-06\n",
    "for i in range(0, len(Lp_Pa)):\n",
    "    P = Lp_Pa[i][0]\n",
    "    level = 20*math.log10(P/P_ref)\n",
    "    Lp.append(level)\n",
    "        \n",
    "# Create the graph\n",
    "plt.plot(fc, Lp)\n",
    "plt.semilogx()\n",
    "\n",
    "## y-axis legend\n",
    "plt.ylabel('Averaged Sound Pressure Level - Leq [dB]')\n",
    " \n",
    "## x-axis legend\n",
    "plt.xlabel('Center Frequency [Hz]')\n",
    " \n",
    "## Graphic Title\n",
    "plt.title('Third-octave band spectrum, 1 KHz @ 85 dB')\n",
    "\n",
    "## Graphical representation of the result obtained by the function \"\"comp_tonality\"\"\n",
    "items = tones.items()\n",
    "items = list(items)\n",
    "\n",
    "for i in range(0, len(items)):\n",
    "    for j in range(0,1):\n",
    "        x = items[i][j]\n",
    "        y = items[i][j+1]\n",
    "    plt.plot(x, y, marker='o', color='red')\n",
    "    \n",
    "## Show Graph\n",
    "plt.show()"
   ]
  },
  {
   "cell_type": "markdown",
   "id": "1b7edaa3",
   "metadata": {},
   "source": [
    "Graphic result: there is a prominent tone in the center frequency band of 1 KHz with a level of 85 dB.  \n",
    "The result of the function and the graphical result match.  \n",
    "The calculation of the function is correct."
   ]
  },
  {
   "cell_type": "markdown",
   "id": "4c7a17d3",
   "metadata": {},
   "source": [
    "### Pure Tone at 2 KHz"
   ]
  },
  {
   "cell_type": "markdown",
   "id": "4ca054a3",
   "metadata": {},
   "source": [
    "Loading of the Signal to be validated:"
   ]
  },
  {
   "cell_type": "code",
   "execution_count": null,
   "id": "a6ffed3a",
   "metadata": {},
   "outputs": [],
   "source": [
    "# Define path to the .wav file\n",
    "# To be replaced by your own path\n",
    "path = \"input\\TONE2000HZ.wav\"\n",
    "\n",
    "# load and obtain the signal data and its sampling frequency.\n",
    "sig, fs = load(path)\n"
   ]
  },
  {
   "cell_type": "markdown",
   "id": "a67f8bd4",
   "metadata": {},
   "source": [
    "Using the \"comp_tonality\" function:"
   ]
  },
  {
   "cell_type": "code",
   "execution_count": null,
   "id": "2ac0dee0",
   "metadata": {},
   "outputs": [
    {
     "name": "stdout",
     "output_type": "stream",
     "text": [
      "----RESULT-----\n",
      "{2000.0: 84.95769475688172}\n",
      "---------------\n"
     ]
    }
   ],
   "source": [
    "tones = comp_tonality(sig, fs)\n",
    "print(\"----RESULT-----\")\n",
    "print(tones)\n",
    "print(\"---------------\")"
   ]
  },
  {
   "cell_type": "markdown",
   "id": "4f48fc5f",
   "metadata": {},
   "source": [
    "Result: there is a prominent tone in the center frequency band of 2 kHz with a level of 85 dB."
   ]
  },
  {
   "cell_type": "markdown",
   "id": "ee87d1a8",
   "metadata": {},
   "source": [
    "Graphically:"
   ]
  },
  {
   "cell_type": "code",
   "execution_count": null,
   "id": "3ab54106",
   "metadata": {},
   "outputs": [
    {
     "data": {
      "image/png": "[encoded data removed]",
      "text/plain": [
       "<Figure size 432x288 with 1 Axes>"
      ]
     },
     "metadata": {
      "needs_background": "light"
     },
     "output_type": "display_data"
    }
   ],
   "source": [
    "#-- we obtain the data of the Lp in thirds of octave of the signal of which \n",
    "#-- we want to know the prominent tones\n",
    "fmin = 25\n",
    "fmax = 20000\n",
    "third_spec = noct_spectrum(sig=sig, fs=fs, fmin=fmin, fmax=fmax)\n",
    "third_spec = list(third_spec)\n",
    "\n",
    "# -- Obtain the lists of the central frequencies and the average Lp\n",
    "fc = third_spec[1].tolist()\n",
    "Lp_Pa = third_spec[0].tolist()\n",
    "\n",
    "#-- Create a list with the Lp conversion in dB.\n",
    "Lp = []\n",
    "P_ref = 20e-06\n",
    "for i in range(0, len(Lp_Pa)):\n",
    "    P = Lp_Pa[i][0]\n",
    "    level = 20*math.log10(P/P_ref)\n",
    "    Lp.append(level)\n",
    "        \n",
    "# Create the graph\n",
    "plt.plot(fc, Lp)\n",
    "plt.semilogx()\n",
    "\n",
    "## y-axis legend\n",
    "plt.ylabel('Averaged Sound Pressure Level - Leq [dB]')\n",
    " \n",
    "## x-axis legend\n",
    "plt.xlabel('Center Frequency [Hz]')\n",
    " \n",
    "## Graphic Title\n",
    "plt.title('Third-octave band spectrum, 2 KHz @ 85 dB')\n",
    "\n",
    "## Graphical representation of the result obtained by the function \"\"comp_tonality\"\"\n",
    "items = tones.items()\n",
    "items = list(items)\n",
    "\n",
    "for i in range(0, len(items)):\n",
    "    for j in range(0,1):\n",
    "        x = items[i][j]\n",
    "        y = items[i][j+1]\n",
    "    plt.plot(x, y, marker='o', color='red')\n",
    "    \n",
    "## Show Graph\n",
    "plt.show()"
   ]
  },
  {
   "cell_type": "markdown",
   "id": "f39326c4",
   "metadata": {},
   "source": [
    "Graphic result: there is a prominent tone in the center frequency band of 2 KHz with a level of 85 dB.  \n",
    "The result of the function and the graphical result match.  \n",
    "The calculation of the function is correct."
   ]
  },
  {
   "cell_type": "markdown",
   "id": "722cc788",
   "metadata": {},
   "source": [
    "### Pure Tone at 4 KHz"
   ]
  },
  {
   "cell_type": "markdown",
   "id": "60bbd288",
   "metadata": {},
   "source": [
    "Loading of the Signal to be validated:"
   ]
  },
  {
   "cell_type": "code",
   "execution_count": null,
   "id": "93af976a",
   "metadata": {},
   "outputs": [],
   "source": [
    "# Define path to the .wav file\n",
    "# To be replaced by your own path\n",
    "path = \"input\\TONE4000HZ.wav\"\n",
    "\n",
    "# load and obtain the signal data and its sampling frequency.\n",
    "sig, fs = load(path)\n"
   ]
  },
  {
   "cell_type": "markdown",
   "id": "1363552e",
   "metadata": {},
   "source": [
    "Using the \"comp_tonality\" function:"
   ]
  },
  {
   "cell_type": "code",
   "execution_count": null,
   "id": "8dc29024",
   "metadata": {},
   "outputs": [
    {
     "name": "stdout",
     "output_type": "stream",
     "text": [
      "----RESULT-----\n",
      "{4000.0: 84.95769513285117}\n",
      "---------------\n"
     ]
    }
   ],
   "source": [
    "tones = comp_tonality(sig, fs)\n",
    "print(\"----RESULT-----\")\n",
    "print(tones)\n",
    "print(\"---------------\")"
   ]
  },
  {
   "cell_type": "markdown",
   "id": "42882403",
   "metadata": {},
   "source": [
    "Result: there is a prominent tone in the center frequency band of 4 kHz with a level of 85 dB."
   ]
  },
  {
   "cell_type": "markdown",
   "id": "5bc1e427",
   "metadata": {},
   "source": [
    "Graphically:"
   ]
  },
  {
   "cell_type": "code",
   "execution_count": null,
   "id": "f181b378",
   "metadata": {},
   "outputs": [
    {
     "data": {
      "image/png": "[encoded data removed]",
      "text/plain": [
       "<Figure size 432x288 with 1 Axes>"
      ]
     },
     "metadata": {
      "needs_background": "light"
     },
     "output_type": "display_data"
    }
   ],
   "source": [
    "#-- we obtain the data of the Lp in thirds of octave of the signal of which \n",
    "#-- we want to know the prominent tones\n",
    "fmin = 25\n",
    "fmax = 20000\n",
    "third_spec = noct_spectrum(sig=sig, fs=fs, fmin=fmin, fmax=fmax)\n",
    "third_spec = list(third_spec)\n",
    "\n",
    "# -- Obtain the lists of the central frequencies and the average Lp\n",
    "fc = third_spec[1].tolist()\n",
    "Lp_Pa = third_spec[0].tolist()\n",
    "\n",
    "#-- Create a list with the Lp conversion in dB.\n",
    "Lp = []\n",
    "P_ref = 20e-06\n",
    "for i in range(0, len(Lp_Pa)):\n",
    "    P = Lp_Pa[i][0]\n",
    "    level = 20*math.log10(P/P_ref)\n",
    "    Lp.append(level)\n",
    "        \n",
    "# Create the graph\n",
    "plt.plot(fc, Lp)\n",
    "plt.semilogx()\n",
    "\n",
    "## y-axis legend\n",
    "plt.ylabel('Averaged Sound Pressure Level - Leq [dB]')\n",
    " \n",
    "## x-axis legend\n",
    "plt.xlabel('Center Frequency [Hz]')\n",
    " \n",
    "## Graphic Title\n",
    "plt.title('Third-octave band spectrum, 4 KHz @ 85 dB')\n",
    "\n",
    "## Graphical representation of the result obtained by the function \"\"comp_tonality\"\"\n",
    "items = tones.items()\n",
    "items = list(items)\n",
    "\n",
    "for i in range(0, len(items)):\n",
    "    for j in range(0,1):\n",
    "        x = items[i][j]\n",
    "        y = items[i][j+1]\n",
    "    plt.plot(x, y, marker='o', color='red')\n",
    "    \n",
    "## Show Graph\n",
    "plt.show()"
   ]
  },
  {
   "cell_type": "markdown",
   "id": "e3276cc3",
   "metadata": {},
   "source": [
    "Graphic result: there is a prominent tone in the center frequency band of 4 KHz with a level of 85 dB.  \n",
    "The result of the function and the graphical result match.  \n",
    "The calculation of the function is correct."
   ]
  },
  {
   "cell_type": "markdown",
   "id": "ff5ef735",
   "metadata": {},
   "source": [
    "### Pure Tone at 5 KHz"
   ]
  },
  {
   "cell_type": "markdown",
   "id": "f15a399b",
   "metadata": {},
   "source": [
    "Loading of the Signal to be validated:"
   ]
  },
  {
   "cell_type": "code",
   "execution_count": null,
   "id": "983ff8e4",
   "metadata": {},
   "outputs": [],
   "source": [
    "# Define path to the .wav file\n",
    "# To be replaced by your own path\n",
    "path = \"input\\TONE5000HZ.wav\"\n",
    "\n",
    "# load and obtain the signal data and its sampling frequency.\n",
    "sig, fs = load(path)\n"
   ]
  },
  {
   "cell_type": "markdown",
   "id": "207344ea",
   "metadata": {},
   "source": [
    "Using the \"comp_tonality\" function:"
   ]
  },
  {
   "cell_type": "code",
   "execution_count": null,
   "id": "4cbeaa7b",
   "metadata": {},
   "outputs": [
    {
     "name": "stdout",
     "output_type": "stream",
     "text": [
      "----RESULT-----\n",
      "{5000.0: 84.95769534548327}\n",
      "---------------\n"
     ]
    }
   ],
   "source": [
    "tones = comp_tonality(sig, fs)\n",
    "print(\"----RESULT-----\")\n",
    "print(tones)\n",
    "print(\"---------------\")"
   ]
  },
  {
   "cell_type": "markdown",
   "id": "f7d2b6ba",
   "metadata": {},
   "source": [
    "Result: there is a prominent tone in the center frequency band of 5 kHz with a level of 85 dB."
   ]
  },
  {
   "cell_type": "markdown",
   "id": "aadee042",
   "metadata": {},
   "source": [
    "Graphically:"
   ]
  },
  {
   "cell_type": "code",
   "execution_count": null,
   "id": "432c0755",
   "metadata": {},
   "outputs": [
    {
     "data": {
      "image/png": "[encoded data removed]",
      "text/plain": [
       "<Figure size 432x288 with 1 Axes>"
      ]
     },
     "metadata": {
      "needs_background": "light"
     },
     "output_type": "display_data"
    }
   ],
   "source": [
    "#-- we obtain the data of the Lp in thirds of octave of the signal of which \n",
    "#-- we want to know the prominent tones\n",
    "fmin = 25\n",
    "fmax = 20000\n",
    "third_spec = noct_spectrum(sig=sig, fs=fs, fmin=fmin, fmax=fmax)\n",
    "third_spec = list(third_spec)\n",
    "\n",
    "# -- Obtain the lists of the central frequencies and the average Lp\n",
    "fc = third_spec[1].tolist()\n",
    "Lp_Pa = third_spec[0].tolist()\n",
    "\n",
    "#-- Create a list with the Lp conversion in dB.\n",
    "Lp = []\n",
    "P_ref = 20e-06\n",
    "for i in range(0, len(Lp_Pa)):\n",
    "    P = Lp_Pa[i][0]\n",
    "    level = 20*math.log10(P/P_ref)\n",
    "    Lp.append(level)\n",
    "        \n",
    "# Create the graph\n",
    "plt.plot(fc, Lp)\n",
    "plt.semilogx()\n",
    "\n",
    "## y-axis legend\n",
    "plt.ylabel('Averaged Sound Pressure Level - Leq [dB]')\n",
    " \n",
    "## x-axis legend\n",
    "plt.xlabel('Center Frequency [Hz]')\n",
    " \n",
    "## Graphic Title\n",
    "plt.title('Third-octave band spectrum, 5 KHz @ 85 dB')\n",
    "\n",
    "## Graphical representation of the result obtained by the function \"\"comp_tonality\"\"\n",
    "items = tones.items()\n",
    "items = list(items)\n",
    "\n",
    "for i in range(0, len(items)):\n",
    "    for j in range(0,1):\n",
    "        x = items[i][j]\n",
    "        y = items[i][j+1]\n",
    "    plt.plot(x, y, marker='o', color='red')\n",
    "    \n",
    "## Show Graph\n",
    "plt.show()"
   ]
  },
  {
   "cell_type": "markdown",
   "id": "56e67a0e",
   "metadata": {},
   "source": [
    "Graphic result: there is a prominent tone in the center frequency band of 5 KHz with a level of 85 dB.  \n",
    "The result of the function and the graphical result match.  \n",
    "The calculation of the function is correct."
   ]
  },
  {
   "cell_type": "markdown",
   "id": "d6779026",
   "metadata": {},
   "source": [
    "# Tone Detection in Multi-Tone Signals"
   ]
  },
  {
   "cell_type": "markdown",
   "id": "b0150402",
   "metadata": {},
   "source": [
    "### Clock Alarm"
   ]
  },
  {
   "cell_type": "markdown",
   "id": "c6e4d146",
   "metadata": {},
   "source": [
    "Loading of the Signal to be validated:"
   ]
  },
  {
   "cell_type": "code",
   "execution_count": null,
   "id": "5d5f303b",
   "metadata": {},
   "outputs": [
    {
     "name": "stdout",
     "output_type": "stream",
     "text": [
      "[Info] Multichannel signal loaded. Keeping only first channel\n",
      "[Info] Signal resampled to 48 kHz to allow calculation.\n"
     ]
    }
   ],
   "source": [
    "# Define path to the .wav file\n",
    "# To be replaced by your own path\n",
    "path = \"input\\MULTITONE_ALARM.wav\"\n",
    "\n",
    "# load and obtain the signal data and its sampling frequency.\n",
    "sig, fs = load(path)\n"
   ]
  },
  {
   "cell_type": "markdown",
   "id": "1a903f95",
   "metadata": {},
   "source": [
    "Using the \"comp_tonality\" function:"
   ]
  },
  {
   "cell_type": "code",
   "execution_count": null,
   "id": "17dfd3ac",
   "metadata": {},
   "outputs": [
    {
     "name": "stdout",
     "output_type": "stream",
     "text": [
      "----RESULT-----\n",
      "{800.0: 53.685430439067396, 2000.0: 55.97882939521264, 3150.0: 64.05469163499629, 5000.0: 74.90550800435562}\n",
      "---------------\n"
     ]
    }
   ],
   "source": [
    "tones = comp_tonality(sig, fs)\n",
    "print(\"----RESULT-----\")\n",
    "print(tones)\n",
    "print(\"---------------\")"
   ]
  },
  {
   "cell_type": "markdown",
   "id": "a91c878d",
   "metadata": {},
   "source": [
    "Result: there is a prominent tone in the center frequency band of 800 Hz with a level of 54 dB, in the center frequency band of 2 kHz with a level of 56 dB, in the center frequency band of 3'15 kHz with a level of 64 dB and in the center frequency band of 5 KHz with a level of 75 dB."
   ]
  },
  {
   "cell_type": "markdown",
   "id": "815e08a2",
   "metadata": {},
   "source": [
    "Graphically:"
   ]
  },
  {
   "cell_type": "code",
   "execution_count": null,
   "id": "62bc9f0d",
   "metadata": {},
   "outputs": [
    {
     "data": {
      "image/png": "[encoded data removed]",
      "text/plain": [
       "<Figure size 432x288 with 1 Axes>"
      ]
     },
     "metadata": {
      "needs_background": "light"
     },
     "output_type": "display_data"
    }
   ],
   "source": [
    "#-- we obtain the data of the Lp in thirds of octave of the signal of which \n",
    "#-- we want to know the prominent tones\n",
    "fmin = 25\n",
    "fmax = 20000\n",
    "third_spec = noct_spectrum(sig=sig, fs=fs, fmin=fmin, fmax=fmax)\n",
    "third_spec = list(third_spec)\n",
    "\n",
    "# -- Obtain the lists of the central frequencies and the average Lp\n",
    "fc = third_spec[1].tolist()\n",
    "Lp_Pa = third_spec[0].tolist()\n",
    "\n",
    "#-- Create a list with the Lp conversion in dB.\n",
    "Lp = []\n",
    "P_ref = 20e-06\n",
    "for i in range(0, len(Lp_Pa)):\n",
    "    P = Lp_Pa[i][0]\n",
    "    level = 20*math.log10(P/P_ref)\n",
    "    Lp.append(level)\n",
    "        \n",
    "# Create the graph\n",
    "plt.plot(fc, Lp)\n",
    "plt.semilogx()\n",
    "\n",
    "## y-axis legend\n",
    "plt.ylabel('Averaged Sound Pressure Level - Leq [dB]')\n",
    " \n",
    "## x-axis legend\n",
    "plt.xlabel('Center Frequency [Hz]')\n",
    " \n",
    "## Graphic Title\n",
    "plt.title('Third-octave band spectrum, Clock Alarm')\n",
    "\n",
    "## Graphical representation of the result obtained by the function \"\"comp_tonality\"\"\n",
    "items = tones.items()\n",
    "items = list(items)\n",
    "\n",
    "for i in range(0, len(items)):\n",
    "    for j in range(0,1):\n",
    "        x = items[i][j]\n",
    "        y = items[i][j+1]\n",
    "    plt.plot(x, y, marker='o', color='red')\n",
    "    \n",
    "## Show Graph\n",
    "plt.show()"
   ]
  },
  {
   "cell_type": "markdown",
   "id": "067920a1",
   "metadata": {},
   "source": [
    "Graphic result: there is a prominent tone in the center frequency band of 800 Hz with a level of 54 dB, in the center frequency band of 2 kHz with a level of 56 dB, in the center frequency band of 3'15 kHz with a level of 64 dB and in the center frequency band of 5 KHz with a level of 75 dB.  \n",
    "The result of the function and the graphical result match.  \n",
    "The calculation of the function is correct."
   ]
  },
  {
   "cell_type": "markdown",
   "id": "eaa41f4f",
   "metadata": {},
   "source": [
    "### Siren"
   ]
  },
  {
   "cell_type": "markdown",
   "id": "37622967",
   "metadata": {},
   "source": [
    "Loading of the Signal to be validated:"
   ]
  },
  {
   "cell_type": "code",
   "execution_count": null,
   "id": "5bea0de6",
   "metadata": {},
   "outputs": [
    {
     "name": "stdout",
     "output_type": "stream",
     "text": [
      "[Info] Multichannel signal loaded. Keeping only first channel\n"
     ]
    }
   ],
   "source": [
    "# Define path to the .wav file\n",
    "# To be replaced by your own path\n",
    "path = \"input\\MULTITONE_SIREN.wav\"\n",
    "\n",
    "# load and obtain the signal data and its sampling frequency.\n",
    "sig, fs = load(path)\n"
   ]
  },
  {
   "cell_type": "markdown",
   "id": "dc44a23a",
   "metadata": {},
   "source": [
    "Using the \"comp_tonality\" function:"
   ]
  },
  {
   "cell_type": "code",
   "execution_count": null,
   "id": "b99f293f",
   "metadata": {},
   "outputs": [
    {
     "name": "stdout",
     "output_type": "stream",
     "text": [
      "----RESULT-----\n",
      "{1600.0: 61.618174324534216, 2500.0: 56.86145723559116, 8000.0: 38.87188014184665}\n",
      "---------------\n"
     ]
    }
   ],
   "source": [
    "tones = comp_tonality(sig, fs)\n",
    "print(\"----RESULT-----\")\n",
    "print(tones)\n",
    "print(\"---------------\")"
   ]
  },
  {
   "cell_type": "markdown",
   "id": "52c58364",
   "metadata": {},
   "source": [
    "Result: there is a prominent tone in the center frequency band of 1'6 KHz with a level of 62 dB, in the center frequency band of 2'5 kHz with a level of 57 dB and in the center frequency band of 8 KHz with a level of 39 dB."
   ]
  },
  {
   "cell_type": "markdown",
   "id": "1f895b4c",
   "metadata": {},
   "source": [
    "Graphically:"
   ]
  },
  {
   "cell_type": "code",
   "execution_count": null,
   "id": "34a7ad64",
   "metadata": {},
   "outputs": [
    {
     "data": {
      "image/png": "[encoded data removed]",
      "text/plain": [
       "<Figure size 432x288 with 1 Axes>"
      ]
     },
     "metadata": {
      "needs_background": "light"
     },
     "output_type": "display_data"
    }
   ],
   "source": [
    "#-- we obtain the data of the Lp in thirds of octave of the signal of which \n",
    "#-- we want to know the prominent tones\n",
    "fmin = 25\n",
    "fmax = 20000\n",
    "third_spec = noct_spectrum(sig=sig, fs=fs, fmin=fmin, fmax=fmax)\n",
    "third_spec = list(third_spec)\n",
    "\n",
    "# -- Obtain the lists of the central frequencies and the average Lp\n",
    "fc = third_spec[1].tolist()\n",
    "Lp_Pa = third_spec[0].tolist()\n",
    "\n",
    "#-- Create a list with the Lp conversion in dB.\n",
    "Lp = []\n",
    "P_ref = 20e-06\n",
    "for i in range(0, len(Lp_Pa)):\n",
    "    P = Lp_Pa[i][0]\n",
    "    level = 20*math.log10(P/P_ref)\n",
    "    Lp.append(level)\n",
    "        \n",
    "# Create the graph\n",
    "plt.plot(fc, Lp)\n",
    "plt.semilogx()\n",
    "\n",
    "## y-axis legend\n",
    "plt.ylabel('Averaged Sound Pressure Level - Leq [dB]')\n",
    " \n",
    "## x-axis legend\n",
    "plt.xlabel('Center Frequency [Hz]')\n",
    " \n",
    "## Graphic Title\n",
    "plt.title('Third-octave band spectrum, Siren')\n",
    "\n",
    "## Graphical representation of the result obtained by the function \"\"comp_tonality\"\"\n",
    "items = tones.items()\n",
    "items = list(items)\n",
    "\n",
    "for i in range(0, len(items)):\n",
    "    for j in range(0,1):\n",
    "        x = items[i][j]\n",
    "        y = items[i][j+1]\n",
    "    plt.plot(x, y, marker='o', color='red')\n",
    "    \n",
    "## Show Graph\n",
    "plt.show()"
   ]
  },
  {
   "cell_type": "markdown",
   "id": "1f2f34b4",
   "metadata": {},
   "source": [
    "Graphic result: there is a prominent tone in the center frequency band of 1'6 KHz with a level of 62 dB, in the center frequency band of 2'5 kHz with a level of 57 dB and in the center frequency band of 8 KHz with a level of 39 dB.  \n",
    "The result of the function and the graphical result match.  \n",
    "The calculation of the function is correct."
   ]
  },
  {
   "cell_type": "markdown",
   "id": "14f61b37",
   "metadata": {},
   "source": [
    "# Tone Detection in Signals without Prominent Tones"
   ]
  },
  {
   "cell_type": "markdown",
   "id": "5aa60d6c",
   "metadata": {},
   "source": [
    "## White noise - radio static noise\n",
    "Loading of the Signal to be validated:"
   ]
  },
  {
   "cell_type": "code",
   "execution_count": null,
   "id": "6483c0de",
   "metadata": {},
   "outputs": [
    {
     "name": "stdout",
     "output_type": "stream",
     "text": [
      "[Info] Multichannel signal loaded. Keeping only first channel\n"
     ]
    }
   ],
   "source": [
    "# Define path to the .wav file\n",
    "# To be replaced by your own path\n",
    "path = \"input\\WHITE_NOISE.wav\"\n",
    "\n",
    "# load and obtain the signal data and its sampling frequency.\n",
    "sig, fs = load(path)\n"
   ]
  },
  {
   "cell_type": "markdown",
   "id": "f861fa98",
   "metadata": {},
   "source": [
    "Using the \"comp_tonality\" function:"
   ]
  },
  {
   "cell_type": "code",
   "execution_count": null,
   "id": "2372a3b4",
   "metadata": {},
   "outputs": [
    {
     "name": "stdout",
     "output_type": "stream",
     "text": [
      "----RESULT-----\n",
      "{}\n",
      "---------------\n"
     ]
    }
   ],
   "source": [
    "tones = comp_tonality(sig, fs)\n",
    "print(\"----RESULT-----\")\n",
    "print(tones)\n",
    "print(\"---------------\")"
   ]
  },
  {
   "cell_type": "markdown",
   "id": "a29ae303",
   "metadata": {},
   "source": [
    "Result: No prominent tones detected."
   ]
  },
  {
   "cell_type": "markdown",
   "id": "da0a2f5f",
   "metadata": {},
   "source": [
    "Graphically:"
   ]
  },
  {
   "cell_type": "code",
   "execution_count": null,
   "id": "c9aad7ae",
   "metadata": {},
   "outputs": [
    {
     "data": {
      "image/png": "[encoded data removed]",
      "text/plain": [
       "<Figure size 432x288 with 1 Axes>"
      ]
     },
     "metadata": {
      "needs_background": "light"
     },
     "output_type": "display_data"
    }
   ],
   "source": [
    "#-- we obtain the data of the Lp in thirds of octave of the signal of which \n",
    "#-- we want to know the prominent tones\n",
    "fmin = 25\n",
    "fmax = 20000\n",
    "third_spec = noct_spectrum(sig=sig, fs=fs, fmin=fmin, fmax=fmax)\n",
    "third_spec = list(third_spec)\n",
    "\n",
    "# -- Obtain the lists of the central frequencies and the average Lp\n",
    "fc = third_spec[1].tolist()\n",
    "Lp_Pa = third_spec[0].tolist()\n",
    "\n",
    "#-- Create a list with the Lp conversion in dB.\n",
    "Lp = []\n",
    "P_ref = 20e-06\n",
    "for i in range(0, len(Lp_Pa)):\n",
    "    P = Lp_Pa[i][0]\n",
    "    level = 20*math.log10(P/P_ref)\n",
    "    Lp.append(level)\n",
    "        \n",
    "# Create the graph\n",
    "plt.plot(fc, Lp)\n",
    "plt.semilogx()\n",
    "\n",
    "## y-axis legend\n",
    "plt.ylabel('Averaged Sound Pressure Level - Leq [dB]')\n",
    " \n",
    "## x-axis legend\n",
    "plt.xlabel('Center Frequency [Hz]')\n",
    " \n",
    "## Graphic Title\n",
    "plt.title('Third-octave band spectrum, Radio Static Noise')\n",
    "\n",
    "## Graphical representation of the result obtained by the function \"\"comp_tonality\"\"\n",
    "items = tones.items()\n",
    "items = list(items)\n",
    "\n",
    "for i in range(0, len(items)):\n",
    "    for j in range(0,1):\n",
    "        x = items[i][j]\n",
    "        y = items[i][j+1]\n",
    "    plt.plot(x, y, marker='o', color='red')\n",
    "    \n",
    "## Show Graph\n",
    "plt.show()"
   ]
  },
  {
   "cell_type": "markdown",
   "id": "bf05b91c",
   "metadata": {},
   "source": [
    "Graphic result: No pronounced peaks are seen in the spectrum. No prominent tones are detected. \n",
    "The result of the function and the graphical result match.  \n",
    "The calculation of the function is correct."
   ]
  },
  {
   "cell_type": "markdown",
   "id": "2eccb1d4",
   "metadata": {},
   "source": [
    "## Atonal electric guitar riff\n",
    "Loading of the Signal to be validated:"
   ]
  },
  {
   "cell_type": "code",
   "execution_count": null,
   "id": "b14fc4eb",
   "metadata": {},
   "outputs": [],
   "source": [
    "# Define path to the .wav file\n",
    "# To be replaced by your own path\n",
    "path = \"input\\ATONAL_ELECTRIC_GUITAR_RIFF.wav\"\n",
    "\n",
    "# load and obtain the signal data and its sampling frequency.\n",
    "sig, fs = load(path)"
   ]
  },
  {
   "cell_type": "markdown",
   "id": "6793d2b4",
   "metadata": {},
   "source": [
    "Using the \"comp_tonality\" function:"
   ]
  },
  {
   "cell_type": "code",
   "execution_count": null,
   "id": "52ee0b6a",
   "metadata": {},
   "outputs": [],
   "source": [
    "tones = comp_tonality(sig, fs)\n",
    "print(\"----RESULT-----\")\n",
    "print(tones)\n",
    "print(\"---------------\")"
   ]
  },
  {
   "cell_type": "markdown",
   "id": "b80c2615",
   "metadata": {},
   "source": [
    "Result: No prominent tones detected."
   ]
  },
  {
   "cell_type": "markdown",
   "id": "62a7f960",
   "metadata": {},
   "source": [
    "Graphically:"
   ]
  },
  {
   "cell_type": "code",
   "execution_count": null,
   "id": "63421dfa",
   "metadata": {},
   "outputs": [],
   "source": [
    "#-- we obtain the data of the Lp in thirds of octave of the signal of which \n",
    "#-- we want to know the prominent tones\n",
    "fmin = 25\n",
    "fmax = 20000\n",
    "third_spec = noct_spectrum(sig=sig, fs=fs, fmin=fmin, fmax=fmax)\n",
    "third_spec = list(third_spec)\n",
    "\n",
    "# -- Obtain the lists of the central frequencies and the average Lp\n",
    "fc = third_spec[1].tolist()\n",
    "Lp_Pa = third_spec[0].tolist()\n",
    "\n",
    "#-- Create a list with the Lp conversion in dB.\n",
    "Lp = []\n",
    "P_ref = 20e-06\n",
    "for i in range(0, len(Lp_Pa)):\n",
    "    P = Lp_Pa[i][0]\n",
    "    level = 20*math.log10(P/P_ref)\n",
    "    Lp.append(level)\n",
    "        \n",
    "# Create the graph\n",
    "plt.plot(fc, Lp)\n",
    "plt.semilogx()\n",
    "\n",
    "## y-axis legend\n",
    "plt.ylabel('Averaged Sound Pressure Level - Leq [dB]')\n",
    " \n",
    "## x-axis legend\n",
    "plt.xlabel('Center Frequency [Hz]')\n",
    " \n",
    "## Graphic Title\n",
    "plt.title('Third-octave band spectrum, Electric Guitar Riff')\n",
    "\n",
    "## Graphical representation of the result obtained by the function \"\"comp_tonality\"\"\n",
    "items = tones.items()\n",
    "items = list(items)\n",
    "\n",
    "for i in range(0, len(items)):\n",
    "    for j in range(0,1):\n",
    "        x = items[i][j]\n",
    "        y = items[i][j+1]\n",
    "    plt.plot(x, y, marker='o', color='red')\n",
    "    \n",
    "## Show Graph\n",
    "plt.show()"
   ]
  },
  {
   "cell_type": "markdown",
   "id": "dd2e5aa2",
   "metadata": {},
   "source": [
    "Graphic result: No pronounced peaks are seen in the spectrum. No prominent tones are detected. \n",
    "The result of the function and the graphical result match.  \n",
    "The calculation of the function is correct."
   ]
  }
 ],
 "metadata": {
  "kernelspec": {
   "display_name": "Python 3 (ipykernel)",
   "language": "python",
   "name": "python3"
  },
  "language_info": {
   "codemirror_mode": {
    "name": "ipython",
    "version": 3
   },
   "file_extension": ".py",
   "mimetype": "text/x-python",
   "name": "python",
   "nbconvert_exporter": "python",
   "pygments_lexer": "ipython3",
   "version": "3.9.7"
  }
 },
 "nbformat": 4,
 "nbformat_minor": 5
}
