{
 "cells": [
  {
   "cell_type": "markdown",
   "id": "3883cd7c",
   "metadata": {},
   "source": [
    "# Validation of the function \"comp_tonality\" based on ISO1996-2 annex K"
   ]
  },
  {
   "cell_type": "code",
   "execution_count": null,
   "id": "8cf257a6",
   "metadata": {},
   "outputs": [],
   "source": []
  }
 ],
 "metadata": {
  "kernelspec": {
   "display_name": "Python 3",
   "language": "python",
   "name": "python3"
  },
  "language_info": {
   "codemirror_mode": {
    "name": "ipython",
    "version": 3
   },
   "file_extension": ".py",
   "mimetype": "text/x-python",
   "name": "python",
   "nbconvert_exporter": "python",
   "pygments_lexer": "ipython3",
   "version": "3.8.8"
  }
 },
 "nbformat": 4,
 "nbformat_minor": 5
}
