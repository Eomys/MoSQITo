{
 "cells": [
  {
   "cell_type": "markdown",
   "id": "3883cd7c",
   "metadata": {},
   "source": [
    "# Validation of the function \"comp_tonality\" based on ISO1996-2 annex K"
   ]
  },
  {
   "cell_type": "code",
   "execution_count": null,
   "id": "8cf257a6",
   "metadata": {},
   "outputs": [],
   "source": [
    "# import Mosqito funtions\n",
    "from mosqito.functions.oct3filter.comp_third_spectrum import comp_third_spec\n",
    "from mosqito.functions.shared.load import load\n",
    "\n",
    "# Define path to the .wav file\n",
    "# To be replaced by your own path\n",
    "path = \"prueba.wav\"\n",
    "\n",
    "# load and obtain the signal data and its sampling frequency.\n",
    "sig, fs = load(True, path, calib=1)"
   ]
  },
  {
   "cell_type": "code",
   "execution_count": null,
   "id": "7ff7584e",
   "metadata": {},
   "outputs": [],
   "source": [
    "# Import function for detection of prominent tones\n",
    "from comp_tonality import comp_tonality\n",
    "\n",
    "tones = comp_tonality(sig, fs)\n",
    "print(\"----RESULT-----\")\n",
    "print(tones)\n",
    "print(\"---------------\")"
   ]
  },
  {
   "cell_type": "code",
   "execution_count": null,
   "id": "01a3fdc9",
   "metadata": {},
   "outputs": [],
   "source": []
  }
 ],
 "metadata": {
  "kernelspec": {
   "display_name": "Python 3 (ipykernel)",
   "language": "python",
   "name": "python3"
  },
  "language_info": {
   "codemirror_mode": {
    "name": "ipython",
    "version": 3
   },
   "file_extension": ".py",
   "mimetype": "text/x-python",
   "name": "python",
   "nbconvert_exporter": "python",
   "pygments_lexer": "ipython3",
   "version": "3.8.8"
  }
 },
 "nbformat": 4,
 "nbformat_minor": 5
}
