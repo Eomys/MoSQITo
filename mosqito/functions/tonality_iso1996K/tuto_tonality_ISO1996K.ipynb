{
 "cells": [
  {
   "cell_type": "markdown",
   "id": "8c6a1bc2",
   "metadata": {},
   "source": [
    "<h1>Table of Contents<span class=\"tocSkip\"></span></h1>\n",
    "<div class=\"toc\"><ul class=\"toc-item\"><li><span><a href=\"#Using-the-function-library\" data-toc-modified-id=\"Using-the-function-library-1\"><span class=\"toc-item-num\">1&nbsp;&nbsp;</span>Using the function library</a></span><ul class=\"toc-item\"><li><span><a href=\"#Graphical-representation-of-signal\" data-toc-modified-id=\"Graphical-representation-of-signal-1.1\"><span class=\"toc-item-num\">1.1&nbsp;&nbsp;</span>Graphical representation of signal</a></span></li><li><span><a href=\"#Function-comp_tonality\" data-toc-modified-id=\"Function-comp_tonality-1.2\"><span class=\"toc-item-num\">1.2&nbsp;&nbsp;</span>Function comp_tonality</a></span></li></ul></li>"
   ]
  },
  {
   "cell_type": "markdown",
   "id": "562b5eec",
   "metadata": {},
   "source": [
    "# How to compute acoustic Tonality\n",
    "This tutorial explains how to use MOSQITO to calculate the frequency position of a pop-up tone using the Inspection Method described in Annex K of the ISO 1996-2 standard. In order to detect the existence of tonality, it's necessary to use other Mosqito functions, namely the \"load\" function and the \"comp-third_spec\" function. For more information, please refer to the documentation.\n",
    "\n",
    "## Using the function library\n",
    "\n",
    "First, we import the Mosqito functions and the signal we are going to use for the tutorial, in this case a pure tone of 1 KHz@60dB (.wav file)"
   ]
  },
  {
   "cell_type": "code",
   "execution_count": 6,
   "id": "f907a5b7",
   "metadata": {},
   "outputs": [],
   "source": [
    "# import Mosqito funtions\n",
    "from mosqito.functions.oct3filter.comp_third_spectrum import comp_third_spec\n",
    "from mosqito.functions.shared.load import load\n",
    "\n",
    "# Define path to the .wav file\n",
    "# To be replaced by your own path\n",
    "path = \"1KHZ60DB.WAV\"\n",
    "\n",
    "# load and obtain the signal data and its sampling frequency.\n",
    "sig, fs = load(True, path, calib=1)\n"
   ]
  },
  {
   "cell_type": "markdown",
   "id": "d63a60ec",
   "metadata": {},
   "source": [
    "### Graphical representation of the signal\n",
    "We represent the signal to visually detect the presence of a prominent tone (this step is not necessary for the operation of the \"comp_tonality\" function)."
   ]
  },
  {
   "cell_type": "code",
   "execution_count": 7,
   "id": "55d07470",
   "metadata": {},
   "outputs": [
    {
     "data": {
      "image/png": "[encoded data removed]",
      "text/plain": [
       "<Figure size 432x288 with 1 Axes>"
      ]
     },
     "metadata": {
      "needs_background": "light"
     },
     "output_type": "display_data"
    }
   ],
   "source": [
    "# Import useful packages\n",
    "import matplotlib.pyplot as plt\n",
    "import numpy as ny\n",
    "\n",
    "#-- we obtain the data of the Lp in thirds of octave of the signal of which \n",
    "#-- we want to know the prominent tones\n",
    "third_spec = comp_third_spec(is_stationary=True, signal=sig, fs=fs)\n",
    "\n",
    "# -- Obtain the lists of the central frequencies and the average Lp\n",
    "freqs = third_spec[\"freqs\"]\n",
    "values = third_spec[\"values\"]\n",
    "        \n",
    "# Create the graph\n",
    "plt.stem(freqs, values)\n",
    "plt.semilogx()\n",
    "\n",
    "## y-axis legend\n",
    "plt.ylabel('Averaged Sound Pressure Level - Lp')\n",
    " \n",
    "## x-axis legend\n",
    "plt.xlabel('Center Frequency')\n",
    " \n",
    "## Graphic Title\n",
    "plt.title('Spectrum Third Octave Band 1KHz@60dB')\n",
    " \n",
    "## Show Graph\n",
    "plt.show()\n",
    "\n"
   ]
  },
  {
   "cell_type": "markdown",
   "id": "74d05183",
   "metadata": {},
   "source": [
    "Visually we can see that there is a prominent tone around 1 KHz with a sound pressure level of 60 dB."
   ]
  },
  {
   "cell_type": "markdown",
   "id": "ccb6958f",
   "metadata": {},
   "source": [
    "### Function comp_tonality\n",
    "Now let's check that using the Mosqito function \"comp_tonality\" we will obtain the same result."
   ]
  },
  {
   "cell_type": "code",
   "execution_count": 9,
   "id": "c16952fc",
   "metadata": {},
   "outputs": [
    {
     "name": "stdout",
     "output_type": "stream",
     "text": [
      "----RESULT-----\n",
      "{1000.0: 63.962211067656554}\n",
      "---------------\n"
     ]
    }
   ],
   "source": [
    "# Import function for detection of prominent tones\n",
    "from comp_tonality import comp_tonality\n",
    "\n",
    "tones = comp_tonality(sig, fs)\n",
    "print(\"----RESULT-----\")\n",
    "print(tones)\n",
    "print(\"---------------\")"
   ]
  }
 ],
 "metadata": {
  "kernelspec": {
   "display_name": "Python 3",
   "language": "python",
   "name": "python3"
  },
  "language_info": {
   "codemirror_mode": {
    "name": "ipython",
    "version": 3
   },
   "file_extension": ".py",
   "mimetype": "text/x-python",
   "name": "python",
   "nbconvert_exporter": "python",
   "pygments_lexer": "ipython3",
   "version": "3.8.8"
  }
 },
 "nbformat": 4,
 "nbformat_minor": 5
}
