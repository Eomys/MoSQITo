{
 "cells": [
  {
   "cell_type": "markdown",
   "id": "8c6a1bc2",
   "metadata": {},
   "source": [
    "<h1>Table of Contents<span class=\"tocSkip\"></span></h1>\n",
    "<div class=\"toc\"><ul class=\"toc-item\"><li><span><a href=\"#Using-the-function-library\" data-toc-modified-id=\"Using-the-function-library-1\"><span class=\"toc-item-num\">1&nbsp;&nbsp;</span>Using the function library</a></span><ul class=\"toc-item\"><li><span><a href=\"#Graphical-representation-of-signal\" data-toc-modified-id=\"Graphical-representation-of-signal-1.1\"><span class=\"toc-item-num\">1.1&nbsp;&nbsp;</span>Graphical representation of signal</a></span></li><li><span><a href=\"#Function-comp_tonality\" data-toc-modified-id=\"Function-comp_tonality-1.2\"><span class=\"toc-item-num\">1.2&nbsp;&nbsp;</span>Function comp_tonality</a></span></li></ul></li>"
   ]
  },
  {
   "cell_type": "markdown",
   "id": "562b5eec",
   "metadata": {},
   "source": [
    "# How to compute acoustic Tonality\n",
    "This tutorial explains how to use MOSQITO to calculate the frequency position of a pop-up tone using the Inspection Method described in Annex K of the ISO 1996-2 standard. In order to detect the existence of tonality, it's necessary to use other Mosqito functions, namely the \"load\" function and the \"comp-third_spec\" function. For more information, please refer to the documentation.\n",
    "\n",
    "## Using the function library\n",
    "\n",
    "First, we import the Mosqito functions and the signal we are going to use for the tutorial, in this case a pure tone of 1 KHz@60dB (.wav file)"
   ]
  },
  {
   "cell_type": "code",
   "execution_count": 1,
   "id": "f907a5b7",
   "metadata": {},
   "outputs": [
    {
     "name": "stdout",
     "output_type": "stream",
     "text": [
      "Signal resampled to 48 kHz to allow calculation.\n"
     ]
    }
   ],
   "source": [
    "# import Mosqito funtions\n",
    "from mosqito.functions.oct3filter.comp_third_spectrum import comp_third_spec\n",
    "from mosqito.functions.shared.load import load\n",
    "\n",
    "# Define path to the .wav file\n",
    "# To be replaced by your own path\n",
    "path = \"1KHZ60DB.WAV\"\n",
    "\n",
    "# load and obtain the signal data and its sampling frequency.\n",
    "sig, fs = load(True, path, calib=1)\n"
   ]
  },
  {
   "cell_type": "markdown",
   "id": "d63a60ec",
   "metadata": {},
   "source": [
    "### Graphical representation of the signal\n",
    "We represent the signal to visually detect the presence of a prominent tone (this step is not necessary for the operation of the \"comp_tonality\" function)."
   ]
  },
  {
   "cell_type": "code",
   "execution_count": 2,
   "id": "55d07470",
   "metadata": {},
   "outputs": [
    {
     "ename": "ValueError",
     "evalue": "The length of the input vector x must be greater than padlen, which is 27.",
     "output_type": "error",
     "traceback": [
      "\u001b[1;31m---------------------------------------------------------------------------\u001b[0m",
      "\u001b[1;31mValueError\u001b[0m                                Traceback (most recent call last)",
      "\u001b[1;32m<ipython-input-2-856d96485a90>\u001b[0m in \u001b[0;36m<module>\u001b[1;34m\u001b[0m\n\u001b[0;32m      5\u001b[0m \u001b[1;31m#-- we obtain the data of the Lp in thirds of octave of the signal of which\u001b[0m\u001b[1;33m\u001b[0m\u001b[1;33m\u001b[0m\u001b[1;33m\u001b[0m\u001b[0m\n\u001b[0;32m      6\u001b[0m \u001b[1;31m#-- we want to know the prominent tones\u001b[0m\u001b[1;33m\u001b[0m\u001b[1;33m\u001b[0m\u001b[1;33m\u001b[0m\u001b[0m\n\u001b[1;32m----> 7\u001b[1;33m \u001b[0mthird_spec\u001b[0m \u001b[1;33m=\u001b[0m \u001b[0mcomp_third_spec\u001b[0m\u001b[1;33m(\u001b[0m\u001b[0mis_stationary\u001b[0m\u001b[1;33m=\u001b[0m\u001b[1;32mTrue\u001b[0m\u001b[1;33m,\u001b[0m \u001b[0msignal\u001b[0m\u001b[1;33m=\u001b[0m\u001b[0msig\u001b[0m\u001b[1;33m,\u001b[0m \u001b[0mfs\u001b[0m\u001b[1;33m=\u001b[0m\u001b[0mfs\u001b[0m\u001b[1;33m)\u001b[0m\u001b[1;33m\u001b[0m\u001b[1;33m\u001b[0m\u001b[0m\n\u001b[0m\u001b[0;32m      8\u001b[0m \u001b[1;33m\u001b[0m\u001b[0m\n\u001b[0;32m      9\u001b[0m \u001b[1;31m# -- Obtain the lists of the central frequencies and the average Lp\u001b[0m\u001b[1;33m\u001b[0m\u001b[1;33m\u001b[0m\u001b[1;33m\u001b[0m\u001b[0m\n",
      "\u001b[1;32m~\\anaconda3\\lib\\site-packages\\mosqito\\functions\\oct3filter\\comp_third_spectrum.py\u001b[0m in \u001b[0;36mcomp_third_spec\u001b[1;34m(is_stationary, signal, fs)\u001b[0m\n\u001b[0;32m     39\u001b[0m \u001b[1;33m\u001b[0m\u001b[0m\n\u001b[0;32m     40\u001b[0m     \u001b[1;32mif\u001b[0m \u001b[0mis_stationary\u001b[0m \u001b[1;33m==\u001b[0m \u001b[1;32mTrue\u001b[0m\u001b[1;33m:\u001b[0m\u001b[1;33m\u001b[0m\u001b[1;33m\u001b[0m\u001b[0m\n\u001b[1;32m---> 41\u001b[1;33m         \u001b[0mspec_third\u001b[0m\u001b[1;33m,\u001b[0m \u001b[0mthird_axis\u001b[0m \u001b[1;33m=\u001b[0m \u001b[0moct3spec\u001b[0m\u001b[1;33m(\u001b[0m\u001b[0msignal\u001b[0m\u001b[1;33m,\u001b[0m \u001b[0mfs\u001b[0m\u001b[1;33m)\u001b[0m\u001b[1;33m\u001b[0m\u001b[1;33m\u001b[0m\u001b[0m\n\u001b[0m\u001b[0;32m     42\u001b[0m         \u001b[0mtime_axis\u001b[0m \u001b[1;33m=\u001b[0m \u001b[1;33m[\u001b[0m\u001b[1;33m]\u001b[0m\u001b[1;33m\u001b[0m\u001b[1;33m\u001b[0m\u001b[0m\n\u001b[0;32m     43\u001b[0m     \u001b[1;32melif\u001b[0m \u001b[0mis_stationary\u001b[0m \u001b[1;33m==\u001b[0m \u001b[1;32mFalse\u001b[0m\u001b[1;33m:\u001b[0m\u001b[1;33m\u001b[0m\u001b[1;33m\u001b[0m\u001b[0m\n",
      "\u001b[1;32m~\\anaconda3\\lib\\site-packages\\mosqito\\functions\\oct3filter\\oct3spec.py\u001b[0m in \u001b[0;36moct3spec\u001b[1;34m(sig, fs, fc_min, fc_max, sig_type, dec_factor)\u001b[0m\n\u001b[0;32m    141\u001b[0m     \u001b[0mi\u001b[0m \u001b[1;33m=\u001b[0m \u001b[1;36m0\u001b[0m\u001b[1;33m\u001b[0m\u001b[1;33m\u001b[0m\u001b[0m\n\u001b[0;32m    142\u001b[0m     \u001b[1;32mfor\u001b[0m \u001b[0mfc\u001b[0m \u001b[1;32min\u001b[0m \u001b[0mfexact\u001b[0m\u001b[1;33m:\u001b[0m\u001b[1;33m\u001b[0m\u001b[1;33m\u001b[0m\u001b[0m\n\u001b[1;32m--> 143\u001b[1;33m         \u001b[0mspec\u001b[0m\u001b[1;33m[\u001b[0m\u001b[0mi\u001b[0m\u001b[1;33m,\u001b[0m \u001b[1;33m:\u001b[0m\u001b[1;33m]\u001b[0m \u001b[1;33m=\u001b[0m \u001b[0moct3level\u001b[0m\u001b[1;33m(\u001b[0m\u001b[0msig\u001b[0m\u001b[1;33m,\u001b[0m \u001b[0mfs\u001b[0m\u001b[1;33m,\u001b[0m \u001b[0mfc\u001b[0m\u001b[1;33m,\u001b[0m \u001b[0msig_type\u001b[0m\u001b[1;33m,\u001b[0m \u001b[0mdec_factor\u001b[0m\u001b[1;33m)\u001b[0m\u001b[1;33m\u001b[0m\u001b[1;33m\u001b[0m\u001b[0m\n\u001b[0m\u001b[0;32m    144\u001b[0m         \u001b[0mi\u001b[0m \u001b[1;33m+=\u001b[0m \u001b[1;36m1\u001b[0m\u001b[1;33m\u001b[0m\u001b[1;33m\u001b[0m\u001b[0m\n\u001b[0;32m    145\u001b[0m \u001b[1;33m\u001b[0m\u001b[0m\n",
      "\u001b[1;32m~\\anaconda3\\lib\\site-packages\\mosqito\\functions\\oct3filter\\oct3level.py\u001b[0m in \u001b[0;36moct3level\u001b[1;34m(sig, fs, fc, sig_type, dec_factor)\u001b[0m\n\u001b[0;32m     86\u001b[0m     \u001b[1;31m# Downsample the signal\u001b[0m\u001b[1;33m\u001b[0m\u001b[1;33m\u001b[0m\u001b[1;33m\u001b[0m\u001b[0m\n\u001b[0;32m     87\u001b[0m     \u001b[1;32mif\u001b[0m \u001b[0mfs\u001b[0m \u001b[1;33m!=\u001b[0m \u001b[0mfs_sub\u001b[0m\u001b[1;33m:\u001b[0m\u001b[1;33m\u001b[0m\u001b[1;33m\u001b[0m\u001b[0m\n\u001b[1;32m---> 88\u001b[1;33m         \u001b[0msig\u001b[0m \u001b[1;33m=\u001b[0m \u001b[0msignal\u001b[0m\u001b[1;33m.\u001b[0m\u001b[0mdecimate\u001b[0m\u001b[1;33m(\u001b[0m\u001b[0msig\u001b[0m\u001b[1;33m,\u001b[0m \u001b[0mint\u001b[0m\u001b[1;33m(\u001b[0m\u001b[0mfs\u001b[0m \u001b[1;33m/\u001b[0m \u001b[0mfs_sub\u001b[0m\u001b[1;33m)\u001b[0m\u001b[1;33m)\u001b[0m\u001b[1;33m\u001b[0m\u001b[1;33m\u001b[0m\u001b[0m\n\u001b[0m\u001b[0;32m     89\u001b[0m     \u001b[1;31m# Filter the signal\u001b[0m\u001b[1;33m\u001b[0m\u001b[1;33m\u001b[0m\u001b[1;33m\u001b[0m\u001b[0m\n\u001b[0;32m     90\u001b[0m     \u001b[0msig_filt\u001b[0m \u001b[1;33m=\u001b[0m \u001b[0msignal\u001b[0m\u001b[1;33m.\u001b[0m\u001b[0mlfilter\u001b[0m\u001b[1;33m(\u001b[0m\u001b[0mb\u001b[0m\u001b[1;33m,\u001b[0m \u001b[0ma\u001b[0m\u001b[1;33m,\u001b[0m \u001b[0msig\u001b[0m\u001b[1;33m)\u001b[0m\u001b[1;33m\u001b[0m\u001b[1;33m\u001b[0m\u001b[0m\n",
      "\u001b[1;32m~\\anaconda3\\lib\\site-packages\\scipy\\signal\\signaltools.py\u001b[0m in \u001b[0;36mdecimate\u001b[1;34m(x, q, n, ftype, axis, zero_phase)\u001b[0m\n\u001b[0;32m   4417\u001b[0m     \u001b[1;32melse\u001b[0m\u001b[1;33m:\u001b[0m  \u001b[1;31m# IIR case\u001b[0m\u001b[1;33m\u001b[0m\u001b[1;33m\u001b[0m\u001b[0m\n\u001b[0;32m   4418\u001b[0m         \u001b[1;32mif\u001b[0m \u001b[0mzero_phase\u001b[0m\u001b[1;33m:\u001b[0m\u001b[1;33m\u001b[0m\u001b[1;33m\u001b[0m\u001b[0m\n\u001b[1;32m-> 4419\u001b[1;33m             \u001b[0my\u001b[0m \u001b[1;33m=\u001b[0m \u001b[0mfiltfilt\u001b[0m\u001b[1;33m(\u001b[0m\u001b[0mb\u001b[0m\u001b[1;33m,\u001b[0m \u001b[0ma\u001b[0m\u001b[1;33m,\u001b[0m \u001b[0mx\u001b[0m\u001b[1;33m,\u001b[0m \u001b[0maxis\u001b[0m\u001b[1;33m=\u001b[0m\u001b[0maxis\u001b[0m\u001b[1;33m)\u001b[0m\u001b[1;33m\u001b[0m\u001b[1;33m\u001b[0m\u001b[0m\n\u001b[0m\u001b[0;32m   4420\u001b[0m         \u001b[1;32melse\u001b[0m\u001b[1;33m:\u001b[0m\u001b[1;33m\u001b[0m\u001b[1;33m\u001b[0m\u001b[0m\n\u001b[0;32m   4421\u001b[0m             \u001b[0my\u001b[0m \u001b[1;33m=\u001b[0m \u001b[0mlfilter\u001b[0m\u001b[1;33m(\u001b[0m\u001b[0mb\u001b[0m\u001b[1;33m,\u001b[0m \u001b[0ma\u001b[0m\u001b[1;33m,\u001b[0m \u001b[0mx\u001b[0m\u001b[1;33m,\u001b[0m \u001b[0maxis\u001b[0m\u001b[1;33m=\u001b[0m\u001b[0maxis\u001b[0m\u001b[1;33m)\u001b[0m\u001b[1;33m\u001b[0m\u001b[1;33m\u001b[0m\u001b[0m\n",
      "\u001b[1;32m~\\anaconda3\\lib\\site-packages\\scipy\\signal\\signaltools.py\u001b[0m in \u001b[0;36mfiltfilt\u001b[1;34m(b, a, x, axis, padtype, padlen, method, irlen)\u001b[0m\n\u001b[0;32m   4027\u001b[0m \u001b[1;33m\u001b[0m\u001b[0m\n\u001b[0;32m   4028\u001b[0m     \u001b[1;31m# method == \"pad\"\u001b[0m\u001b[1;33m\u001b[0m\u001b[1;33m\u001b[0m\u001b[1;33m\u001b[0m\u001b[0m\n\u001b[1;32m-> 4029\u001b[1;33m     edge, ext = _validate_pad(padtype, padlen, x, axis,\n\u001b[0m\u001b[0;32m   4030\u001b[0m                               ntaps=max(len(a), len(b)))\n\u001b[0;32m   4031\u001b[0m \u001b[1;33m\u001b[0m\u001b[0m\n",
      "\u001b[1;32m~\\anaconda3\\lib\\site-packages\\scipy\\signal\\signaltools.py\u001b[0m in \u001b[0;36m_validate_pad\u001b[1;34m(padtype, padlen, x, axis, ntaps)\u001b[0m\n\u001b[0;32m   4077\u001b[0m     \u001b[1;31m# x's 'axis' dimension must be bigger than edge.\u001b[0m\u001b[1;33m\u001b[0m\u001b[1;33m\u001b[0m\u001b[1;33m\u001b[0m\u001b[0m\n\u001b[0;32m   4078\u001b[0m     \u001b[1;32mif\u001b[0m \u001b[0mx\u001b[0m\u001b[1;33m.\u001b[0m\u001b[0mshape\u001b[0m\u001b[1;33m[\u001b[0m\u001b[0maxis\u001b[0m\u001b[1;33m]\u001b[0m \u001b[1;33m<=\u001b[0m \u001b[0medge\u001b[0m\u001b[1;33m:\u001b[0m\u001b[1;33m\u001b[0m\u001b[1;33m\u001b[0m\u001b[0m\n\u001b[1;32m-> 4079\u001b[1;33m         raise ValueError(\"The length of the input vector x must be greater \"\n\u001b[0m\u001b[0;32m   4080\u001b[0m                          \"than padlen, which is %d.\" % edge)\n\u001b[0;32m   4081\u001b[0m \u001b[1;33m\u001b[0m\u001b[0m\n",
      "\u001b[1;31mValueError\u001b[0m: The length of the input vector x must be greater than padlen, which is 27."
     ]
    }
   ],
   "source": [
    "# Import useful packages\n",
    "import matplotlib.pyplot as plt\n",
    "import numpy as ny\n",
    "\n",
    "#-- we obtain the data of the Lp in thirds of octave of the signal of which \n",
    "#-- we want to know the prominent tones\n",
    "third_spec = comp_third_spec(is_stationary=True, signal=sig, fs=fs)\n",
    "\n",
    "# -- Obtain the lists of the central frequencies and the average Lp\n",
    "freqs = third_spec[\"freqs\"]\n",
    "values = third_spec[\"values\"]\n",
    "        \n",
    "# Create the graph\n",
    "plt.stem(freqs, values)\n",
    "plt.semilogx()\n",
    "\n",
    "## y-axis legend\n",
    "plt.ylabel('Averaged Sound Pressure Level - Lp')\n",
    " \n",
    "## x-axis legend\n",
    "plt.xlabel('Center Frequency')\n",
    " \n",
    "## Graphic Title\n",
    "plt.title('Spectrum Third Octave Band 1KHz@60dB')\n",
    " \n",
    "## Show Graph\n",
    "plt.show()\n",
    "\n"
   ]
  },
  {
   "cell_type": "markdown",
   "id": "74d05183",
   "metadata": {},
   "source": [
    "Visually we can see that there is a prominent tone around 1 KHz with a sound pressure level of 60 dB."
   ]
  },
  {
   "cell_type": "markdown",
   "id": "ccb6958f",
   "metadata": {},
   "source": [
    "### Function comp_tonality\n",
    "Now let's check that using the Mosqito function \"comp_tonality\" we will obtain the same result."
   ]
  },
  {
   "cell_type": "code",
   "execution_count": 9,
   "id": "c16952fc",
   "metadata": {},
   "outputs": [
    {
     "name": "stdout",
     "output_type": "stream",
     "text": [
      "----RESULT-----\n",
      "{1000.0: 63.962211067656554}\n",
      "---------------\n"
     ]
    }
   ],
   "source": [
    "# Import function for detection of prominent tones\n",
    "from comp_tonality import comp_tonality\n",
    "\n",
    "tones = comp_tonality(sig, fs)\n",
    "print(\"----RESULT-----\")\n",
    "print(tones)\n",
    "print(\"---------------\")"
   ]
  },
  {
   "cell_type": "code",
   "execution_count": null,
   "id": "907d15ef",
   "metadata": {},
   "outputs": [],
   "source": []
  }
 ],
 "metadata": {
  "kernelspec": {
   "display_name": "Python 3 (ipykernel)",
   "language": "python",
   "name": "python3"
  },
  "language_info": {
   "codemirror_mode": {
    "name": "ipython",
    "version": 3
   },
   "file_extension": ".py",
   "mimetype": "text/x-python",
   "name": "python",
   "nbconvert_exporter": "python",
   "pygments_lexer": "ipython3",
   "version": "3.8.8"
  }
 },
 "nbformat": 4,
 "nbformat_minor": 5
}
